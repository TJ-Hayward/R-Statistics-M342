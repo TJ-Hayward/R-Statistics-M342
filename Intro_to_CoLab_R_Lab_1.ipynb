{
  "cells": [
    {
      "cell_type": "markdown",
      "metadata": {
        "id": "55H-GdM5Nmsa"
      },
      "source": [
        "# Lab 1: R in CoLab\n",
        "This is my first R notebook in CoLab. Let's first understand what version of R we have:"
      ]
    },
    {
      "cell_type": "code",
      "execution_count": 1,
      "metadata": {
        "id": "cRS9ycz1mpKR",
        "vscode": {
          "languageId": "r"
        }
      },
      "outputs": [
        {
          "data": {
            "text/html": [
              "'R version 4.2.1 (2022-06-23)'"
            ],
            "text/latex": [
              "'R version 4.2.1 (2022-06-23)'"
            ],
            "text/markdown": [
              "'R version 4.2.1 (2022-06-23)'"
            ],
            "text/plain": [
              "[1] \"R version 4.2.1 (2022-06-23)\""
            ]
          },
          "metadata": {},
          "output_type": "display_data"
        }
      ],
      "source": [
        "R.version.string"
      ]
    },
    {
      "cell_type": "markdown",
      "metadata": {
        "id": "_2vBWl6_mv20"
      },
      "source": [
        "To understand which packages are already installed we can use the following command:"
      ]
    },
    {
      "cell_type": "code",
      "execution_count": 2,
      "metadata": {
        "id": "8AiEQIMmnCDv",
        "vscode": {
          "languageId": "r"
        }
      },
      "outputs": [
        {
          "name": "stdout",
          "output_type": "stream",
          "text": [
            "               Package         \n",
            "askpass        \"askpass\"       \n",
            "backports      \"backports\"     \n",
            "base           \"base\"          \n",
            "base64enc      \"base64enc\"     \n",
            "boot           \"boot\"          \n",
            "brew           \"brew\"          \n",
            "brio           \"brio\"          \n",
            "bslib          \"bslib\"         \n",
            "cachem         \"cachem\"        \n",
            "callr          \"callr\"         \n",
            "class          \"class\"         \n",
            "cli            \"cli\"           \n",
            "clipr          \"clipr\"         \n",
            "cluster        \"cluster\"       \n",
            "codetools      \"codetools\"     \n",
            "collections    \"collections\"   \n",
            "commonmark     \"commonmark\"    \n",
            "compiler       \"compiler\"      \n",
            "cpp11          \"cpp11\"         \n",
            "crayon         \"crayon\"        \n",
            "credentials    \"credentials\"   \n",
            "curl           \"curl\"          \n",
            "cyclocomp      \"cyclocomp\"     \n",
            "datasets       \"datasets\"      \n",
            "desc           \"desc\"          \n",
            "devtools       \"devtools\"      \n",
            "diffobj        \"diffobj\"       \n",
            "digest         \"digest\"        \n",
            "downlit        \"downlit\"       \n",
            "ellipsis       \"ellipsis\"      \n",
            "evaluate       \"evaluate\"      \n",
            "fansi          \"fansi\"         \n",
            "fastmap        \"fastmap\"       \n",
            "fontawesome    \"fontawesome\"   \n",
            "foreign        \"foreign\"       \n",
            "fs             \"fs\"            \n",
            "gert           \"gert\"          \n",
            "gh             \"gh\"            \n",
            "gitcreds       \"gitcreds\"      \n",
            "glue           \"glue\"          \n",
            "graphics       \"graphics\"      \n",
            "grDevices      \"grDevices\"     \n",
            "grid           \"grid\"          \n",
            "highr          \"highr\"         \n",
            "htmltools      \"htmltools\"     \n",
            "htmlwidgets    \"htmlwidgets\"   \n",
            "httpuv         \"httpuv\"        \n",
            "httr           \"httr\"          \n",
            "ini            \"ini\"           \n",
            "IRdisplay      \"IRdisplay\"     \n",
            "IRkernel       \"IRkernel\"      \n",
            "jquerylib      \"jquerylib\"     \n",
            "jsonlite       \"jsonlite\"      \n",
            "KernSmooth     \"KernSmooth\"    \n",
            "knitr          \"knitr\"         \n",
            "languageserver \"languageserver\"\n",
            "later          \"later\"         \n",
            "lattice        \"lattice\"       \n",
            "lazyeval       \"lazyeval\"      \n",
            "lifecycle      \"lifecycle\"     \n",
            "lintr          \"lintr\"         \n",
            "magrittr       \"magrittr\"      \n",
            "MASS           \"MASS\"          \n",
            "Matrix         \"Matrix\"        \n",
            "memoise        \"memoise\"       \n",
            "methods        \"methods\"       \n",
            "mgcv           \"mgcv\"          \n",
            "mime           \"mime\"          \n",
            "miniUI         \"miniUI\"        \n",
            "nlme           \"nlme\"          \n",
            "nnet           \"nnet\"          \n",
            "openssl        \"openssl\"       \n",
            "parallel       \"parallel\"      \n",
            "pbdZMQ         \"pbdZMQ\"        \n",
            "pillar         \"pillar\"        \n",
            "pkgbuild       \"pkgbuild\"      \n",
            "pkgconfig      \"pkgconfig\"     \n",
            "pkgdown        \"pkgdown\"       \n",
            "pkgload        \"pkgload\"       \n",
            "praise         \"praise\"        \n",
            "prettyunits    \"prettyunits\"   \n",
            "processx       \"processx\"      \n",
            "profvis        \"profvis\"       \n",
            "promises       \"promises\"      \n",
            "ps             \"ps\"            \n",
            "purrr          \"purrr\"         \n",
            "R.cache        \"R.cache\"       \n",
            "R.methodsS3    \"R.methodsS3\"   \n",
            "R.oo           \"R.oo\"          \n",
            "R.utils        \"R.utils\"       \n",
            "R6             \"R6\"            \n",
            "ragg           \"ragg\"          \n",
            "rappdirs       \"rappdirs\"      \n",
            "rcmdcheck      \"rcmdcheck\"     \n",
            "Rcpp           \"Rcpp\"          \n",
            "rematch2       \"rematch2\"      \n",
            "remotes        \"remotes\"       \n",
            "repr           \"repr\"          \n",
            "rex            \"rex\"           \n",
            "rlang          \"rlang\"         \n",
            "rmarkdown      \"rmarkdown\"     \n",
            "roxygen2       \"roxygen2\"      \n",
            "rpart          \"rpart\"         \n",
            "rprojroot      \"rprojroot\"     \n",
            "rstudioapi     \"rstudioapi\"    \n",
            "rversions      \"rversions\"     \n",
            "sass           \"sass\"          \n",
            "sessioninfo    \"sessioninfo\"   \n",
            "shiny          \"shiny\"         \n",
            "sourcetools    \"sourcetools\"   \n",
            "spatial        \"spatial\"       \n",
            "splines        \"splines\"       \n",
            "stats          \"stats\"         \n",
            "stats4         \"stats4\"        \n",
            "stringi        \"stringi\"       \n",
            "stringr        \"stringr\"       \n",
            "styler         \"styler\"        \n",
            "survival       \"survival\"      \n",
            "sys            \"sys\"           \n",
            "systemfonts    \"systemfonts\"   \n",
            "tcltk          \"tcltk\"         \n",
            "testthat       \"testthat\"      \n",
            "textshaping    \"textshaping\"   \n",
            "tibble         \"tibble\"        \n",
            "tinytex        \"tinytex\"       \n",
            "tools          \"tools\"         \n",
            "urlchecker     \"urlchecker\"    \n",
            "usethis        \"usethis\"       \n",
            "utf8           \"utf8\"          \n",
            "utils          \"utils\"         \n",
            "uuid           \"uuid\"          \n",
            "vctrs          \"vctrs\"         \n",
            "waldo          \"waldo\"         \n",
            "whisker        \"whisker\"       \n",
            "withr          \"withr\"         \n",
            "xfun           \"xfun\"          \n",
            "xml2           \"xml2\"          \n",
            "xmlparsedata   \"xmlparsedata\"  \n",
            "xopen          \"xopen\"         \n",
            "xtable         \"xtable\"        \n",
            "yaml           \"yaml\"          \n",
            "zip            \"zip\"           \n",
            "               LibPath                                                               \n",
            "askpass        \"/Library/Frameworks/R.framework/Versions/4.2-arm64/Resources/library\"\n",
            "backports      \"/Library/Frameworks/R.framework/Versions/4.2-arm64/Resources/library\"\n",
            "base           \"/Library/Frameworks/R.framework/Versions/4.2-arm64/Resources/library\"\n",
            "base64enc      \"/Library/Frameworks/R.framework/Versions/4.2-arm64/Resources/library\"\n",
            "boot           \"/Library/Frameworks/R.framework/Versions/4.2-arm64/Resources/library\"\n",
            "brew           \"/Library/Frameworks/R.framework/Versions/4.2-arm64/Resources/library\"\n",
            "brio           \"/Library/Frameworks/R.framework/Versions/4.2-arm64/Resources/library\"\n",
            "bslib          \"/Library/Frameworks/R.framework/Versions/4.2-arm64/Resources/library\"\n",
            "cachem         \"/Library/Frameworks/R.framework/Versions/4.2-arm64/Resources/library\"\n",
            "callr          \"/Library/Frameworks/R.framework/Versions/4.2-arm64/Resources/library\"\n",
            "class          \"/Library/Frameworks/R.framework/Versions/4.2-arm64/Resources/library\"\n",
            "cli            \"/Library/Frameworks/R.framework/Versions/4.2-arm64/Resources/library\"\n",
            "clipr          \"/Library/Frameworks/R.framework/Versions/4.2-arm64/Resources/library\"\n",
            "cluster        \"/Library/Frameworks/R.framework/Versions/4.2-arm64/Resources/library\"\n",
            "codetools      \"/Library/Frameworks/R.framework/Versions/4.2-arm64/Resources/library\"\n",
            "collections    \"/Library/Frameworks/R.framework/Versions/4.2-arm64/Resources/library\"\n",
            "commonmark     \"/Library/Frameworks/R.framework/Versions/4.2-arm64/Resources/library\"\n",
            "compiler       \"/Library/Frameworks/R.framework/Versions/4.2-arm64/Resources/library\"\n",
            "cpp11          \"/Library/Frameworks/R.framework/Versions/4.2-arm64/Resources/library\"\n",
            "crayon         \"/Library/Frameworks/R.framework/Versions/4.2-arm64/Resources/library\"\n",
            "credentials    \"/Library/Frameworks/R.framework/Versions/4.2-arm64/Resources/library\"\n",
            "curl           \"/Library/Frameworks/R.framework/Versions/4.2-arm64/Resources/library\"\n",
            "cyclocomp      \"/Library/Frameworks/R.framework/Versions/4.2-arm64/Resources/library\"\n",
            "datasets       \"/Library/Frameworks/R.framework/Versions/4.2-arm64/Resources/library\"\n",
            "desc           \"/Library/Frameworks/R.framework/Versions/4.2-arm64/Resources/library\"\n",
            "devtools       \"/Library/Frameworks/R.framework/Versions/4.2-arm64/Resources/library\"\n",
            "diffobj        \"/Library/Frameworks/R.framework/Versions/4.2-arm64/Resources/library\"\n",
            "digest         \"/Library/Frameworks/R.framework/Versions/4.2-arm64/Resources/library\"\n",
            "downlit        \"/Library/Frameworks/R.framework/Versions/4.2-arm64/Resources/library\"\n",
            "ellipsis       \"/Library/Frameworks/R.framework/Versions/4.2-arm64/Resources/library\"\n",
            "evaluate       \"/Library/Frameworks/R.framework/Versions/4.2-arm64/Resources/library\"\n",
            "fansi          \"/Library/Frameworks/R.framework/Versions/4.2-arm64/Resources/library\"\n",
            "fastmap        \"/Library/Frameworks/R.framework/Versions/4.2-arm64/Resources/library\"\n",
            "fontawesome    \"/Library/Frameworks/R.framework/Versions/4.2-arm64/Resources/library\"\n",
            "foreign        \"/Library/Frameworks/R.framework/Versions/4.2-arm64/Resources/library\"\n",
            "fs             \"/Library/Frameworks/R.framework/Versions/4.2-arm64/Resources/library\"\n",
            "gert           \"/Library/Frameworks/R.framework/Versions/4.2-arm64/Resources/library\"\n",
            "gh             \"/Library/Frameworks/R.framework/Versions/4.2-arm64/Resources/library\"\n",
            "gitcreds       \"/Library/Frameworks/R.framework/Versions/4.2-arm64/Resources/library\"\n",
            "glue           \"/Library/Frameworks/R.framework/Versions/4.2-arm64/Resources/library\"\n",
            "graphics       \"/Library/Frameworks/R.framework/Versions/4.2-arm64/Resources/library\"\n",
            "grDevices      \"/Library/Frameworks/R.framework/Versions/4.2-arm64/Resources/library\"\n",
            "grid           \"/Library/Frameworks/R.framework/Versions/4.2-arm64/Resources/library\"\n",
            "highr          \"/Library/Frameworks/R.framework/Versions/4.2-arm64/Resources/library\"\n",
            "htmltools      \"/Library/Frameworks/R.framework/Versions/4.2-arm64/Resources/library\"\n",
            "htmlwidgets    \"/Library/Frameworks/R.framework/Versions/4.2-arm64/Resources/library\"\n",
            "httpuv         \"/Library/Frameworks/R.framework/Versions/4.2-arm64/Resources/library\"\n",
            "httr           \"/Library/Frameworks/R.framework/Versions/4.2-arm64/Resources/library\"\n",
            "ini            \"/Library/Frameworks/R.framework/Versions/4.2-arm64/Resources/library\"\n",
            "IRdisplay      \"/Library/Frameworks/R.framework/Versions/4.2-arm64/Resources/library\"\n",
            "IRkernel       \"/Library/Frameworks/R.framework/Versions/4.2-arm64/Resources/library\"\n",
            "jquerylib      \"/Library/Frameworks/R.framework/Versions/4.2-arm64/Resources/library\"\n",
            "jsonlite       \"/Library/Frameworks/R.framework/Versions/4.2-arm64/Resources/library\"\n",
            "KernSmooth     \"/Library/Frameworks/R.framework/Versions/4.2-arm64/Resources/library\"\n",
            "knitr          \"/Library/Frameworks/R.framework/Versions/4.2-arm64/Resources/library\"\n",
            "languageserver \"/Library/Frameworks/R.framework/Versions/4.2-arm64/Resources/library\"\n",
            "later          \"/Library/Frameworks/R.framework/Versions/4.2-arm64/Resources/library\"\n",
            "lattice        \"/Library/Frameworks/R.framework/Versions/4.2-arm64/Resources/library\"\n",
            "lazyeval       \"/Library/Frameworks/R.framework/Versions/4.2-arm64/Resources/library\"\n",
            "lifecycle      \"/Library/Frameworks/R.framework/Versions/4.2-arm64/Resources/library\"\n",
            "lintr          \"/Library/Frameworks/R.framework/Versions/4.2-arm64/Resources/library\"\n",
            "magrittr       \"/Library/Frameworks/R.framework/Versions/4.2-arm64/Resources/library\"\n",
            "MASS           \"/Library/Frameworks/R.framework/Versions/4.2-arm64/Resources/library\"\n",
            "Matrix         \"/Library/Frameworks/R.framework/Versions/4.2-arm64/Resources/library\"\n",
            "memoise        \"/Library/Frameworks/R.framework/Versions/4.2-arm64/Resources/library\"\n",
            "methods        \"/Library/Frameworks/R.framework/Versions/4.2-arm64/Resources/library\"\n",
            "mgcv           \"/Library/Frameworks/R.framework/Versions/4.2-arm64/Resources/library\"\n",
            "mime           \"/Library/Frameworks/R.framework/Versions/4.2-arm64/Resources/library\"\n",
            "miniUI         \"/Library/Frameworks/R.framework/Versions/4.2-arm64/Resources/library\"\n",
            "nlme           \"/Library/Frameworks/R.framework/Versions/4.2-arm64/Resources/library\"\n",
            "nnet           \"/Library/Frameworks/R.framework/Versions/4.2-arm64/Resources/library\"\n",
            "openssl        \"/Library/Frameworks/R.framework/Versions/4.2-arm64/Resources/library\"\n",
            "parallel       \"/Library/Frameworks/R.framework/Versions/4.2-arm64/Resources/library\"\n",
            "pbdZMQ         \"/Library/Frameworks/R.framework/Versions/4.2-arm64/Resources/library\"\n",
            "pillar         \"/Library/Frameworks/R.framework/Versions/4.2-arm64/Resources/library\"\n",
            "pkgbuild       \"/Library/Frameworks/R.framework/Versions/4.2-arm64/Resources/library\"\n",
            "pkgconfig      \"/Library/Frameworks/R.framework/Versions/4.2-arm64/Resources/library\"\n",
            "pkgdown        \"/Library/Frameworks/R.framework/Versions/4.2-arm64/Resources/library\"\n",
            "pkgload        \"/Library/Frameworks/R.framework/Versions/4.2-arm64/Resources/library\"\n",
            "praise         \"/Library/Frameworks/R.framework/Versions/4.2-arm64/Resources/library\"\n",
            "prettyunits    \"/Library/Frameworks/R.framework/Versions/4.2-arm64/Resources/library\"\n",
            "processx       \"/Library/Frameworks/R.framework/Versions/4.2-arm64/Resources/library\"\n",
            "profvis        \"/Library/Frameworks/R.framework/Versions/4.2-arm64/Resources/library\"\n",
            "promises       \"/Library/Frameworks/R.framework/Versions/4.2-arm64/Resources/library\"\n",
            "ps             \"/Library/Frameworks/R.framework/Versions/4.2-arm64/Resources/library\"\n",
            "purrr          \"/Library/Frameworks/R.framework/Versions/4.2-arm64/Resources/library\"\n",
            "R.cache        \"/Library/Frameworks/R.framework/Versions/4.2-arm64/Resources/library\"\n",
            "R.methodsS3    \"/Library/Frameworks/R.framework/Versions/4.2-arm64/Resources/library\"\n",
            "R.oo           \"/Library/Frameworks/R.framework/Versions/4.2-arm64/Resources/library\"\n",
            "R.utils        \"/Library/Frameworks/R.framework/Versions/4.2-arm64/Resources/library\"\n",
            "R6             \"/Library/Frameworks/R.framework/Versions/4.2-arm64/Resources/library\"\n",
            "ragg           \"/Library/Frameworks/R.framework/Versions/4.2-arm64/Resources/library\"\n",
            "rappdirs       \"/Library/Frameworks/R.framework/Versions/4.2-arm64/Resources/library\"\n",
            "rcmdcheck      \"/Library/Frameworks/R.framework/Versions/4.2-arm64/Resources/library\"\n",
            "Rcpp           \"/Library/Frameworks/R.framework/Versions/4.2-arm64/Resources/library\"\n",
            "rematch2       \"/Library/Frameworks/R.framework/Versions/4.2-arm64/Resources/library\"\n",
            "remotes        \"/Library/Frameworks/R.framework/Versions/4.2-arm64/Resources/library\"\n",
            "repr           \"/Library/Frameworks/R.framework/Versions/4.2-arm64/Resources/library\"\n",
            "rex            \"/Library/Frameworks/R.framework/Versions/4.2-arm64/Resources/library\"\n",
            "rlang          \"/Library/Frameworks/R.framework/Versions/4.2-arm64/Resources/library\"\n",
            "rmarkdown      \"/Library/Frameworks/R.framework/Versions/4.2-arm64/Resources/library\"\n",
            "roxygen2       \"/Library/Frameworks/R.framework/Versions/4.2-arm64/Resources/library\"\n",
            "rpart          \"/Library/Frameworks/R.framework/Versions/4.2-arm64/Resources/library\"\n",
            "rprojroot      \"/Library/Frameworks/R.framework/Versions/4.2-arm64/Resources/library\"\n",
            "rstudioapi     \"/Library/Frameworks/R.framework/Versions/4.2-arm64/Resources/library\"\n",
            "rversions      \"/Library/Frameworks/R.framework/Versions/4.2-arm64/Resources/library\"\n",
            "sass           \"/Library/Frameworks/R.framework/Versions/4.2-arm64/Resources/library\"\n",
            "sessioninfo    \"/Library/Frameworks/R.framework/Versions/4.2-arm64/Resources/library\"\n",
            "shiny          \"/Library/Frameworks/R.framework/Versions/4.2-arm64/Resources/library\"\n",
            "sourcetools    \"/Library/Frameworks/R.framework/Versions/4.2-arm64/Resources/library\"\n",
            "spatial        \"/Library/Frameworks/R.framework/Versions/4.2-arm64/Resources/library\"\n",
            "splines        \"/Library/Frameworks/R.framework/Versions/4.2-arm64/Resources/library\"\n",
            "stats          \"/Library/Frameworks/R.framework/Versions/4.2-arm64/Resources/library\"\n",
            "stats4         \"/Library/Frameworks/R.framework/Versions/4.2-arm64/Resources/library\"\n",
            "stringi        \"/Library/Frameworks/R.framework/Versions/4.2-arm64/Resources/library\"\n",
            "stringr        \"/Library/Frameworks/R.framework/Versions/4.2-arm64/Resources/library\"\n",
            "styler         \"/Library/Frameworks/R.framework/Versions/4.2-arm64/Resources/library\"\n",
            "survival       \"/Library/Frameworks/R.framework/Versions/4.2-arm64/Resources/library\"\n",
            "sys            \"/Library/Frameworks/R.framework/Versions/4.2-arm64/Resources/library\"\n",
            "systemfonts    \"/Library/Frameworks/R.framework/Versions/4.2-arm64/Resources/library\"\n",
            "tcltk          \"/Library/Frameworks/R.framework/Versions/4.2-arm64/Resources/library\"\n",
            "testthat       \"/Library/Frameworks/R.framework/Versions/4.2-arm64/Resources/library\"\n",
            "textshaping    \"/Library/Frameworks/R.framework/Versions/4.2-arm64/Resources/library\"\n",
            "tibble         \"/Library/Frameworks/R.framework/Versions/4.2-arm64/Resources/library\"\n",
            "tinytex        \"/Library/Frameworks/R.framework/Versions/4.2-arm64/Resources/library\"\n",
            "tools          \"/Library/Frameworks/R.framework/Versions/4.2-arm64/Resources/library\"\n",
            "urlchecker     \"/Library/Frameworks/R.framework/Versions/4.2-arm64/Resources/library\"\n",
            "usethis        \"/Library/Frameworks/R.framework/Versions/4.2-arm64/Resources/library\"\n",
            "utf8           \"/Library/Frameworks/R.framework/Versions/4.2-arm64/Resources/library\"\n",
            "utils          \"/Library/Frameworks/R.framework/Versions/4.2-arm64/Resources/library\"\n",
            "uuid           \"/Library/Frameworks/R.framework/Versions/4.2-arm64/Resources/library\"\n",
            "vctrs          \"/Library/Frameworks/R.framework/Versions/4.2-arm64/Resources/library\"\n",
            "waldo          \"/Library/Frameworks/R.framework/Versions/4.2-arm64/Resources/library\"\n",
            "whisker        \"/Library/Frameworks/R.framework/Versions/4.2-arm64/Resources/library\"\n",
            "withr          \"/Library/Frameworks/R.framework/Versions/4.2-arm64/Resources/library\"\n",
            "xfun           \"/Library/Frameworks/R.framework/Versions/4.2-arm64/Resources/library\"\n",
            "xml2           \"/Library/Frameworks/R.framework/Versions/4.2-arm64/Resources/library\"\n",
            "xmlparsedata   \"/Library/Frameworks/R.framework/Versions/4.2-arm64/Resources/library\"\n",
            "xopen          \"/Library/Frameworks/R.framework/Versions/4.2-arm64/Resources/library\"\n",
            "xtable         \"/Library/Frameworks/R.framework/Versions/4.2-arm64/Resources/library\"\n",
            "yaml           \"/Library/Frameworks/R.framework/Versions/4.2-arm64/Resources/library\"\n",
            "zip            \"/Library/Frameworks/R.framework/Versions/4.2-arm64/Resources/library\"\n",
            "               Version      Priority     \n",
            "askpass        \"1.1\"        NA           \n",
            "backports      \"1.4.1\"      NA           \n",
            "base           \"4.2.1\"      \"base\"       \n",
            "base64enc      \"0.1-3\"      NA           \n",
            "boot           \"1.3-28\"     \"recommended\"\n",
            "brew           \"1.0-8\"      NA           \n",
            "brio           \"1.1.3\"      NA           \n",
            "bslib          \"0.4.0\"      NA           \n",
            "cachem         \"1.0.6\"      NA           \n",
            "callr          \"3.7.2\"      NA           \n",
            "class          \"7.3-20\"     \"recommended\"\n",
            "cli            \"3.4.1\"      NA           \n",
            "clipr          \"0.8.0\"      NA           \n",
            "cluster        \"2.1.3\"      \"recommended\"\n",
            "codetools      \"0.2-18\"     \"recommended\"\n",
            "collections    \"0.3.5\"      NA           \n",
            "commonmark     \"1.8.0\"      NA           \n",
            "compiler       \"4.2.1\"      \"base\"       \n",
            "cpp11          \"0.4.2\"      NA           \n",
            "crayon         \"1.5.2\"      NA           \n",
            "credentials    \"1.3.2\"      NA           \n",
            "curl           \"4.3.2\"      NA           \n",
            "cyclocomp      \"1.1.0\"      NA           \n",
            "datasets       \"4.2.1\"      \"base\"       \n",
            "desc           \"1.4.2\"      NA           \n",
            "devtools       \"2.4.4\"      NA           \n",
            "diffobj        \"0.3.5\"      NA           \n",
            "digest         \"0.6.29\"     NA           \n",
            "downlit        \"0.4.2\"      NA           \n",
            "ellipsis       \"0.3.2\"      NA           \n",
            "evaluate       \"0.16\"       NA           \n",
            "fansi          \"1.0.3\"      NA           \n",
            "fastmap        \"1.1.0\"      NA           \n",
            "fontawesome    \"0.3.0\"      NA           \n",
            "foreign        \"0.8-82\"     \"recommended\"\n",
            "fs             \"1.5.2\"      NA           \n",
            "gert           \"1.9.0\"      NA           \n",
            "gh             \"1.3.1\"      NA           \n",
            "gitcreds       \"0.1.2\"      NA           \n",
            "glue           \"1.6.2\"      NA           \n",
            "graphics       \"4.2.1\"      \"base\"       \n",
            "grDevices      \"4.2.1\"      \"base\"       \n",
            "grid           \"4.2.1\"      \"base\"       \n",
            "highr          \"0.9\"        NA           \n",
            "htmltools      \"0.5.3\"      NA           \n",
            "htmlwidgets    \"1.5.4\"      NA           \n",
            "httpuv         \"1.6.6\"      NA           \n",
            "httr           \"1.4.4\"      NA           \n",
            "ini            \"0.3.1\"      NA           \n",
            "IRdisplay      \"1.1\"        NA           \n",
            "IRkernel       \"1.3.0.9000\" NA           \n",
            "jquerylib      \"0.1.4\"      NA           \n",
            "jsonlite       \"1.8.0\"      NA           \n",
            "KernSmooth     \"2.23-20\"    \"recommended\"\n",
            "knitr          \"1.40\"       NA           \n",
            "languageserver \"0.3.13\"     NA           \n",
            "later          \"1.3.0\"      NA           \n",
            "lattice        \"0.20-45\"    \"recommended\"\n",
            "lazyeval       \"0.2.2\"      NA           \n",
            "lifecycle      \"1.0.2\"      NA           \n",
            "lintr          \"3.0.1\"      NA           \n",
            "magrittr       \"2.0.3\"      NA           \n",
            "MASS           \"7.3-57\"     \"recommended\"\n",
            "Matrix         \"1.4-1\"      \"recommended\"\n",
            "memoise        \"2.0.1\"      NA           \n",
            "methods        \"4.2.1\"      \"base\"       \n",
            "mgcv           \"1.8-40\"     \"recommended\"\n",
            "mime           \"0.12\"       NA           \n",
            "miniUI         \"0.1.1.1\"    NA           \n",
            "nlme           \"3.1-157\"    \"recommended\"\n",
            "nnet           \"7.3-17\"     \"recommended\"\n",
            "openssl        \"2.0.3\"      NA           \n",
            "parallel       \"4.2.1\"      \"base\"       \n",
            "pbdZMQ         \"0.3-7\"      NA           \n",
            "pillar         \"1.8.1\"      NA           \n",
            "pkgbuild       \"1.3.1\"      NA           \n",
            "pkgconfig      \"2.0.3\"      NA           \n",
            "pkgdown        \"2.0.6\"      NA           \n",
            "pkgload        \"1.3.0\"      NA           \n",
            "praise         \"1.0.0\"      NA           \n",
            "prettyunits    \"1.1.1\"      NA           \n",
            "processx       \"3.7.0\"      NA           \n",
            "profvis        \"0.3.7\"      NA           \n",
            "promises       \"1.2.0.1\"    NA           \n",
            "ps             \"1.7.1\"      NA           \n",
            "purrr          \"0.3.4\"      NA           \n",
            "R.cache        \"0.16.0\"     NA           \n",
            "R.methodsS3    \"1.8.2\"      NA           \n",
            "R.oo           \"1.25.0\"     NA           \n",
            "R.utils        \"2.12.0\"     NA           \n",
            "R6             \"2.5.1\"      NA           \n",
            "ragg           \"1.2.3\"      NA           \n",
            "rappdirs       \"0.3.3\"      NA           \n",
            "rcmdcheck      \"1.4.0\"      NA           \n",
            "Rcpp           \"1.0.9\"      NA           \n",
            "rematch2       \"2.1.2\"      NA           \n",
            "remotes        \"2.4.2\"      NA           \n",
            "repr           \"1.1.4\"      NA           \n",
            "rex            \"1.2.1\"      NA           \n",
            "rlang          \"1.0.6\"      NA           \n",
            "rmarkdown      \"2.16\"       NA           \n",
            "roxygen2       \"7.2.1\"      NA           \n",
            "rpart          \"4.1.16\"     \"recommended\"\n",
            "rprojroot      \"2.0.3\"      NA           \n",
            "rstudioapi     \"0.14\"       NA           \n",
            "rversions      \"2.1.2\"      NA           \n",
            "sass           \"0.4.2\"      NA           \n",
            "sessioninfo    \"1.2.2\"      NA           \n",
            "shiny          \"1.7.2\"      NA           \n",
            "sourcetools    \"0.1.7\"      NA           \n",
            "spatial        \"7.3-15\"     \"recommended\"\n",
            "splines        \"4.2.1\"      \"base\"       \n",
            "stats          \"4.2.1\"      \"base\"       \n",
            "stats4         \"4.2.1\"      \"base\"       \n",
            "stringi        \"1.7.8\"      NA           \n",
            "stringr        \"1.4.1\"      NA           \n",
            "styler         \"1.7.0\"      NA           \n",
            "survival       \"3.3-1\"      \"recommended\"\n",
            "sys            \"3.4\"        NA           \n",
            "systemfonts    \"1.0.4\"      NA           \n",
            "tcltk          \"4.2.1\"      \"base\"       \n",
            "testthat       \"3.1.4\"      NA           \n",
            "textshaping    \"0.3.6\"      NA           \n",
            "tibble         \"3.1.8\"      NA           \n",
            "tinytex        \"0.42\"       NA           \n",
            "tools          \"4.2.1\"      \"base\"       \n",
            "urlchecker     \"1.0.1\"      NA           \n",
            "usethis        \"2.1.6\"      NA           \n",
            "utf8           \"1.2.2\"      NA           \n",
            "utils          \"4.2.1\"      \"base\"       \n",
            "uuid           \"1.1-0\"      NA           \n",
            "vctrs          \"0.4.2\"      NA           \n",
            "waldo          \"0.4.0\"      NA           \n",
            "whisker        \"0.4\"        NA           \n",
            "withr          \"2.5.0\"      NA           \n",
            "xfun           \"0.33\"       NA           \n",
            "xml2           \"1.3.3\"      NA           \n",
            "xmlparsedata   \"1.0.5\"      NA           \n",
            "xopen          \"1.0.0\"      NA           \n",
            "xtable         \"1.8-4\"      NA           \n",
            "yaml           \"2.3.5\"      NA           \n",
            "zip            \"2.2.1\"      NA           \n",
            "               Depends                                          \n",
            "askpass        NA                                               \n",
            "backports      \"R (>= 3.0.0)\"                                   \n",
            "base           NA                                               \n",
            "base64enc      \"R (>= 2.9.0)\"                                   \n",
            "boot           \"R (>= 3.0.0), graphics, stats\"                  \n",
            "brew           NA                                               \n",
            "brio           NA                                               \n",
            "bslib          \"R (>= 2.10)\"                                    \n",
            "cachem         NA                                               \n",
            "callr          \"R (>= 3.4)\"                                     \n",
            "class          \"R (>= 3.0.0), stats, utils\"                     \n",
            "cli            \"R (>= 3.4)\"                                     \n",
            "clipr          NA                                               \n",
            "cluster        \"R (>= 3.5.0)\"                                   \n",
            "codetools      \"R (>= 2.1)\"                                     \n",
            "collections    NA                                               \n",
            "commonmark     NA                                               \n",
            "compiler       NA                                               \n",
            "cpp11          NA                                               \n",
            "crayon         NA                                               \n",
            "credentials    NA                                               \n",
            "curl           \"R (>= 3.0.0)\"                                   \n",
            "cyclocomp      NA                                               \n",
            "datasets       NA                                               \n",
            "desc           \"R (>= 3.4)\"                                     \n",
            "devtools       \"R (>= 3.0.2), usethis (>= 2.1.6)\"               \n",
            "diffobj        \"R (>= 3.1.0)\"                                   \n",
            "digest         \"R (>= 3.3.0)\"                                   \n",
            "downlit        \"R (>= 3.4.0)\"                                   \n",
            "ellipsis       \"R (>= 3.2)\"                                     \n",
            "evaluate       \"R (>= 3.0.2)\"                                   \n",
            "fansi          \"R (>= 3.1.0)\"                                   \n",
            "fastmap        NA                                               \n",
            "fontawesome    \"R (>= 3.3.0)\"                                   \n",
            "foreign        \"R (>= 4.0.0)\"                                   \n",
            "fs             \"R (>= 3.1)\"                                     \n",
            "gert           NA                                               \n",
            "gh             \"R (>= 3.4)\"                                     \n",
            "gitcreds       \"R (>= 3.4)\"                                     \n",
            "glue           \"R (>= 3.4)\"                                     \n",
            "graphics       NA                                               \n",
            "grDevices      NA                                               \n",
            "grid           NA                                               \n",
            "highr          \"R (>= 3.2.3)\"                                   \n",
            "htmltools      \"R (>= 2.14.1)\"                                  \n",
            "htmlwidgets    NA                                               \n",
            "httpuv         \"R (>= 2.15.1)\"                                  \n",
            "httr           \"R (>= 3.2)\"                                     \n",
            "ini            NA                                               \n",
            "IRdisplay      \"R (>= 3.0.1)\"                                   \n",
            "IRkernel       \"R (>= 3.2.0)\"                                   \n",
            "jquerylib      NA                                               \n",
            "jsonlite       \"methods\"                                        \n",
            "KernSmooth     \"R (>= 2.5.0), stats\"                            \n",
            "knitr          \"R (>= 3.3.0)\"                                   \n",
            "languageserver \"R (>= 3.4.0)\"                                   \n",
            "later          NA                                               \n",
            "lattice        \"R (>= 3.0.0)\"                                   \n",
            "lazyeval       \"R (>= 3.1.0)\"                                   \n",
            "lifecycle      \"R (>= 3.4)\"                                     \n",
            "lintr          \"R (>= 3.2)\"                                     \n",
            "magrittr       \"R (>= 3.4.0)\"                                   \n",
            "MASS           \"R (>= 3.3.0), grDevices, graphics, stats, utils\"\n",
            "Matrix         \"R (>= 3.5.0)\"                                   \n",
            "memoise        NA                                               \n",
            "methods        NA                                               \n",
            "mgcv           \"R (>= 3.6.0), nlme (>= 3.1-64)\"                 \n",
            "mime           NA                                               \n",
            "miniUI         NA                                               \n",
            "nlme           \"R (>= 3.5.0)\"                                   \n",
            "nnet           \"R (>= 3.0.0), stats, utils\"                     \n",
            "openssl        NA                                               \n",
            "parallel       NA                                               \n",
            "pbdZMQ         \"R (>= 3.5.0)\"                                   \n",
            "pillar         NA                                               \n",
            "pkgbuild       \"R (>= 3.1)\"                                     \n",
            "pkgconfig      NA                                               \n",
            "pkgdown        \"R (>= 3.1.0)\"                                   \n",
            "pkgload        \"R (>= 3.4.0)\"                                   \n",
            "praise         NA                                               \n",
            "prettyunits    NA                                               \n",
            "processx       \"R (>= 3.4.0)\"                                   \n",
            "profvis        \"R (>= 3.0)\"                                     \n",
            "promises       NA                                               \n",
            "ps             \"R (>= 3.4)\"                                     \n",
            "purrr          \"R (>= 3.2)\"                                     \n",
            "R.cache        \"R (>= 2.14.0)\"                                  \n",
            "R.methodsS3    \"R (>= 2.13.0)\"                                  \n",
            "R.oo           \"R (>= 2.13.0), R.methodsS3 (>= 1.8.1)\"          \n",
            "R.utils        \"R (>= 2.14.0), R.oo (>= 1.24.0)\"                \n",
            "R6             \"R (>= 3.0)\"                                     \n",
            "ragg           NA                                               \n",
            "rappdirs       \"R (>= 3.2)\"                                     \n",
            "rcmdcheck      NA                                               \n",
            "Rcpp           NA                                               \n",
            "rematch2       NA                                               \n",
            "remotes        \"R (>= 3.0.0)\"                                   \n",
            "repr           \"R (>= 3.0.1)\"                                   \n",
            "rex            NA                                               \n",
            "rlang          \"R (>= 3.4.0)\"                                   \n",
            "rmarkdown      \"R (>= 3.0)\"                                     \n",
            "roxygen2       \"R (>= 3.3)\"                                     \n",
            "rpart          \"R (>= 2.15.0), graphics, stats, grDevices\"      \n",
            "rprojroot      \"R (>= 3.0.0)\"                                   \n",
            "rstudioapi     NA                                               \n",
            "rversions      NA                                               \n",
            "sass           NA                                               \n",
            "sessioninfo    \"R (>= 2.10)\"                                    \n",
            "shiny          \"R (>= 3.0.2), methods\"                          \n",
            "sourcetools    \"R (>= 3.0.2)\"                                   \n",
            "spatial        \"R (>= 3.0.0), graphics, stats, utils\"           \n",
            "splines        NA                                               \n",
            "stats          NA                                               \n",
            "stats4         NA                                               \n",
            "stringi        \"R (>= 3.1)\"                                     \n",
            "stringr        \"R (>= 3.1)\"                                     \n",
            "styler         \"R (>= 3.4.0)\"                                   \n",
            "survival       \"R (>= 3.5.0)\"                                   \n",
            "sys            NA                                               \n",
            "systemfonts    \"R (>= 3.2.0)\"                                   \n",
            "tcltk          NA                                               \n",
            "testthat       \"R (>= 3.1)\"                                     \n",
            "textshaping    \"R (>= 3.2.0)\"                                   \n",
            "tibble         \"R (>= 3.1.0)\"                                   \n",
            "tinytex        NA                                               \n",
            "tools          NA                                               \n",
            "urlchecker     \"R (>= 3.3)\"                                     \n",
            "usethis        \"R (>= 3.4)\"                                     \n",
            "utf8           \"R (>= 2.10)\"                                    \n",
            "utils          NA                                               \n",
            "uuid           \"R (>= 2.9.0)\"                                   \n",
            "vctrs          \"R (>= 3.3)\"                                     \n",
            "waldo          NA                                               \n",
            "whisker        NA                                               \n",
            "withr          \"R (>= 3.2.0)\"                                   \n",
            "xfun           NA                                               \n",
            "xml2           \"R (>= 3.1.0)\"                                   \n",
            "xmlparsedata   \"R (>= 3.0.0)\"                                   \n",
            "xopen          \"R (>= 3.1)\"                                     \n",
            "xtable         \"R (>= 2.10.0)\"                                  \n",
            "yaml           NA                                               \n",
            "zip            NA                                               \n",
            "               Imports                                                                                                                                                                                                                                                                                                                                                                                                                                      \n",
            "askpass        \"sys (>= 2.1)\"                                                                                                                                                                                                                                                                                                                                                                                                                               \n",
            "backports      NA                                                                                                                                                                                                                                                                                                                                                                                                                                           \n",
            "base           NA                                                                                                                                                                                                                                                                                                                                                                                                                                           \n",
            "base64enc      NA                                                                                                                                                                                                                                                                                                                                                                                                                                           \n",
            "boot           NA                                                                                                                                                                                                                                                                                                                                                                                                                                           \n",
            "brew           NA                                                                                                                                                                                                                                                                                                                                                                                                                                           \n",
            "brio           NA                                                                                                                                                                                                                                                                                                                                                                                                                                           \n",
            "bslib          \"grDevices, htmltools (>= 0.5.2), jsonlite, sass (>= 0.4.0),\\njquerylib (>= 0.1.3), rlang, cachem, memoise\"                                                                                                                                                                                                                                                                                                                                  \n",
            "cachem         \"rlang, fastmap\"                                                                                                                                                                                                                                                                                                                                                                                                                             \n",
            "callr          \"processx (>= 3.6.1), R6, utils\"                                                                                                                                                                                                                                                                                                                                                                                                             \n",
            "class          \"MASS\"                                                                                                                                                                                                                                                                                                                                                                                                                                       \n",
            "cli            \"utils\"                                                                                                                                                                                                                                                                                                                                                                                                                                      \n",
            "clipr          \"utils\"                                                                                                                                                                                                                                                                                                                                                                                                                                      \n",
            "cluster        \"graphics, grDevices, stats, utils\"                                                                                                                                                                                                                                                                                                                                                                                                          \n",
            "codetools      NA                                                                                                                                                                                                                                                                                                                                                                                                                                           \n",
            "collections    NA                                                                                                                                                                                                                                                                                                                                                                                                                                           \n",
            "commonmark     NA                                                                                                                                                                                                                                                                                                                                                                                                                                           \n",
            "compiler       NA                                                                                                                                                                                                                                                                                                                                                                                                                                           \n",
            "cpp11          NA                                                                                                                                                                                                                                                                                                                                                                                                                                           \n",
            "crayon         \"grDevices, methods, utils\"                                                                                                                                                                                                                                                                                                                                                                                                                  \n",
            "credentials    \"openssl (>= 1.3), sys (>= 2.1), curl, jsonlite, askpass\"                                                                                                                                                                                                                                                                                                                                                                                    \n",
            "curl           NA                                                                                                                                                                                                                                                                                                                                                                                                                                           \n",
            "cyclocomp      \"callr, crayon, desc, remotes, withr\"                                                                                                                                                                                                                                                                                                                                                                                                        \n",
            "datasets       NA                                                                                                                                                                                                                                                                                                                                                                                                                                           \n",
            "desc           \"cli, R6, rprojroot, utils\"                                                                                                                                                                                                                                                                                                                                                                                                                  \n",
            "devtools       \"cli (>= 3.3.0), desc (>= 1.4.1), ellipsis (>= 0.3.2), fs (>=\\n1.5.2), lifecycle (>= 1.0.1), memoise (>= 2.0.1), miniUI (>=\\n0.1.1.1), pkgbuild (>= 1.3.1), pkgdown (>= 2.0.6), pkgload (>=\\n1.3.0), profvis (>= 0.3.7), rcmdcheck (>= 1.4.0), remotes (>=\\n2.4.2), rlang (>= 1.0.4), roxygen2 (>= 7.2.1), rversions (>=\\n2.1.1), sessioninfo (>= 1.2.2), stats, testthat (>= 3.1.4),\\ntools, urlchecker (>= 1.0.1), utils, withr (>= 2.5.0)\"\n",
            "diffobj        \"crayon (>= 1.3.2), tools, methods, utils, stats\"                                                                                                                                                                                                                                                                                                                                                                                            \n",
            "digest         \"utils\"                                                                                                                                                                                                                                                                                                                                                                                                                                      \n",
            "downlit        \"brio, desc, digest, evaluate, fansi, memoise, rlang, vctrs,\\nwithr, yaml\"                                                                                                                                                                                                                                                                                                                                                                   \n",
            "ellipsis       \"rlang (>= 0.3.0)\"                                                                                                                                                                                                                                                                                                                                                                                                                           \n",
            "evaluate       \"methods\"                                                                                                                                                                                                                                                                                                                                                                                                                                    \n",
            "fansi          \"grDevices, utils\"                                                                                                                                                                                                                                                                                                                                                                                                                           \n",
            "fastmap        NA                                                                                                                                                                                                                                                                                                                                                                                                                                           \n",
            "fontawesome    \"rlang (>= 0.4.10), htmltools (>= 0.5.1.1)\"                                                                                                                                                                                                                                                                                                                                                                                                  \n",
            "foreign        \"methods, utils, stats\"                                                                                                                                                                                                                                                                                                                                                                                                                      \n",
            "fs             \"methods\"                                                                                                                                                                                                                                                                                                                                                                                                                                    \n",
            "gert           \"askpass, credentials (>= 1.2.1), openssl (>= 2.0.3),\\nrstudioapi (>= 0.11), sys, zip (>= 2.1.0)\"                                                                                                                                                                                                                                                                                                                                            \n",
            "gh             \"cli (>= 3.0.1), gitcreds, httr (>= 1.2), ini, jsonlite\"                                                                                                                                                                                                                                                                                                                                                                                     \n",
            "gitcreds       NA                                                                                                                                                                                                                                                                                                                                                                                                                                           \n",
            "glue           \"methods\"                                                                                                                                                                                                                                                                                                                                                                                                                                    \n",
            "graphics       \"grDevices\"                                                                                                                                                                                                                                                                                                                                                                                                                                  \n",
            "grDevices      NA                                                                                                                                                                                                                                                                                                                                                                                                                                           \n",
            "grid           \"grDevices, utils\"                                                                                                                                                                                                                                                                                                                                                                                                                           \n",
            "highr          \"xfun (>= 0.18)\"                                                                                                                                                                                                                                                                                                                                                                                                                             \n",
            "htmltools      \"utils, digest, grDevices, base64enc, rlang (>= 0.4.10),\\nfastmap (>= 1.1.0)\"                                                                                                                                                                                                                                                                                                                                                                \n",
            "htmlwidgets    \"grDevices, htmltools (>= 0.3), jsonlite (>= 0.9.16), yaml\"                                                                                                                                                                                                                                                                                                                                                                                  \n",
            "httpuv         \"Rcpp (>= 1.0.7), utils, R6, promises, later (>= 0.8.0)\"                                                                                                                                                                                                                                                                                                                                                                                     \n",
            "httr           \"curl (>= 3.0.0), jsonlite, mime, openssl (>= 0.8), R6\"                                                                                                                                                                                                                                                                                                                                                                                      \n",
            "ini            NA                                                                                                                                                                                                                                                                                                                                                                                                                                           \n",
            "IRdisplay      \"methods, repr\"                                                                                                                                                                                                                                                                                                                                                                                                                              \n",
            "IRkernel       \"repr (>= 0.4.99), methods, evaluate (>= 0.10), IRdisplay (>=\\n0.3.0.9999), pbdZMQ (>= 0.2-1), crayon, jsonlite (>= 0.9.6),\\nuuid, digest\"                                                                                                                                                                                                                                                                                                   \n",
            "jquerylib      \"htmltools\"                                                                                                                                                                                                                                                                                                                                                                                                                                  \n",
            "jsonlite       NA                                                                                                                                                                                                                                                                                                                                                                                                                                           \n",
            "KernSmooth     NA                                                                                                                                                                                                                                                                                                                                                                                                                                           \n",
            "knitr          \"evaluate (>= 0.15), highr, methods, stringr (>= 0.6), yaml (>=\\n2.1.19), xfun (>= 0.29), tools\"                                                                                                                                                                                                                                                                                                                                             \n",
            "languageserver \"callr (>= 3.0.0), collections (>= 0.3.0), fs (>= 1.3.1),\\njsonlite (>= 1.6), lintr (>= 2.0.1), parallel, R6 (>= 2.4.1),\\nroxygen2 (>= 7.0.0), stringi (>= 1.1.7), styler (>= 1.5.1),\\ntools, utils, xml2 (>= 1.2.2), xmlparsedata (>= 1.0.3)\"                                                                                                                                                                                               \n",
            "later          \"Rcpp (>= 0.12.9), rlang\"                                                                                                                                                                                                                                                                                                                                                                                                                    \n",
            "lattice        \"grid, grDevices, graphics, stats, utils\"                                                                                                                                                                                                                                                                                                                                                                                                    \n",
            "lazyeval       NA                                                                                                                                                                                                                                                                                                                                                                                                                                           \n",
            "lifecycle      \"glue, rlang (>= 1.0.5)\"                                                                                                                                                                                                                                                                                                                                                                                                                     \n",
            "lintr          \"backports, codetools, crayon, cyclocomp, digest, glue,\\njsonlite, knitr, rex, stats, utils, xml2 (>= 1.0.0),\\nxmlparsedata (>= 1.0.5)\"                                                                                                                                                                                                                                                                                                      \n",
            "magrittr       NA                                                                                                                                                                                                                                                                                                                                                                                                                                           \n",
            "MASS           \"methods\"                                                                                                                                                                                                                                                                                                                                                                                                                                    \n",
            "Matrix         \"methods, graphics, grid, stats, utils, lattice\"                                                                                                                                                                                                                                                                                                                                                                                             \n",
            "memoise        \"rlang (>= 0.4.10), cachem\"                                                                                                                                                                                                                                                                                                                                                                                                                  \n",
            "methods        \"utils, stats\"                                                                                                                                                                                                                                                                                                                                                                                                                               \n",
            "mgcv           \"methods, stats, graphics, Matrix, splines, utils\"                                                                                                                                                                                                                                                                                                                                                                                           \n",
            "mime           \"tools\"                                                                                                                                                                                                                                                                                                                                                                                                                                      \n",
            "miniUI         \"shiny (>= 0.13), htmltools (>= 0.3), utils\"                                                                                                                                                                                                                                                                                                                                                                                                 \n",
            "nlme           \"graphics, stats, utils, lattice\"                                                                                                                                                                                                                                                                                                                                                                                                            \n",
            "nnet           NA                                                                                                                                                                                                                                                                                                                                                                                                                                           \n",
            "openssl        \"askpass\"                                                                                                                                                                                                                                                                                                                                                                                                                                    \n",
            "parallel       \"tools, compiler\"                                                                                                                                                                                                                                                                                                                                                                                                                            \n",
            "pbdZMQ         NA                                                                                                                                                                                                                                                                                                                                                                                                                                           \n",
            "pillar         \"cli (>= 2.3.0), fansi, glue, lifecycle, rlang (>= 1.0.2), utf8\\n(>= 1.1.0), utils, vctrs (>= 0.3.8)\"                                                                                                                                                                                                                                                                                                                                        \n",
            "pkgbuild       \"callr (>= 3.2.0), cli, crayon, desc, prettyunits, R6,\\nrprojroot, withr (>= 2.3.0)\"                                                                                                                                                                                                                                                                                                                                                         \n",
            "pkgconfig      \"utils\"                                                                                                                                                                                                                                                                                                                                                                                                                                      \n",
            "pkgdown        \"bslib (>= 0.3.1), callr (>= 2.0.2), cli, desc, digest, downlit\\n(>= 0.4.0), fs (>= 1.4.0), httr (>= 1.4.2), jsonlite, magrittr,\\nmemoise, purrr, ragg, rlang (>= 1.0.0), rmarkdown (>=\\n1.1.9007), tibble, whisker, withr (>= 2.4.3), xml2 (>= 1.3.1),\\nyaml\"                                                                                                                                                                               \n",
            "pkgload        \"cli (>= 3.3.0), crayon, desc, fs, glue, methods, rlang (>=\\n1.0.3), rprojroot, utils, withr (>= 2.4.3)\"                                                                                                                                                                                                                                                                                                                                     \n",
            "praise         NA                                                                                                                                                                                                                                                                                                                                                                                                                                           \n",
            "prettyunits    NA                                                                                                                                                                                                                                                                                                                                                                                                                                           \n",
            "processx       \"ps (>= 1.2.0), R6, utils\"                                                                                                                                                                                                                                                                                                                                                                                                                   \n",
            "profvis        \"htmlwidgets (>= 0.3.2), stringr\"                                                                                                                                                                                                                                                                                                                                                                                                            \n",
            "promises       \"R6, Rcpp, later, rlang, stats, magrittr\"                                                                                                                                                                                                                                                                                                                                                                                                    \n",
            "ps             \"utils\"                                                                                                                                                                                                                                                                                                                                                                                                                                      \n",
            "purrr          \"magrittr (>= 1.5), rlang (>= 0.3.1)\"                                                                                                                                                                                                                                                                                                                                                                                                        \n",
            "R.cache        \"utils, R.methodsS3 (>= 1.8.1), R.oo (>= 1.24.0), R.utils (>=\\n2.10.1), digest (>= 0.6.13)\"                                                                                                                                                                                                                                                                                                                                                  \n",
            "R.methodsS3    \"utils\"                                                                                                                                                                                                                                                                                                                                                                                                                                      \n",
            "R.oo           \"methods, utils\"                                                                                                                                                                                                                                                                                                                                                                                                                             \n",
            "R.utils        \"methods, utils, tools, R.methodsS3 (>= 1.8.1)\"                                                                                                                                                                                                                                                                                                                                                                                              \n",
            "R6             NA                                                                                                                                                                                                                                                                                                                                                                                                                                           \n",
            "ragg           \"systemfonts (>= 1.0.3), textshaping (>= 0.3.0)\"                                                                                                                                                                                                                                                                                                                                                                                             \n",
            "rappdirs       NA                                                                                                                                                                                                                                                                                                                                                                                                                                           \n",
            "rcmdcheck      \"callr (>= 3.1.1.9000), cli (>= 3.0.0), curl, desc (>= 1.2.0),\\ndigest, pkgbuild, prettyunits, R6, rprojroot, sessioninfo (>=\\n1.1.1), utils, withr, xopen\"                                                                                                                                                                                                                                                                                  \n",
            "Rcpp           \"methods, utils\"                                                                                                                                                                                                                                                                                                                                                                                                                             \n",
            "rematch2       \"tibble\"                                                                                                                                                                                                                                                                                                                                                                                                                                     \n",
            "remotes        \"methods, stats, tools, utils\"                                                                                                                                                                                                                                                                                                                                                                                                               \n",
            "repr           \"utils, grDevices, htmltools, jsonlite, pillar (>= 1.4.0),\\nbase64enc\"                                                                                                                                                                                                                                                                                                                                                                       \n",
            "rex            \"lazyeval\"                                                                                                                                                                                                                                                                                                                                                                                                                                   \n",
            "rlang          \"utils\"                                                                                                                                                                                                                                                                                                                                                                                                                                      \n",
            "rmarkdown      \"bslib (>= 0.2.5.1), evaluate (>= 0.13), htmltools (>= 0.5.1),\\njquerylib, jsonlite, knitr (>= 1.22), methods, stringr (>=\\n1.2.0), tinytex (>= 0.31), tools, utils, xfun (>= 0.30), yaml\\n(>= 2.1.19)\"                                                                                                                                                                                                                                      \n",
            "roxygen2       \"brew, cli (>= 3.3.0), commonmark, desc (>= 1.2.0), digest,\\nknitr, methods, pkgload (>= 1.0.2), purrr (>= 0.3.3), R6 (>=\\n2.1.2), rlang (>= 1.0.0), stringi, stringr (>= 1.0.0), utils,\\nwithr, xml2\"                                                                                                                                                                                                                                       \n",
            "rpart          NA                                                                                                                                                                                                                                                                                                                                                                                                                                           \n",
            "rprojroot      NA                                                                                                                                                                                                                                                                                                                                                                                                                                           \n",
            "rstudioapi     NA                                                                                                                                                                                                                                                                                                                                                                                                                                           \n",
            "rversions      \"curl, utils, xml2 (>= 1.0.0)\"                                                                                                                                                                                                                                                                                                                                                                                                               \n",
            "sass           \"fs, rlang (>= 0.4.10), htmltools (>= 0.5.1), R6, rappdirs\"                                                                                                                                                                                                                                                                                                                                                                                  \n",
            "sessioninfo    \"cli (>= 3.1.0), tools, utils\"                                                                                                                                                                                                                                                                                                                                                                                                               \n",
            "shiny          \"utils, grDevices, httpuv (>= 1.5.2), mime (>= 0.3), jsonlite\\n(>= 0.9.16), xtable, fontawesome (>= 0.2.1), htmltools (>=\\n0.5.2), R6 (>= 2.0), sourcetools, later (>= 1.0.0), promises\\n(>= 1.1.0), tools, crayon, rlang (>= 0.4.10), fastmap (>=\\n1.1.0), withr, commonmark (>= 1.7), glue (>= 1.3.2), bslib (>=\\n0.3.0), cachem, ellipsis, lifecycle (>= 0.2.0)\"                                                                          \n",
            "sourcetools    NA                                                                                                                                                                                                                                                                                                                                                                                                                                           \n",
            "spatial        NA                                                                                                                                                                                                                                                                                                                                                                                                                                           \n",
            "splines        \"graphics, stats\"                                                                                                                                                                                                                                                                                                                                                                                                                            \n",
            "stats          \"utils, grDevices, graphics\"                                                                                                                                                                                                                                                                                                                                                                                                                 \n",
            "stats4         \"graphics, methods, stats\"                                                                                                                                                                                                                                                                                                                                                                                                                   \n",
            "stringi        \"tools, utils, stats\"                                                                                                                                                                                                                                                                                                                                                                                                                        \n",
            "stringr        \"glue (>= 1.2.0), magrittr, stringi (>= 1.1.7)\"                                                                                                                                                                                                                                                                                                                                                                                              \n",
            "styler         \"cli (>= 3.1.1), magrittr (>= 2.0.0), purrr (>= 0.2.3), R.cache\\n(>= 0.15.0), rematch2 (>= 2.0.1), rlang (>= 0.1.1), rprojroot\\n(>= 1.1), tibble (>= 1.4.2), tools, withr (>= 1.0.0),\"                                                                                                                                                                                                                                                       \n",
            "survival       \"graphics, Matrix, methods, splines, stats, utils\"                                                                                                                                                                                                                                                                                                                                                                                           \n",
            "sys            NA                                                                                                                                                                                                                                                                                                                                                                                                                                           \n",
            "systemfonts    NA                                                                                                                                                                                                                                                                                                                                                                                                                                           \n",
            "tcltk          \"utils\"                                                                                                                                                                                                                                                                                                                                                                                                                                      \n",
            "testthat       \"brio, callr (>= 3.5.1), cli (>= 3.3.0), crayon (>= 1.3.4),\\ndesc, digest, ellipsis (>= 0.2.0), evaluate, jsonlite,\\nlifecycle, magrittr, methods, pkgload, praise, processx, ps (>=\\n1.3.4), R6 (>= 2.2.0), rlang (>= 1.0.1), utils, waldo (>=\\n0.4.0), withr (>= 2.4.3)\"                                                                                                                                                                   \n",
            "textshaping    \"systemfonts (>= 1.0.0)\"                                                                                                                                                                                                                                                                                                                                                                                                                     \n",
            "tibble         \"fansi (>= 0.4.0), lifecycle (>= 1.0.0), magrittr, methods,\\npillar (>= 1.7.0), pkgconfig, rlang (>= 1.0.2), utils, vctrs\\n(>= 0.3.8)\"                                                                                                                                                                                                                                                                                                       \n",
            "tinytex        \"xfun (>= 0.29)\"                                                                                                                                                                                                                                                                                                                                                                                                                             \n",
            "tools          NA                                                                                                                                                                                                                                                                                                                                                                                                                                           \n",
            "urlchecker     \"cli, curl, tools, xml2\"                                                                                                                                                                                                                                                                                                                                                                                                                     \n",
            "usethis        \"cli (>= 3.0.1), clipr (>= 0.3.0), crayon, curl (>= 2.7), desc\\n(>= 1.4.0), fs (>= 1.3.0), gert (>= 1.4.1), gh (>= 1.2.1), glue\\n(>= 1.3.0), jsonlite, lifecycle (>= 1.0.0), purrr, rappdirs,\\nrlang (>= 1.0.0), rprojroot (>= 1.2), rstudioapi, stats, utils,\\nwhisker, withr (>= 2.3.0), yaml\"                                                                                                                                             \n",
            "utf8           NA                                                                                                                                                                                                                                                                                                                                                                                                                                           \n",
            "utils          NA                                                                                                                                                                                                                                                                                                                                                                                                                                           \n",
            "uuid           NA                                                                                                                                                                                                                                                                                                                                                                                                                                           \n",
            "vctrs          \"cli (>= 3.2.0), glue, rlang (>= 1.0.2)\"                                                                                                                                                                                                                                                                                                                                                                                                     \n",
            "waldo          \"cli, diffobj (>= 0.3.4), fansi, glue, methods, rematch2, rlang\\n(>= 1.0.0), tibble\"                                                                                                                                                                                                                                                                                                                                                         \n",
            "whisker        NA                                                                                                                                                                                                                                                                                                                                                                                                                                           \n",
            "withr          \"graphics, grDevices, stats\"                                                                                                                                                                                                                                                                                                                                                                                                                 \n",
            "xfun           \"stats, tools\"                                                                                                                                                                                                                                                                                                                                                                                                                               \n",
            "xml2           \"methods\"                                                                                                                                                                                                                                                                                                                                                                                                                                    \n",
            "xmlparsedata   NA                                                                                                                                                                                                                                                                                                                                                                                                                                           \n",
            "xopen          \"processx\"                                                                                                                                                                                                                                                                                                                                                                                                                                   \n",
            "xtable         \"stats, utils\"                                                                                                                                                                                                                                                                                                                                                                                                                               \n",
            "yaml           NA                                                                                                                                                                                                                                                                                                                                                                                                                                           \n",
            "zip            NA                                                                                                                                                                                                                                                                                                                                                                                                                                           \n",
            "               LinkingTo                                 \n",
            "askpass        NA                                        \n",
            "backports      NA                                        \n",
            "base           NA                                        \n",
            "base64enc      NA                                        \n",
            "boot           NA                                        \n",
            "brew           NA                                        \n",
            "brio           NA                                        \n",
            "bslib          NA                                        \n",
            "cachem         NA                                        \n",
            "callr          NA                                        \n",
            "class          NA                                        \n",
            "cli            NA                                        \n",
            "clipr          NA                                        \n",
            "cluster        NA                                        \n",
            "codetools      NA                                        \n",
            "collections    NA                                        \n",
            "commonmark     NA                                        \n",
            "compiler       NA                                        \n",
            "cpp11          NA                                        \n",
            "crayon         NA                                        \n",
            "credentials    NA                                        \n",
            "curl           NA                                        \n",
            "cyclocomp      NA                                        \n",
            "datasets       NA                                        \n",
            "desc           NA                                        \n",
            "devtools       NA                                        \n",
            "diffobj        NA                                        \n",
            "digest         NA                                        \n",
            "downlit        NA                                        \n",
            "ellipsis       NA                                        \n",
            "evaluate       NA                                        \n",
            "fansi          NA                                        \n",
            "fastmap        NA                                        \n",
            "fontawesome    NA                                        \n",
            "foreign        NA                                        \n",
            "fs             NA                                        \n",
            "gert           NA                                        \n",
            "gh             NA                                        \n",
            "gitcreds       NA                                        \n",
            "glue           NA                                        \n",
            "graphics       NA                                        \n",
            "grDevices      NA                                        \n",
            "grid           NA                                        \n",
            "highr          NA                                        \n",
            "htmltools      NA                                        \n",
            "htmlwidgets    NA                                        \n",
            "httpuv         \"Rcpp, later\"                             \n",
            "httr           NA                                        \n",
            "ini            NA                                        \n",
            "IRdisplay      NA                                        \n",
            "IRkernel       NA                                        \n",
            "jquerylib      NA                                        \n",
            "jsonlite       NA                                        \n",
            "KernSmooth     NA                                        \n",
            "knitr          NA                                        \n",
            "languageserver NA                                        \n",
            "later          \"Rcpp\"                                    \n",
            "lattice        NA                                        \n",
            "lazyeval       NA                                        \n",
            "lifecycle      NA                                        \n",
            "lintr          NA                                        \n",
            "magrittr       NA                                        \n",
            "MASS           NA                                        \n",
            "Matrix         NA                                        \n",
            "memoise        NA                                        \n",
            "methods        NA                                        \n",
            "mgcv           NA                                        \n",
            "mime           NA                                        \n",
            "miniUI         NA                                        \n",
            "nlme           NA                                        \n",
            "nnet           NA                                        \n",
            "openssl        NA                                        \n",
            "parallel       NA                                        \n",
            "pbdZMQ         NA                                        \n",
            "pillar         NA                                        \n",
            "pkgbuild       NA                                        \n",
            "pkgconfig      NA                                        \n",
            "pkgdown        NA                                        \n",
            "pkgload        NA                                        \n",
            "praise         NA                                        \n",
            "prettyunits    NA                                        \n",
            "processx       NA                                        \n",
            "profvis        NA                                        \n",
            "promises       \"later, Rcpp\"                             \n",
            "ps             NA                                        \n",
            "purrr          NA                                        \n",
            "R.cache        NA                                        \n",
            "R.methodsS3    NA                                        \n",
            "R.oo           NA                                        \n",
            "R.utils        NA                                        \n",
            "R6             NA                                        \n",
            "ragg           \"systemfonts, textshaping\"                \n",
            "rappdirs       NA                                        \n",
            "rcmdcheck      NA                                        \n",
            "Rcpp           NA                                        \n",
            "rematch2       NA                                        \n",
            "remotes        NA                                        \n",
            "repr           NA                                        \n",
            "rex            NA                                        \n",
            "rlang          NA                                        \n",
            "rmarkdown      NA                                        \n",
            "roxygen2       \"cpp11\"                                   \n",
            "rpart          NA                                        \n",
            "rprojroot      NA                                        \n",
            "rstudioapi     NA                                        \n",
            "rversions      NA                                        \n",
            "sass           NA                                        \n",
            "sessioninfo    NA                                        \n",
            "shiny          NA                                        \n",
            "sourcetools    NA                                        \n",
            "spatial        NA                                        \n",
            "splines        NA                                        \n",
            "stats          NA                                        \n",
            "stats4         NA                                        \n",
            "stringi        NA                                        \n",
            "stringr        NA                                        \n",
            "styler         NA                                        \n",
            "survival       NA                                        \n",
            "sys            NA                                        \n",
            "systemfonts    \"cpp11 (>= 0.2.1)\"                        \n",
            "tcltk          NA                                        \n",
            "testthat       NA                                        \n",
            "textshaping    \"cpp11 (>= 0.2.1), systemfonts (>= 1.0.0)\"\n",
            "tibble         NA                                        \n",
            "tinytex        NA                                        \n",
            "tools          NA                                        \n",
            "urlchecker     NA                                        \n",
            "usethis        NA                                        \n",
            "utf8           NA                                        \n",
            "utils          NA                                        \n",
            "uuid           NA                                        \n",
            "vctrs          NA                                        \n",
            "waldo          NA                                        \n",
            "whisker        NA                                        \n",
            "withr          NA                                        \n",
            "xfun           NA                                        \n",
            "xml2           NA                                        \n",
            "xmlparsedata   NA                                        \n",
            "xopen          NA                                        \n",
            "xtable         NA                                        \n",
            "yaml           NA                                        \n",
            "zip            NA                                        \n",
            "               Suggests                                                                                                                                                                                                                                                                                                                                                  \n",
            "askpass        \"testthat\"                                                                                                                                                                                                                                                                                                                                                \n",
            "backports      NA                                                                                                                                                                                                                                                                                                                                                        \n",
            "base           \"methods\"                                                                                                                                                                                                                                                                                                                                                 \n",
            "base64enc      NA                                                                                                                                                                                                                                                                                                                                                        \n",
            "boot           \"MASS, survival\"                                                                                                                                                                                                                                                                                                                                          \n",
            "brew           \"testthat (>= 3.0.0)\"                                                                                                                                                                                                                                                                                                                                     \n",
            "brio           \"covr, testthat (>= 2.1.0)\"                                                                                                                                                                                                                                                                                                                               \n",
            "bslib          \"shiny (>= 1.6.0), rmarkdown (>= 2.7), thematic, knitr,\\ntestthat, withr, rappdirs, curl, magrittr\"                                                                                                                                                                                                                                                       \n",
            "cachem         \"testthat\"                                                                                                                                                                                                                                                                                                                                                \n",
            "callr          \"cli (>= 1.1.0), covr, mockery, ps, rprojroot, spelling,\\ntestthat (>= 3.0.0), withr (>= 2.3.0)\"                                                                                                                                                                                                                                                          \n",
            "class          NA                                                                                                                                                                                                                                                                                                                                                        \n",
            "cli            \"callr, covr, digest, glue (>= 1.6.0), grDevices, htmltools,\\nhtmlwidgets, knitr, methods, mockery, processx, ps (>=\\n1.3.4.9000), rlang (>= 1.0.2.9003), rmarkdown, rprojroot,\\nrstudioapi, testthat, tibble, whoami, withr\"                                                                                                                             \n",
            "clipr          \"covr, knitr, rmarkdown, rstudioapi (>= 0.5), testthat (>=\\n2.0.0)\"                                                                                                                                                                                                                                                                                       \n",
            "cluster        \"MASS, Matrix\"                                                                                                                                                                                                                                                                                                                                            \n",
            "codetools      NA                                                                                                                                                                                                                                                                                                                                                        \n",
            "collections    \"covr (>= 3.4.0), testthat (>= 2.3.1)\"                                                                                                                                                                                                                                                                                                                    \n",
            "commonmark     \"curl, testthat, xml2\"                                                                                                                                                                                                                                                                                                                                    \n",
            "compiler       NA                                                                                                                                                                                                                                                                                                                                                        \n",
            "cpp11          \"bench, brio, callr, cli, covr, decor, desc, ggplot2, glue,\\nknitr, lobstr, mockery, progress, rmarkdown, scales, Rcpp,\\ntestthat, tibble, utils, vctrs, withr\"                                                                                                                                                                                           \n",
            "crayon         \"mockery, rstudioapi, testthat, withr\"                                                                                                                                                                                                                                                                                                                    \n",
            "credentials    \"testthat, knitr, rmarkdown\"                                                                                                                                                                                                                                                                                                                              \n",
            "curl           \"spelling, testthat (>= 1.0.0), knitr, jsonlite, rmarkdown,\\nmagrittr, httpuv (>= 1.4.4), webutils\"                                                                                                                                                                                                                                                       \n",
            "cyclocomp      \"testthat\"                                                                                                                                                                                                                                                                                                                                                \n",
            "datasets       NA                                                                                                                                                                                                                                                                                                                                                        \n",
            "desc           \"callr, covr, gh, spelling, testthat, whoami, withr\"                                                                                                                                                                                                                                                                                                      \n",
            "devtools       \"BiocManager (>= 1.30.18), callr (>= 3.7.1), covr (>= 3.5.1),\\ncurl (>= 4.3.2), digest (>= 0.6.29), DT (>= 0.23), foghorn (>=\\n1.4.2), gh (>= 1.3.0), gmailr (>= 1.0.1), httr (>= 1.4.3),\\nknitr (>= 1.39), lintr (>= 3.0.0), MASS, mockery (>= 0.4.3),\\npingr (>= 2.0.1), rhub (>= 1.1.1), rmarkdown (>= 2.14),\\nrstudioapi (>= 0.13), spelling (>= 2.2)\"\n",
            "diffobj        \"knitr, rmarkdown\"                                                                                                                                                                                                                                                                                                                                        \n",
            "digest         \"tinytest, simplermarkdown\"                                                                                                                                                                                                                                                                                                                               \n",
            "downlit        \"covr, htmltools, jsonlite, MASS, MassSpecWavelet, pkgload,\\nrmarkdown, testthat (>= 3.0.0), xml2\"                                                                                                                                                                                                                                                        \n",
            "ellipsis       \"covr, testthat\"                                                                                                                                                                                                                                                                                                                                          \n",
            "evaluate       \"covr, ggplot2, lattice, testthat\"                                                                                                                                                                                                                                                                                                                        \n",
            "fansi          \"unitizer, knitr, rmarkdown\"                                                                                                                                                                                                                                                                                                                              \n",
            "fastmap        \"testthat (>= 2.1.1)\"                                                                                                                                                                                                                                                                                                                                     \n",
            "fontawesome    \"covr, dplyr (>= 1.0.8), knitr (>= 1.31), testthat (>= 3.0.0),\\nrsvg\"                                                                                                                                                                                                                                                                                     \n",
            "foreign        NA                                                                                                                                                                                                                                                                                                                                                        \n",
            "fs             \"testthat, covr, pillar (>= 1.0.0), tibble (>= 1.1.0), crayon,\\nrmarkdown, knitr, withr, spelling, vctrs (>= 0.3.0)\"                                                                                                                                                                                                                                      \n",
            "gert           \"spelling, knitr, rmarkdown, testthat\"                                                                                                                                                                                                                                                                                                                    \n",
            "gh             \"covr, knitr, mockery, rmarkdown, rprojroot, spelling,\\ntestthat (>= 3.0.0), withr\"                                                                                                                                                                                                                                                                       \n",
            "gitcreds       \"codetools, covr, knitr, mockery, oskeyring, rmarkdown,\\ntestthat (>= 3.0.0), withr\"                                                                                                                                                                                                                                                                      \n",
            "glue           \"covr, crayon, DBI, dplyr, forcats, ggplot2, knitr, magrittr,\\nmicrobenchmark, R.utils, rmarkdown, rprintf, RSQLite, stringr,\\ntestthat (>= 3.0.0), vctrs (>= 0.3.0), waldo (>= 0.3.0), withr\"                                                                                                                                                            \n",
            "graphics       NA                                                                                                                                                                                                                                                                                                                                                        \n",
            "grDevices      \"KernSmooth\"                                                                                                                                                                                                                                                                                                                                              \n",
            "grid           NA                                                                                                                                                                                                                                                                                                                                                        \n",
            "highr          \"knitr, markdown, testit\"                                                                                                                                                                                                                                                                                                                                 \n",
            "htmltools      \"markdown, testthat, withr, Cairo, ragg, shiny\"                                                                                                                                                                                                                                                                                                           \n",
            "htmlwidgets    \"knitr (>= 1.8), rmarkdown, testthat\"                                                                                                                                                                                                                                                                                                                     \n",
            "httpuv         \"testthat, callr, curl, websocket\"                                                                                                                                                                                                                                                                                                                        \n",
            "httr           \"covr, httpuv, jpeg, knitr, png, readr, rmarkdown, testthat\\n(>= 0.8.0), xml2\"                                                                                                                                                                                                                                                                            \n",
            "ini            \"testthat\"                                                                                                                                                                                                                                                                                                                                                \n",
            "IRdisplay      \"testthat, withr\"                                                                                                                                                                                                                                                                                                                                         \n",
            "IRkernel       \"testthat, roxygen2\"                                                                                                                                                                                                                                                                                                                                      \n",
            "jquerylib      \"testthat\"                                                                                                                                                                                                                                                                                                                                                \n",
            "jsonlite       \"httr, curl, vctrs, testthat, knitr, rmarkdown, R.rsp, sf\"                                                                                                                                                                                                                                                                                                \n",
            "KernSmooth     \"MASS, carData\"                                                                                                                                                                                                                                                                                                                                           \n",
            "knitr          \"markdown, formatR, testit, digest, rgl (>= 0.95.1201),\\ncodetools, rmarkdown, htmlwidgets (>= 0.7), webshot, tikzDevice\\n(>= 0.10), tinytex, reticulate (>= 1.4), JuliaCall (>= 0.11.1),\\nmagick, png, jpeg, gifski, xml2 (>= 1.2.0), httr, DBI (>=\\n0.4-1), showtext, tibble, sass, bslib, ragg, gridSVG, styler\\n(>= 1.2.0), targets (>= 0.6.0)\"       \n",
            "languageserver \"covr (>= 3.4.0), magrittr (>= 1.5), mockery (>= 0.4.2),\\nprocessx (>= 3.4.1), purrr (>= 0.3.3), testthat (>= 2.1.0),\\nwithr (>= 2.3.0), rmarkdown (>= 2.0)\"                                                                                                                                                                                              \n",
            "later          \"knitr, rmarkdown, testthat (>= 2.1.0)\"                                                                                                                                                                                                                                                                                                                   \n",
            "lattice        \"KernSmooth, MASS, latticeExtra\"                                                                                                                                                                                                                                                                                                                          \n",
            "lazyeval       \"knitr, rmarkdown (>= 0.2.65), testthat, covr\"                                                                                                                                                                                                                                                                                                            \n",
            "lifecycle      \"covr, crayon, knitr, lintr, rmarkdown, testthat (>= 3.0.1),\\ntibble, tidyverse, tools, vctrs\"                                                                                                                                                                                                                                                            \n",
            "lintr          \"covr, httr (>= 1.2.1), mockery, patrick, pkgdown, rmarkdown,\\nrstudioapi (>= 0.2), testthat (>= 3.0.0), tibble, withr (>=\\n2.5.0)\"                                                                                                                                                                                                                       \n",
            "magrittr       \"covr, knitr, rlang, rmarkdown, testthat\"                                                                                                                                                                                                                                                                                                                 \n",
            "MASS           \"lattice, nlme, nnet, survival\"                                                                                                                                                                                                                                                                                                                           \n",
            "Matrix         \"expm, MASS\"                                                                                                                                                                                                                                                                                                                                              \n",
            "memoise        \"digest, aws.s3, covr, googleAuthR, googleCloudStorageR, httr,\\ntestthat\"                                                                                                                                                                                                                                                                                 \n",
            "methods        \"codetools\"                                                                                                                                                                                                                                                                                                                                               \n",
            "mgcv           \"parallel, survival, MASS\"                                                                                                                                                                                                                                                                                                                                \n",
            "mime           NA                                                                                                                                                                                                                                                                                                                                                        \n",
            "miniUI         NA                                                                                                                                                                                                                                                                                                                                                        \n",
            "nlme           \"Hmisc, MASS, SASmixed\"                                                                                                                                                                                                                                                                                                                                   \n",
            "nnet           \"MASS\"                                                                                                                                                                                                                                                                                                                                                    \n",
            "openssl        \"curl, testthat (>= 2.1.0), digest, knitr, rmarkdown,\\njsonlite, jose, sodium\"                                                                                                                                                                                                                                                                            \n",
            "parallel       \"methods\"                                                                                                                                                                                                                                                                                                                                                 \n",
            "pbdZMQ         NA                                                                                                                                                                                                                                                                                                                                                        \n",
            "pillar         \"bit64, debugme, DiagrammeR, dplyr, formattable, ggplot2,\\nknitr, lubridate, nanotime, nycflights13, palmerpenguins,\\nrmarkdown, scales, stringi, survival, testthat (>= 3.1.1),\\ntibble, units (>= 0.7.2), vdiffr, withr\"                                                                                                                                \n",
            "pkgbuild       \"Rcpp, cpp11, testthat, covr\"                                                                                                                                                                                                                                                                                                                             \n",
            "pkgconfig      \"covr, testthat, disposables (>= 1.0.3)\"                                                                                                                                                                                                                                                                                                                  \n",
            "pkgdown        \"covr, diffviewer, evaluate, htmltools, htmlwidgets, knitr,\\nlifecycle, methods, openssl, pkgload (>= 1.0.2), rsconnect,\\nrstudioapi, rticles, sass, testthat (>= 3.1.3), tools\"                                                                                                                                                                          \n",
            "pkgload        \"bitops, covr, mathjaxr, pak, pkgbuild, Rcpp, remotes,\\nrstudioapi, testthat (>= 3.1.0)\"                                                                                                                                                                                                                                                                  \n",
            "praise         \"testthat\"                                                                                                                                                                                                                                                                                                                                                \n",
            "prettyunits    \"codetools, covr, testthat\"                                                                                                                                                                                                                                                                                                                               \n",
            "processx       \"callr (>= 3.7.0), cli (>= 3.3.0), codetools, covr, curl,\\ndebugme, parallel, rlang (>= 1.0.2), testthat (>= 3.0.0), withr\"                                                                                                                                                                                                                               \n",
            "profvis        \"knitr, ggplot2, rmarkdown, testthat, devtools, shiny,\\nhtmltools\"                                                                                                                                                                                                                                                                                        \n",
            "promises       \"testthat, future (>= 1.21.0), fastmap (>= 1.1.0), purrr,\\nknitr, rmarkdown, vembedr, spelling\"                                                                                                                                                                                                                                                           \n",
            "ps             \"callr, covr, curl, pillar, pingr, processx (>= 3.1.0), R6,\\nrlang, testthat (>= 3.0.0),\"                                                                                                                                                                                                                                                                 \n",
            "purrr          \"covr, crayon, dplyr (>= 0.7.8), knitr, rmarkdown, testthat,\\ntibble, tidyselect\"                                                                                                                                                                                                                                                                         \n",
            "R.cache        NA                                                                                                                                                                                                                                                                                                                                                        \n",
            "R.methodsS3    \"codetools\"                                                                                                                                                                                                                                                                                                                                               \n",
            "R.oo           \"tools\"                                                                                                                                                                                                                                                                                                                                                   \n",
            "R.utils        \"datasets, digest (>= 0.6.10)\"                                                                                                                                                                                                                                                                                                                            \n",
            "R6             \"testthat, pryr\"                                                                                                                                                                                                                                                                                                                                          \n",
            "ragg           \"covr, graphics, grid, testthat\"                                                                                                                                                                                                                                                                                                                          \n",
            "rappdirs       \"roxygen2, testthat (>= 3.0.0), covr, withr\"                                                                                                                                                                                                                                                                                                              \n",
            "rcmdcheck      \"covr, knitr, mockery, processx, ps, rmarkdown, svglite,\\ntestthat, webfakes\"                                                                                                                                                                                                                                                                             \n",
            "Rcpp           \"tinytest, inline, rbenchmark, pkgKitten (>= 0.1.2)\"                                                                                                                                                                                                                                                                                                      \n",
            "rematch2       \"covr, testthat\"                                                                                                                                                                                                                                                                                                                                          \n",
            "remotes        \"brew, callr, codetools, curl, covr, git2r (>= 0.23.0), knitr,\\nmockery, pkgbuild (>= 1.0.1), pingr, rmarkdown, rprojroot,\\ntestthat, webfakes, withr\"                                                                                                                                                                                                    \n",
            "repr           \"methods, highr, Cairo, stringr, testthat (>= 3.0.0), leaflet\"                                                                                                                                                                                                                                                                                            \n",
            "rex            \"covr, dplyr, ggplot2, Hmisc, knitr, magrittr, rmarkdown,\\nroxygen2, rvest, stringr, testthat\"                                                                                                                                                                                                                                                            \n",
            "rlang          \"cli (>= 3.1.0), covr, crayon, fs, glue, knitr, magrittr,\\nmethods, pillar, rmarkdown, stats, testthat (>= 3.0.0), tibble,\\nusethis, vctrs (>= 0.2.3), withr\"                                                                                                                                                                                             \n",
            "rmarkdown      \"digest, dygraphs, fs, rsconnect, downlit (>= 0.4.0), katex\\n(>= 1.4.0), sass (>= 0.4.0), shiny (>= 1.6.0), testthat (>=\\n3.0.3), tibble, tufte, vctrs, withr (>= 2.4.2)\"                                                                                                                                                                                 \n",
            "roxygen2       \"covr, R.methodsS3, R.oo, rmarkdown, testthat (>= 3.1.2), yaml\"                                                                                                                                                                                                                                                                                           \n",
            "rpart          \"survival\"                                                                                                                                                                                                                                                                                                                                                \n",
            "rprojroot      \"covr, knitr, lifecycle, mockr, rmarkdown, testthat (>=\\n3.0.0), withr\"                                                                                                                                                                                                                                                                                   \n",
            "rstudioapi     \"testthat, knitr, rmarkdown, clipr, covr\"                                                                                                                                                                                                                                                                                                                 \n",
            "rversions      \"covr, mockery, testthat\"                                                                                                                                                                                                                                                                                                                                 \n",
            "sass           \"testthat, knitr, rmarkdown, withr, shiny, curl\"                                                                                                                                                                                                                                                                                                          \n",
            "sessioninfo    \"callr, covr, mockery, reticulate, rmarkdown, testthat, withr\"                                                                                                                                                                                                                                                                                            \n",
            "shiny          \"datasets, Cairo (>= 1.5-5), testthat (>= 3.0.0), knitr (>=\\n1.6), markdown, rmarkdown, ggplot2, reactlog (>= 1.0.0),\\nmagrittr, yaml, future, dygraphs, ragg, showtext, sass\"                                                                                                                                                                            \n",
            "sourcetools    \"testthat\"                                                                                                                                                                                                                                                                                                                                                \n",
            "spatial        \"MASS\"                                                                                                                                                                                                                                                                                                                                                    \n",
            "splines        \"Matrix, methods\"                                                                                                                                                                                                                                                                                                                                         \n",
            "stats          \"MASS, Matrix, SuppDists, methods, stats4\"                                                                                                                                                                                                                                                                                                                \n",
            "stats4         NA                                                                                                                                                                                                                                                                                                                                                        \n",
            "stringi        NA                                                                                                                                                                                                                                                                                                                                                        \n",
            "stringr        \"covr, htmltools, htmlwidgets, knitr, rmarkdown, testthat\"                                                                                                                                                                                                                                                                                                \n",
            "styler         \"data.tree (>= 0.1.6), digest, dplyr, here, knitr, prettycode,\\nrmarkdown, roxygen2, rstudioapi (>= 0.7), testthat (>= 2.1.0)\"                                                                                                                                                                                                                            \n",
            "survival       NA                                                                                                                                                                                                                                                                                                                                                        \n",
            "sys            \"unix (>= 1.4), spelling, testthat\"                                                                                                                                                                                                                                                                                                                       \n",
            "systemfonts    \"testthat (>= 2.1.0), covr, knitr, rmarkdown, tools\"                                                                                                                                                                                                                                                                                                      \n",
            "tcltk          NA                                                                                                                                                                                                                                                                                                                                                        \n",
            "testthat       \"covr, curl (>= 0.9.5), diffviewer (>= 0.1.0), knitr, mockery,\\nrmarkdown, rstudioapi, shiny, usethis, vctrs (>= 0.1.0), xml2\"                                                                                                                                                                                                                            \n",
            "textshaping    \"covr, knitr, rmarkdown\"                                                                                                                                                                                                                                                                                                                                  \n",
            "tibble         \"bench, bit64, blob, brio, callr, cli, covr, crayon (>=\\n1.3.4), DiagrammeR, dplyr, evaluate, formattable, ggplot2, hms,\\nhtmltools, knitr, lubridate, mockr, nycflights13, pkgbuild,\\npkgload, purrr, rmarkdown, stringi, testthat (>= 3.0.2), tidyr,\\nwithr\"                                                                                            \n",
            "tinytex        \"testit, rstudioapi\"                                                                                                                                                                                                                                                                                                                                      \n",
            "tools          \"codetools, methods, xml2, curl, commonmark, knitr, xfun, mathjaxr\"                                                                                                                                                                                                                                                                                       \n",
            "urlchecker     \"covr\"                                                                                                                                                                                                                                                                                                                                                    \n",
            "usethis        \"covr, knitr, magick, mockr, pkgload, rmarkdown, roxygen2 (>=\\n7.1.2), spelling (>= 1.2), styler (>= 1.2.0), testthat (>=\\n3.1.0)\"                                                                                                                                                                                                                        \n",
            "utf8           \"cli, covr, knitr, rlang, rmarkdown, testthat (>= 3.0.0),\\nwithr\"                                                                                                                                                                                                                                                                                         \n",
            "utils          \"methods, xml2, commonmark, knitr\"                                                                                                                                                                                                                                                                                                                        \n",
            "uuid           NA                                                                                                                                                                                                                                                                                                                                                        \n",
            "vctrs          \"bit64, covr, crayon, dplyr (>= 0.8.5), generics, knitr,\\npillar (>= 1.4.4), pkgdown (>= 2.0.1), rmarkdown, testthat (>=\\n3.0.0), tibble (>= 3.1.3), withr, xml2, waldo (>= 0.2.0),\\nzeallot\"                                                                                                                                                             \n",
            "waldo          \"covr, R6, testthat (>= 3.0.0), withr, xml2\"                                                                                                                                                                                                                                                                                                              \n",
            "whisker        \"markdown\"                                                                                                                                                                                                                                                                                                                                                \n",
            "withr          \"callr, covr, DBI, knitr, lattice, methods, rlang, rmarkdown\\n(>= 2.12), RSQLite, testthat (>= 3.0.0)\"                                                                                                                                                                                                                                                    \n",
            "xfun           \"testit, parallel, codetools, rstudioapi, tinytex (>= 0.30),\\nmime, markdown, knitr, htmltools, remotes, pak, rhub, renv,\\ncurl, jsonlite, magick, rmarkdown\"                                                                                                                                                                                             \n",
            "xml2           \"covr, curl, httr, knitr, magrittr, mockery, rmarkdown,\\ntestthat (>= 2.1.0)\"                                                                                                                                                                                                                                                                             \n",
            "xmlparsedata   \"covr, testthat, xml2\"                                                                                                                                                                                                                                                                                                                                    \n",
            "xopen          \"ps, testthat\"                                                                                                                                                                                                                                                                                                                                            \n",
            "xtable         \"knitr, plm, zoo, survival\"                                                                                                                                                                                                                                                                                                                               \n",
            "yaml           \"RUnit\"                                                                                                                                                                                                                                                                                                                                                   \n",
            "zip            \"covr, processx, R6, testthat, withr\"                                                                                                                                                                                                                                                                                                                     \n",
            "               Enhances                                                             \n",
            "askpass        NA                                                                   \n",
            "backports      NA                                                                   \n",
            "base           NA                                                                   \n",
            "base64enc      \"png\"                                                                \n",
            "boot           NA                                                                   \n",
            "brew           NA                                                                   \n",
            "brio           NA                                                                   \n",
            "bslib          NA                                                                   \n",
            "cachem         NA                                                                   \n",
            "callr          NA                                                                   \n",
            "class          NA                                                                   \n",
            "cli            NA                                                                   \n",
            "clipr          NA                                                                   \n",
            "cluster        NA                                                                   \n",
            "codetools      NA                                                                   \n",
            "collections    NA                                                                   \n",
            "commonmark     NA                                                                   \n",
            "compiler       NA                                                                   \n",
            "cpp11          NA                                                                   \n",
            "crayon         NA                                                                   \n",
            "credentials    NA                                                                   \n",
            "curl           NA                                                                   \n",
            "cyclocomp      NA                                                                   \n",
            "datasets       NA                                                                   \n",
            "desc           NA                                                                   \n",
            "devtools       NA                                                                   \n",
            "diffobj        NA                                                                   \n",
            "digest         NA                                                                   \n",
            "downlit        NA                                                                   \n",
            "ellipsis       NA                                                                   \n",
            "evaluate       NA                                                                   \n",
            "fansi          NA                                                                   \n",
            "fastmap        NA                                                                   \n",
            "fontawesome    NA                                                                   \n",
            "foreign        NA                                                                   \n",
            "fs             NA                                                                   \n",
            "gert           NA                                                                   \n",
            "gh             NA                                                                   \n",
            "gitcreds       NA                                                                   \n",
            "glue           NA                                                                   \n",
            "graphics       NA                                                                   \n",
            "grDevices      NA                                                                   \n",
            "grid           NA                                                                   \n",
            "highr          NA                                                                   \n",
            "htmltools      \"knitr\"                                                              \n",
            "htmlwidgets    \"shiny (>= 1.1)\"                                                     \n",
            "httpuv         NA                                                                   \n",
            "httr           NA                                                                   \n",
            "ini            NA                                                                   \n",
            "IRdisplay      NA                                                                   \n",
            "IRkernel       NA                                                                   \n",
            "jquerylib      NA                                                                   \n",
            "jsonlite       NA                                                                   \n",
            "KernSmooth     NA                                                                   \n",
            "knitr          NA                                                                   \n",
            "languageserver NA                                                                   \n",
            "later          NA                                                                   \n",
            "lattice        \"chron\"                                                              \n",
            "lazyeval       NA                                                                   \n",
            "lifecycle      NA                                                                   \n",
            "lintr          NA                                                                   \n",
            "magrittr       NA                                                                   \n",
            "MASS           NA                                                                   \n",
            "Matrix         \"MatrixModels, graph, SparseM, sfsmisc, igraph, maptools, sp,\\nspdep\"\n",
            "memoise        NA                                                                   \n",
            "methods        NA                                                                   \n",
            "mgcv           NA                                                                   \n",
            "mime           NA                                                                   \n",
            "miniUI         NA                                                                   \n",
            "nlme           NA                                                                   \n",
            "nnet           NA                                                                   \n",
            "openssl        NA                                                                   \n",
            "parallel       \"snow, nws, Rmpi\"                                                    \n",
            "pbdZMQ         NA                                                                   \n",
            "pillar         NA                                                                   \n",
            "pkgbuild       NA                                                                   \n",
            "pkgconfig      NA                                                                   \n",
            "pkgdown        NA                                                                   \n",
            "pkgload        NA                                                                   \n",
            "praise         NA                                                                   \n",
            "prettyunits    NA                                                                   \n",
            "processx       NA                                                                   \n",
            "profvis        NA                                                                   \n",
            "promises       NA                                                                   \n",
            "ps             NA                                                                   \n",
            "purrr          NA                                                                   \n",
            "R.cache        NA                                                                   \n",
            "R.methodsS3    NA                                                                   \n",
            "R.oo           NA                                                                   \n",
            "R.utils        NA                                                                   \n",
            "R6             NA                                                                   \n",
            "ragg           NA                                                                   \n",
            "rappdirs       NA                                                                   \n",
            "rcmdcheck      NA                                                                   \n",
            "Rcpp           NA                                                                   \n",
            "rematch2       NA                                                                   \n",
            "remotes        NA                                                                   \n",
            "repr           \"data.table, tibble, htmlwidgets, vegalite, plotly, geojsonio\"       \n",
            "rex            NA                                                                   \n",
            "rlang          \"winch\"                                                              \n",
            "rmarkdown      NA                                                                   \n",
            "roxygen2       NA                                                                   \n",
            "rpart          NA                                                                   \n",
            "rprojroot      NA                                                                   \n",
            "rstudioapi     NA                                                                   \n",
            "rversions      NA                                                                   \n",
            "sass           NA                                                                   \n",
            "sessioninfo    NA                                                                   \n",
            "shiny          NA                                                                   \n",
            "sourcetools    NA                                                                   \n",
            "spatial        NA                                                                   \n",
            "splines        NA                                                                   \n",
            "stats          NA                                                                   \n",
            "stats4         NA                                                                   \n",
            "stringi        NA                                                                   \n",
            "stringr        NA                                                                   \n",
            "styler         NA                                                                   \n",
            "survival       NA                                                                   \n",
            "sys            NA                                                                   \n",
            "systemfonts    NA                                                                   \n",
            "tcltk          NA                                                                   \n",
            "testthat       NA                                                                   \n",
            "textshaping    NA                                                                   \n",
            "tibble         NA                                                                   \n",
            "tinytex        NA                                                                   \n",
            "tools          NA                                                                   \n",
            "urlchecker     NA                                                                   \n",
            "usethis        NA                                                                   \n",
            "utf8           NA                                                                   \n",
            "utils          NA                                                                   \n",
            "uuid           NA                                                                   \n",
            "vctrs          NA                                                                   \n",
            "waldo          NA                                                                   \n",
            "whisker        NA                                                                   \n",
            "withr          NA                                                                   \n",
            "xfun           NA                                                                   \n",
            "xml2           NA                                                                   \n",
            "xmlparsedata   NA                                                                   \n",
            "xopen          NA                                                                   \n",
            "xtable         NA                                                                   \n",
            "yaml           NA                                                                   \n",
            "zip            NA                                                                   \n",
            "               License                                  License_is_FOSS\n",
            "askpass        \"MIT + file LICENSE\"                     NA             \n",
            "backports      \"GPL-2 | GPL-3\"                          NA             \n",
            "base           \"Part of R 4.2.1\"                        NA             \n",
            "base64enc      \"GPL-2 | GPL-3\"                          NA             \n",
            "boot           \"Unlimited\"                              NA             \n",
            "brew           \"GPL-2\"                                  NA             \n",
            "brio           \"MIT + file LICENSE\"                     NA             \n",
            "bslib          \"MIT + file LICENSE\"                     NA             \n",
            "cachem         \"MIT + file LICENSE\"                     NA             \n",
            "callr          \"MIT + file LICENSE\"                     NA             \n",
            "class          \"GPL-2 | GPL-3\"                          NA             \n",
            "cli            \"MIT + file LICENSE\"                     NA             \n",
            "clipr          \"GPL-3\"                                  NA             \n",
            "cluster        \"GPL (>= 2)\"                             NA             \n",
            "codetools      \"GPL\"                                    NA             \n",
            "collections    \"MIT + file LICENSE\"                     NA             \n",
            "commonmark     \"BSD_2_clause + file LICENSE\"            NA             \n",
            "compiler       \"Part of R 4.2.1\"                        NA             \n",
            "cpp11          \"MIT + file LICENSE\"                     NA             \n",
            "crayon         \"MIT + file LICENSE\"                     NA             \n",
            "credentials    \"MIT + file LICENSE\"                     NA             \n",
            "curl           \"MIT + file LICENSE\"                     NA             \n",
            "cyclocomp      \"MIT + file LICENSE\"                     NA             \n",
            "datasets       \"Part of R 4.2.1\"                        NA             \n",
            "desc           \"MIT + file LICENSE\"                     NA             \n",
            "devtools       \"MIT + file LICENSE\"                     NA             \n",
            "diffobj        \"GPL-2 | GPL-3\"                          NA             \n",
            "digest         \"GPL (>= 2)\"                             NA             \n",
            "downlit        \"MIT + file LICENSE\"                     NA             \n",
            "ellipsis       \"MIT + file LICENSE\"                     NA             \n",
            "evaluate       \"MIT + file LICENSE\"                     NA             \n",
            "fansi          \"GPL-2 | GPL-3\"                          NA             \n",
            "fastmap        \"MIT + file LICENSE\"                     NA             \n",
            "fontawesome    \"MIT + file LICENSE\"                     NA             \n",
            "foreign        \"GPL (>= 2)\"                             NA             \n",
            "fs             \"MIT + file LICENSE\"                     NA             \n",
            "gert           \"MIT + file LICENSE\"                     NA             \n",
            "gh             \"MIT + file LICENSE\"                     NA             \n",
            "gitcreds       \"MIT + file LICENSE\"                     NA             \n",
            "glue           \"MIT + file LICENSE\"                     NA             \n",
            "graphics       \"Part of R 4.2.1\"                        NA             \n",
            "grDevices      \"Part of R 4.2.1\"                        NA             \n",
            "grid           \"Part of R 4.2.1\"                        NA             \n",
            "highr          \"GPL\"                                    NA             \n",
            "htmltools      \"GPL (>= 2)\"                             NA             \n",
            "htmlwidgets    \"MIT + file LICENSE\"                     NA             \n",
            "httpuv         \"GPL (>= 2) | file LICENSE\"              NA             \n",
            "httr           \"MIT + file LICENSE\"                     NA             \n",
            "ini            \"GPL-3\"                                  NA             \n",
            "IRdisplay      \"MIT + file LICENSE\"                     NA             \n",
            "IRkernel       \"MIT + file LICENSE\"                     NA             \n",
            "jquerylib      \"MIT + file LICENSE\"                     NA             \n",
            "jsonlite       \"MIT + file LICENSE\"                     NA             \n",
            "KernSmooth     \"Unlimited\"                              NA             \n",
            "knitr          \"GPL\"                                    NA             \n",
            "languageserver \"MIT + file LICENSE\"                     NA             \n",
            "later          \"MIT + file LICENSE\"                     NA             \n",
            "lattice        \"GPL (>= 2)\"                             NA             \n",
            "lazyeval       \"GPL-3\"                                  NA             \n",
            "lifecycle      \"MIT + file LICENSE\"                     NA             \n",
            "lintr          \"MIT + file LICENSE\"                     NA             \n",
            "magrittr       \"MIT + file LICENSE\"                     NA             \n",
            "MASS           \"GPL-2 | GPL-3\"                          NA             \n",
            "Matrix         \"GPL (>= 2) | file LICENCE\"              NA             \n",
            "memoise        \"MIT + file LICENSE\"                     NA             \n",
            "methods        \"Part of R 4.2.1\"                        NA             \n",
            "mgcv           \"GPL (>= 2)\"                             NA             \n",
            "mime           \"GPL\"                                    NA             \n",
            "miniUI         \"GPL-3\"                                  NA             \n",
            "nlme           \"GPL (>= 2)\"                             NA             \n",
            "nnet           \"GPL-2 | GPL-3\"                          NA             \n",
            "openssl        \"MIT + file LICENSE\"                     NA             \n",
            "parallel       \"Part of R 4.2.1\"                        NA             \n",
            "pbdZMQ         \"GPL-3\"                                  NA             \n",
            "pillar         \"MIT + file LICENSE\"                     NA             \n",
            "pkgbuild       \"MIT + file LICENSE\"                     NA             \n",
            "pkgconfig      \"MIT + file LICENSE\"                     NA             \n",
            "pkgdown        \"MIT + file LICENSE\"                     NA             \n",
            "pkgload        \"GPL-3\"                                  NA             \n",
            "praise         \"MIT + file LICENSE\"                     NA             \n",
            "prettyunits    \"MIT + file LICENSE\"                     NA             \n",
            "processx       \"MIT + file LICENSE\"                     NA             \n",
            "profvis        \"GPL-3 | file LICENSE\"                   NA             \n",
            "promises       \"MIT + file LICENSE\"                     NA             \n",
            "ps             \"MIT + file LICENSE\"                     NA             \n",
            "purrr          \"GPL-3 | file LICENSE\"                   NA             \n",
            "R.cache        \"LGPL (>= 2.1)\"                          NA             \n",
            "R.methodsS3    \"LGPL (>= 2.1)\"                          NA             \n",
            "R.oo           \"LGPL (>= 2.1)\"                          NA             \n",
            "R.utils        \"LGPL (>= 2.1)\"                          NA             \n",
            "R6             \"MIT + file LICENSE\"                     NA             \n",
            "ragg           \"MIT + file LICENSE\"                     NA             \n",
            "rappdirs       \"MIT + file LICENSE\"                     NA             \n",
            "rcmdcheck      \"MIT + file LICENSE\"                     NA             \n",
            "Rcpp           \"GPL (>= 2)\"                             NA             \n",
            "rematch2       \"MIT + file LICENSE\"                     NA             \n",
            "remotes        \"MIT + file LICENSE\"                     NA             \n",
            "repr           \"GPL-3\"                                  NA             \n",
            "rex            \"MIT + file LICENSE\"                     NA             \n",
            "rlang          \"MIT + file LICENSE\"                     NA             \n",
            "rmarkdown      \"GPL-3\"                                  NA             \n",
            "roxygen2       \"MIT + file LICENSE\"                     NA             \n",
            "rpart          \"GPL-2 | GPL-3\"                          NA             \n",
            "rprojroot      \"MIT + file LICENSE\"                     NA             \n",
            "rstudioapi     \"MIT + file LICENSE\"                     NA             \n",
            "rversions      \"MIT + file LICENSE\"                     NA             \n",
            "sass           \"MIT + file LICENSE\"                     NA             \n",
            "sessioninfo    \"GPL-2\"                                  NA             \n",
            "shiny          \"GPL-3 | file LICENSE\"                   NA             \n",
            "sourcetools    \"MIT + file LICENSE\"                     NA             \n",
            "spatial        \"GPL-2 | GPL-3\"                          NA             \n",
            "splines        \"Part of R 4.2.1\"                        NA             \n",
            "stats          \"Part of R 4.2.1\"                        NA             \n",
            "stats4         \"Part of R 4.2.1\"                        NA             \n",
            "stringi        \"file LICENSE\"                           NA             \n",
            "stringr        \"GPL-2 | file LICENSE\"                   NA             \n",
            "styler         \"MIT + file LICENSE\"                     NA             \n",
            "survival       \"LGPL (>= 2)\"                            NA             \n",
            "sys            \"MIT + file LICENSE\"                     NA             \n",
            "systemfonts    \"MIT + file LICENSE\"                     NA             \n",
            "tcltk          \"Part of R 4.2.1\"                        NA             \n",
            "testthat       \"MIT + file LICENSE\"                     NA             \n",
            "textshaping    \"MIT + file LICENSE\"                     NA             \n",
            "tibble         \"MIT + file LICENSE\"                     NA             \n",
            "tinytex        \"MIT + file LICENSE\"                     NA             \n",
            "tools          \"Part of R 4.2.1\"                        NA             \n",
            "urlchecker     \"GPL-3\"                                  NA             \n",
            "usethis        \"MIT + file LICENSE\"                     NA             \n",
            "utf8           \"Apache License (== 2.0) | file LICENSE\" NA             \n",
            "utils          \"Part of R 4.2.1\"                        NA             \n",
            "uuid           \"MIT + file LICENSE\"                     NA             \n",
            "vctrs          \"MIT + file LICENSE\"                     NA             \n",
            "waldo          \"MIT + file LICENSE\"                     NA             \n",
            "whisker        \"GPL-3\"                                  NA             \n",
            "withr          \"MIT + file LICENSE\"                     NA             \n",
            "xfun           \"MIT + file LICENSE\"                     NA             \n",
            "xml2           \"MIT + file LICENSE\"                     NA             \n",
            "xmlparsedata   \"MIT + file LICENSE\"                     NA             \n",
            "xopen          \"MIT + file LICENSE\"                     NA             \n",
            "xtable         \"GPL (>= 2)\"                             NA             \n",
            "yaml           \"BSD_3_clause + file LICENSE\"            NA             \n",
            "zip            \"MIT + file LICENSE\"                     NA             \n",
            "               License_restricts_use OS_type MD5sum NeedsCompilation Built  \n",
            "askpass        NA                    NA      NA     \"yes\"            \"4.2.0\"\n",
            "backports      NA                    NA      NA     \"yes\"            \"4.2.0\"\n",
            "base           NA                    NA      NA     NA               \"4.2.1\"\n",
            "base64enc      NA                    NA      NA     \"yes\"            \"4.2.0\"\n",
            "boot           NA                    NA      NA     \"no\"             \"4.2.1\"\n",
            "brew           NA                    NA      NA     \"no\"             \"4.2.0\"\n",
            "brio           NA                    NA      NA     \"yes\"            \"4.2.0\"\n",
            "bslib          NA                    NA      NA     \"no\"             \"4.2.0\"\n",
            "cachem         NA                    NA      NA     \"yes\"            \"4.2.0\"\n",
            "callr          NA                    NA      NA     \"no\"             \"4.2.0\"\n",
            "class          NA                    NA      NA     \"yes\"            \"4.2.1\"\n",
            "cli            NA                    NA      NA     \"yes\"            \"4.2.0\"\n",
            "clipr          NA                    NA      NA     \"no\"             \"4.2.0\"\n",
            "cluster        NA                    NA      NA     \"yes\"            \"4.2.1\"\n",
            "codetools      NA                    NA      NA     \"no\"             \"4.2.1\"\n",
            "collections    NA                    NA      NA     \"yes\"            \"4.2.0\"\n",
            "commonmark     NA                    NA      NA     \"yes\"            \"4.2.0\"\n",
            "compiler       NA                    NA      NA     NA               \"4.2.1\"\n",
            "cpp11          NA                    NA      NA     \"no\"             \"4.2.0\"\n",
            "crayon         NA                    NA      NA     \"no\"             \"4.2.0\"\n",
            "credentials    NA                    NA      NA     \"no\"             \"4.2.0\"\n",
            "curl           NA                    NA      NA     \"yes\"            \"4.2.0\"\n",
            "cyclocomp      NA                    NA      NA     \"no\"             \"4.2.0\"\n",
            "datasets       NA                    NA      NA     NA               \"4.2.1\"\n",
            "desc           NA                    NA      NA     \"no\"             \"4.2.0\"\n",
            "devtools       NA                    NA      NA     \"no\"             \"4.2.0\"\n",
            "diffobj        NA                    NA      NA     \"yes\"            \"4.2.0\"\n",
            "digest         NA                    NA      NA     \"yes\"            \"4.2.0\"\n",
            "downlit        NA                    NA      NA     \"no\"             \"4.2.0\"\n",
            "ellipsis       NA                    NA      NA     \"yes\"            \"4.2.0\"\n",
            "evaluate       NA                    NA      NA     \"no\"             \"4.2.0\"\n",
            "fansi          NA                    NA      NA     \"yes\"            \"4.2.0\"\n",
            "fastmap        NA                    NA      NA     \"yes\"            \"4.2.0\"\n",
            "fontawesome    NA                    NA      NA     \"no\"             \"4.2.0\"\n",
            "foreign        NA                    NA      NA     \"yes\"            \"4.2.1\"\n",
            "fs             NA                    NA      NA     \"yes\"            \"4.2.0\"\n",
            "gert           NA                    NA      NA     \"yes\"            \"4.2.0\"\n",
            "gh             NA                    NA      NA     \"no\"             \"4.2.0\"\n",
            "gitcreds       NA                    NA      NA     \"no\"             \"4.2.0\"\n",
            "glue           NA                    NA      NA     \"yes\"            \"4.2.0\"\n",
            "graphics       NA                    NA      NA     \"yes\"            \"4.2.1\"\n",
            "grDevices      NA                    NA      NA     \"yes\"            \"4.2.1\"\n",
            "grid           NA                    NA      NA     \"yes\"            \"4.2.1\"\n",
            "highr          NA                    NA      NA     \"no\"             \"4.2.0\"\n",
            "htmltools      NA                    NA      NA     \"yes\"            \"4.2.0\"\n",
            "htmlwidgets    NA                    NA      NA     \"no\"             \"4.2.0\"\n",
            "httpuv         NA                    NA      NA     \"yes\"            \"4.2.0\"\n",
            "httr           NA                    NA      NA     \"no\"             \"4.2.0\"\n",
            "ini            NA                    NA      NA     \"no\"             \"4.2.0\"\n",
            "IRdisplay      NA                    NA      NA     \"no\"             \"4.2.0\"\n",
            "IRkernel       NA                    NA      NA     \"no\"             \"4.2.1\"\n",
            "jquerylib      NA                    NA      NA     \"no\"             \"4.2.0\"\n",
            "jsonlite       NA                    NA      NA     \"yes\"            \"4.2.0\"\n",
            "KernSmooth     NA                    NA      NA     \"yes\"            \"4.2.1\"\n",
            "knitr          NA                    NA      NA     \"no\"             \"4.2.0\"\n",
            "languageserver NA                    NA      NA     \"yes\"            \"4.2.0\"\n",
            "later          NA                    NA      NA     \"yes\"            \"4.2.0\"\n",
            "lattice        NA                    NA      NA     \"yes\"            \"4.2.1\"\n",
            "lazyeval       NA                    NA      NA     \"yes\"            \"4.2.0\"\n",
            "lifecycle      NA                    NA      NA     \"no\"             \"4.2.0\"\n",
            "lintr          NA                    NA      NA     \"no\"             \"4.2.0\"\n",
            "magrittr       NA                    NA      NA     \"yes\"            \"4.2.0\"\n",
            "MASS           NA                    NA      NA     \"yes\"            \"4.2.1\"\n",
            "Matrix         NA                    NA      NA     \"yes\"            \"4.2.1\"\n",
            "memoise        NA                    NA      NA     \"no\"             \"4.2.0\"\n",
            "methods        NA                    NA      NA     \"yes\"            \"4.2.1\"\n",
            "mgcv           NA                    NA      NA     \"yes\"            \"4.2.1\"\n",
            "mime           NA                    NA      NA     \"yes\"            \"4.2.0\"\n",
            "miniUI         NA                    NA      NA     \"no\"             \"4.2.0\"\n",
            "nlme           NA                    NA      NA     \"yes\"            \"4.2.1\"\n",
            "nnet           NA                    NA      NA     \"yes\"            \"4.2.1\"\n",
            "openssl        NA                    NA      NA     \"yes\"            \"4.2.0\"\n",
            "parallel       NA                    NA      NA     \"yes\"            \"4.2.1\"\n",
            "pbdZMQ         NA                    NA      NA     \"yes\"            \"4.2.0\"\n",
            "pillar         NA                    NA      NA     \"no\"             \"4.2.0\"\n",
            "pkgbuild       NA                    NA      NA     \"no\"             \"4.2.0\"\n",
            "pkgconfig      NA                    NA      NA     \"no\"             \"4.2.0\"\n",
            "pkgdown        NA                    NA      NA     \"no\"             \"4.2.0\"\n",
            "pkgload        NA                    NA      NA     \"no\"             \"4.2.0\"\n",
            "praise         NA                    NA      NA     \"no\"             \"4.2.0\"\n",
            "prettyunits    NA                    NA      NA     \"no\"             \"4.2.0\"\n",
            "processx       NA                    NA      NA     \"yes\"            \"4.2.0\"\n",
            "profvis        NA                    NA      NA     \"yes\"            \"4.2.0\"\n",
            "promises       NA                    NA      NA     \"yes\"            \"4.2.0\"\n",
            "ps             NA                    NA      NA     \"yes\"            \"4.2.0\"\n",
            "purrr          NA                    NA      NA     \"yes\"            \"4.2.0\"\n",
            "R.cache        NA                    NA      NA     \"no\"             \"4.2.0\"\n",
            "R.methodsS3    NA                    NA      NA     \"no\"             \"4.2.0\"\n",
            "R.oo           NA                    NA      NA     \"no\"             \"4.2.0\"\n",
            "R.utils        NA                    NA      NA     \"no\"             \"4.2.0\"\n",
            "R6             NA                    NA      NA     \"no\"             \"4.2.0\"\n",
            "ragg           NA                    NA      NA     \"yes\"            \"4.2.0\"\n",
            "rappdirs       NA                    NA      NA     \"yes\"            \"4.2.0\"\n",
            "rcmdcheck      NA                    NA      NA     \"no\"             \"4.2.0\"\n",
            "Rcpp           NA                    NA      NA     \"yes\"            \"4.2.0\"\n",
            "rematch2       NA                    NA      NA     \"no\"             \"4.2.0\"\n",
            "remotes        NA                    NA      NA     \"no\"             \"4.2.0\"\n",
            "repr           NA                    NA      NA     \"no\"             \"4.2.0\"\n",
            "rex            NA                    NA      NA     \"no\"             \"4.2.0\"\n",
            "rlang          NA                    NA      NA     \"yes\"            \"4.2.0\"\n",
            "rmarkdown      NA                    NA      NA     \"no\"             \"4.2.0\"\n",
            "roxygen2       NA                    NA      NA     \"yes\"            \"4.2.0\"\n",
            "rpart          NA                    NA      NA     \"yes\"            \"4.2.1\"\n",
            "rprojroot      NA                    NA      NA     \"no\"             \"4.2.0\"\n",
            "rstudioapi     NA                    NA      NA     \"no\"             \"4.2.0\"\n",
            "rversions      NA                    NA      NA     \"no\"             \"4.2.0\"\n",
            "sass           NA                    NA      NA     \"yes\"            \"4.2.0\"\n",
            "sessioninfo    NA                    NA      NA     \"no\"             \"4.2.0\"\n",
            "shiny          NA                    NA      NA     \"no\"             \"4.2.0\"\n",
            "sourcetools    NA                    NA      NA     \"yes\"            \"4.2.0\"\n",
            "spatial        NA                    NA      NA     \"yes\"            \"4.2.1\"\n",
            "splines        NA                    NA      NA     \"yes\"            \"4.2.1\"\n",
            "stats          NA                    NA      NA     \"yes\"            \"4.2.1\"\n",
            "stats4         NA                    NA      NA     NA               \"4.2.1\"\n",
            "stringi        NA                    NA      NA     \"yes\"            \"4.2.0\"\n",
            "stringr        NA                    NA      NA     \"no\"             \"4.2.0\"\n",
            "styler         NA                    NA      NA     \"no\"             \"4.2.0\"\n",
            "survival       NA                    NA      NA     \"yes\"            \"4.2.1\"\n",
            "sys            NA                    NA      NA     \"yes\"            \"4.2.0\"\n",
            "systemfonts    NA                    NA      NA     \"yes\"            \"4.2.0\"\n",
            "tcltk          NA                    NA      NA     \"yes\"            \"4.2.1\"\n",
            "testthat       NA                    NA      NA     \"yes\"            \"4.2.0\"\n",
            "textshaping    NA                    NA      NA     \"yes\"            \"4.2.0\"\n",
            "tibble         NA                    NA      NA     \"yes\"            \"4.2.0\"\n",
            "tinytex        NA                    NA      NA     \"no\"             \"4.2.0\"\n",
            "tools          NA                    NA      NA     \"yes\"            \"4.2.1\"\n",
            "urlchecker     NA                    NA      NA     \"no\"             \"4.2.0\"\n",
            "usethis        NA                    NA      NA     \"no\"             \"4.2.0\"\n",
            "utf8           NA                    NA      NA     \"yes\"            \"4.2.0\"\n",
            "utils          NA                    NA      NA     \"yes\"            \"4.2.1\"\n",
            "uuid           NA                    NA      NA     \"yes\"            \"4.2.0\"\n",
            "vctrs          NA                    NA      NA     \"yes\"            \"4.2.0\"\n",
            "waldo          NA                    NA      NA     \"no\"             \"4.2.0\"\n",
            "whisker        NA                    NA      NA     \"no\"             \"4.2.0\"\n",
            "withr          NA                    NA      NA     \"no\"             \"4.2.0\"\n",
            "xfun           NA                    NA      NA     \"yes\"            \"4.2.0\"\n",
            "xml2           NA                    NA      NA     \"yes\"            \"4.2.0\"\n",
            "xmlparsedata   NA                    NA      NA     \"no\"             \"4.2.0\"\n",
            "xopen          NA                    NA      NA     \"no\"             \"4.2.0\"\n",
            "xtable         NA                    NA      NA     \"no\"             \"4.2.0\"\n",
            "yaml           NA                    NA      NA     \"yes\"            \"4.2.0\"\n",
            "zip            NA                    NA      NA     \"yes\"            \"4.2.0\"\n"
          ]
        }
      ],
      "source": [
        "print(installed.packages())"
      ]
    },
    {
      "cell_type": "markdown",
      "metadata": {
        "id": "9GxlxeNtvuRc"
      },
      "source": [
        "## Installing Packages\n",
        "\n",
        "---\n",
        "\n",
        "The following packages will be the ones we will use the most:"
      ]
    },
    {
      "cell_type": "code",
      "execution_count": 3,
      "metadata": {
        "id": "8PZHaYEwbiVr",
        "vscode": {
          "languageId": "r"
        }
      },
      "outputs": [
        {
          "ename": "ERROR",
          "evalue": "Error in library(car): there is no package called ‘car’\n",
          "output_type": "error",
          "traceback": [
            "Error in library(car): there is no package called ‘car’\nTraceback:\n",
            "1. library(car)"
          ]
        }
      ],
      "source": [
        "library(car)"
      ]
    },
    {
      "cell_type": "markdown",
      "metadata": {},
      "source": []
    },
    {
      "cell_type": "code",
      "execution_count": 4,
      "metadata": {
        "id": "6v3GmmX8N0Un",
        "vscode": {
          "languageId": "r"
        }
      },
      "outputs": [
        {
          "name": "stderr",
          "output_type": "stream",
          "text": [
            "also installing the dependencies ‘colorspace’, ‘farver’, ‘labeling’, ‘munsell’, ‘RColorBrewer’, ‘viridisLite’, ‘gtable’, ‘isoband’, ‘scales’, ‘generics’, ‘tidyr’, ‘ggplot2’, ‘tidyselect’, ‘Matrix’, ‘broom’, ‘dplyr’, ‘numDeriv’, ‘SparseM’, ‘MatrixModels’, ‘sp’, ‘minqa’, ‘nloptr’, ‘RcppEigen’, ‘carData’, ‘abind’, ‘pbkrtest’, ‘quantreg’, ‘maptools’, ‘lme4’\n",
            "\n",
            "\n"
          ]
        },
        {
          "name": "stdout",
          "output_type": "stream",
          "text": [
            "\n",
            "The downloaded binary packages are in\n",
            "\t/var/folders/3m/hvvbkscs3g18gqtdpjbjc7l80000gn/T//RtmpOkPg20/downloaded_packages\n"
          ]
        },
        {
          "name": "stderr",
          "output_type": "stream",
          "text": [
            "Loading required package: carData\n",
            "\n"
          ]
        }
      ],
      "source": [
        "install.packages(\"car\")\n",
        "library(car)"
      ]
    },
    {
      "cell_type": "code",
      "execution_count": 7,
      "metadata": {
        "id": "fXj15gy2br__",
        "vscode": {
          "languageId": "r"
        }
      },
      "outputs": [
        {
          "ename": "ERROR",
          "evalue": "Error in library(\"plyr\"): there is no package called ‘plyr’\n",
          "output_type": "error",
          "traceback": [
            "Error in library(\"plyr\"): there is no package called ‘plyr’\nTraceback:\n",
            "1. library(\"plyr\")"
          ]
        }
      ],
      "source": [
        "library(\"plyr\")\n",
        "library(\"dplyr\")\n",
        "library(\"tidyverse\")"
      ]
    },
    {
      "cell_type": "markdown",
      "metadata": {
        "id": "GJPVpsXCctAs"
      },
      "source": [
        "Install the package \"plyr\" and upload it!"
      ]
    },
    {
      "cell_type": "code",
      "execution_count": 8,
      "metadata": {
        "id": "jNfcpyV2wBPe",
        "vscode": {
          "languageId": "r"
        }
      },
      "outputs": [
        {
          "name": "stdout",
          "output_type": "stream",
          "text": [
            "\n",
            "The downloaded binary packages are in\n",
            "\t/var/folders/3m/hvvbkscs3g18gqtdpjbjc7l80000gn/T//RtmpOkPg20/downloaded_packages\n"
          ]
        }
      ],
      "source": [
        "install.packages(\"plyr\")"
      ]
    },
    {
      "cell_type": "markdown",
      "metadata": {
        "id": "Ec80-eM-c_vT"
      },
      "source": [
        "If you cannot install packages try to set dependencies=TRUE, verbose=TRUE "
      ]
    },
    {
      "cell_type": "code",
      "execution_count": 9,
      "metadata": {
        "id": "K7fwCleNVg-P",
        "trusted": true,
        "vscode": {
          "languageId": "r"
        }
      },
      "outputs": [],
      "source": [
        "#install.packages(\"gmodels\",dependencies=TRUE, verbose=TRUE)\n",
        "#library(gmodels)"
      ]
    },
    {
      "cell_type": "markdown",
      "metadata": {
        "id": "FTBgVUoYvmAG"
      },
      "source": [
        "Other packages for data analysis"
      ]
    },
    {
      "cell_type": "code",
      "execution_count": 10,
      "metadata": {
        "id": "HT4MVQNPVg-S",
        "trusted": true,
        "vscode": {
          "languageId": "r"
        }
      },
      "outputs": [
        {
          "name": "stderr",
          "output_type": "stream",
          "text": [
            "also installing the dependencies ‘bit’, ‘bit64’, ‘progress’, ‘vroom’, ‘tzdb’, ‘forcats’, ‘hms’, ‘readr’, ‘tweenr’, ‘polyclip’, ‘haven’, ‘ggstance’, ‘ggridges’, ‘ggforce’, ‘labelled’, ‘ggformula’, ‘mosaicData’, ‘mosaicCore’\n",
            "\n",
            "\n"
          ]
        },
        {
          "name": "stdout",
          "output_type": "stream",
          "text": [
            "\n",
            "The downloaded binary packages are in\n",
            "\t/var/folders/3m/hvvbkscs3g18gqtdpjbjc7l80000gn/T//RtmpOkPg20/downloaded_packages\n"
          ]
        }
      ],
      "source": [
        "#install.packages(\"samplesizeCMH\")\n",
        "install.packages(\"mosaic\")\n",
        "#install.packages(\"Stat2Data\")"
      ]
    },
    {
      "cell_type": "code",
      "execution_count": 11,
      "metadata": {
        "id": "uuKT-6ZaVg-U",
        "trusted": true,
        "vscode": {
          "languageId": "r"
        }
      },
      "outputs": [
        {
          "name": "stderr",
          "output_type": "stream",
          "text": [
            "Registered S3 method overwritten by 'mosaic':\n",
            "  method                           from   \n",
            "  fortify.SpatialPolygonsDataFrame ggplot2\n",
            "\n",
            "\n",
            "The 'mosaic' package masks several functions from core packages in order to add \n",
            "additional features.  The original behavior of these functions should not be affected by this.\n",
            "\n",
            "\n",
            "Attaching package: ‘mosaic’\n",
            "\n",
            "\n",
            "The following objects are masked from ‘package:dplyr’:\n",
            "\n",
            "    count, do, tally\n",
            "\n",
            "\n",
            "The following object is masked from ‘package:Matrix’:\n",
            "\n",
            "    mean\n",
            "\n",
            "\n",
            "The following object is masked from ‘package:ggplot2’:\n",
            "\n",
            "    stat\n",
            "\n",
            "\n",
            "The following objects are masked from ‘package:car’:\n",
            "\n",
            "    deltaMethod, logit\n",
            "\n",
            "\n",
            "The following objects are masked from ‘package:stats’:\n",
            "\n",
            "    binom.test, cor, cor.test, cov, fivenum, IQR, median, prop.test,\n",
            "    quantile, sd, t.test, var\n",
            "\n",
            "\n",
            "The following objects are masked from ‘package:base’:\n",
            "\n",
            "    max, mean, min, prod, range, sample, sum\n",
            "\n",
            "\n"
          ]
        }
      ],
      "source": [
        "#library(samplesizeCMH)\n",
        "library(mosaic)\n",
        "#library(Stat2Data)"
      ]
    },
    {
      "cell_type": "markdown",
      "metadata": {
        "id": "Fd2jVAz3dKvP"
      },
      "source": [
        "\n",
        "**The most important thing: Learn how to use the HELP!**\n",
        "\n",
        "What can we do with these libraries/pakages?\n",
        "\n",
        "To understand what functions these packages contain and how to use them we can use the help function as follows:"
      ]
    },
    {
      "cell_type": "code",
      "execution_count": 13,
      "metadata": {
        "id": "OdmA94M7d1lH",
        "vscode": {
          "languageId": "r"
        }
      },
      "outputs": [
        {
          "name": "stdout",
          "output_type": "stream",
          "text": [
            "No documentation for ‘plyr’ in specified packages and libraries:\n",
            "you could try ‘??plyr’"
          ]
        }
      ],
      "source": [
        "help(plyr)"
      ]
    },
    {
      "cell_type": "code",
      "execution_count": 14,
      "metadata": {
        "id": "51nid4lRgaVz",
        "vscode": {
          "languageId": "r"
        }
      },
      "outputs": [
        {
          "name": "stdout",
          "output_type": "stream",
          "text": [
            "rename                  package:dplyr                  R Documentation\n",
            "\n",
            "_\bR_\be_\bn_\ba_\bm_\be _\bc_\bo_\bl_\bu_\bm_\bn_\bs\n",
            "\n",
            "_\bD_\be_\bs_\bc_\br_\bi_\bp_\bt_\bi_\bo_\bn:\n",
            "\n",
            "     ‘rename()’ changes the names of individual variables using\n",
            "     ‘new_name = old_name’ syntax; ‘rename_with()’ renames columns\n",
            "     using a function.\n",
            "\n",
            "_\bU_\bs_\ba_\bg_\be:\n",
            "\n",
            "     rename(.data, ...)\n",
            "     \n",
            "     rename_with(.data, .fn, .cols = everything(), ...)\n",
            "     \n",
            "_\bA_\br_\bg_\bu_\bm_\be_\bn_\bt_\bs:\n",
            "\n",
            "   .data: A data frame, data frame extension (e.g. a tibble), or a lazy\n",
            "          data frame (e.g. from dbplyr or dtplyr). See _Methods_,\n",
            "          below, for more details.\n",
            "\n",
            "     ...: For ‘rename()’: <‘tidy-select’> Use ‘new_name = old_name’ to\n",
            "          rename selected variables.\n",
            "\n",
            "          For ‘rename_with()’: additional arguments passed onto ‘.fn’.\n",
            "\n",
            "     .fn: A function used to transform the selected ‘.cols’. Should\n",
            "          return a character vector the same length as the input.\n",
            "\n",
            "   .cols: <‘tidy-select’> Columns to rename; defaults to all columns.\n",
            "\n",
            "_\bV_\ba_\bl_\bu_\be:\n",
            "\n",
            "     An object of the same type as ‘.data’. The output has the\n",
            "     following properties:\n",
            "\n",
            "        • Rows are not affected.\n",
            "\n",
            "        • Column names are changed; column order is preserved.\n",
            "\n",
            "        • Data frame attributes are preserved.\n",
            "\n",
            "        • Groups are updated to reflect new names.\n",
            "\n",
            "_\bM_\be_\bt_\bh_\bo_\bd_\bs:\n",
            "\n",
            "     This function is a *generic*, which means that packages can\n",
            "     provide implementations (methods) for other classes. See the\n",
            "     documentation of individual methods for extra arguments and\n",
            "     differences in behaviour.\n",
            "\n",
            "     The following methods are currently available in loaded packages:\n",
            "     dplyr (‘data.frame’).\n",
            "\n",
            "_\bS_\be_\be _\bA_\bl_\bs_\bo:\n",
            "\n",
            "     Other single table verbs: ‘arrange()’, ‘filter()’, ‘mutate()’,\n",
            "     ‘select()’, ‘slice()’, ‘summarise()’\n",
            "\n",
            "_\bE_\bx_\ba_\bm_\bp_\bl_\be_\bs:\n",
            "\n",
            "     iris <- as_tibble(iris) # so it prints a little nicer\n",
            "     rename(iris, petal_length = Petal.Length)\n",
            "     \n",
            "     rename_with(iris, toupper)\n",
            "     rename_with(iris, toupper, starts_with(\"Petal\"))\n",
            "     rename_with(iris, ~ tolower(gsub(\".\", \"_\", .x, fixed = TRUE)))\n",
            "     "
          ]
        }
      ],
      "source": [
        "?rename"
      ]
    },
    {
      "cell_type": "markdown",
      "metadata": {
        "id": "j9wrpp-JpJWS"
      },
      "source": [
        "## Descriptive statistics in R\n",
        "\n",
        "\n",
        "---\n",
        "\n",
        "\n",
        "Let's start analysing some data. We will now use data that are already in R (The data we are going to use in this example are found in the package \"car\"). To access them we will only have to use the data() command:"
      ]
    },
    {
      "cell_type": "code",
      "execution_count": 15,
      "metadata": {
        "id": "FIbqFg5ShK6E",
        "vscode": {
          "languageId": "r"
        }
      },
      "outputs": [],
      "source": [
        "data(Salaries)"
      ]
    },
    {
      "cell_type": "markdown",
      "metadata": {
        "id": "YgRo4S_kdb9o"
      },
      "source": [
        "To look at them we need to write:"
      ]
    },
    {
      "cell_type": "code",
      "execution_count": 16,
      "metadata": {
        "id": "wF_xQojSdd-k",
        "vscode": {
          "languageId": "r"
        }
      },
      "outputs": [
        {
          "data": {
            "text/html": [
              "<table class=\"dataframe\">\n",
              "<caption>A data.frame: 397 × 6</caption>\n",
              "<thead>\n",
              "\t<tr><th scope=col>rank</th><th scope=col>discipline</th><th scope=col>yrs.since.phd</th><th scope=col>yrs.service</th><th scope=col>sex</th><th scope=col>salary</th></tr>\n",
              "\t<tr><th scope=col>&lt;fct&gt;</th><th scope=col>&lt;fct&gt;</th><th scope=col>&lt;int&gt;</th><th scope=col>&lt;int&gt;</th><th scope=col>&lt;fct&gt;</th><th scope=col>&lt;int&gt;</th></tr>\n",
              "</thead>\n",
              "<tbody>\n",
              "\t<tr><td>Prof     </td><td>B</td><td>19</td><td>18</td><td>Male  </td><td>139750</td></tr>\n",
              "\t<tr><td>Prof     </td><td>B</td><td>20</td><td>16</td><td>Male  </td><td>173200</td></tr>\n",
              "\t<tr><td>AsstProf </td><td>B</td><td> 4</td><td> 3</td><td>Male  </td><td> 79750</td></tr>\n",
              "\t<tr><td>Prof     </td><td>B</td><td>45</td><td>39</td><td>Male  </td><td>115000</td></tr>\n",
              "\t<tr><td>Prof     </td><td>B</td><td>40</td><td>41</td><td>Male  </td><td>141500</td></tr>\n",
              "\t<tr><td>AssocProf</td><td>B</td><td> 6</td><td> 6</td><td>Male  </td><td> 97000</td></tr>\n",
              "\t<tr><td>Prof     </td><td>B</td><td>30</td><td>23</td><td>Male  </td><td>175000</td></tr>\n",
              "\t<tr><td>Prof     </td><td>B</td><td>45</td><td>45</td><td>Male  </td><td>147765</td></tr>\n",
              "\t<tr><td>Prof     </td><td>B</td><td>21</td><td>20</td><td>Male  </td><td>119250</td></tr>\n",
              "\t<tr><td>Prof     </td><td>B</td><td>18</td><td>18</td><td>Female</td><td>129000</td></tr>\n",
              "\t<tr><td>AssocProf</td><td>B</td><td>12</td><td> 8</td><td>Male  </td><td>119800</td></tr>\n",
              "\t<tr><td>AsstProf </td><td>B</td><td> 7</td><td> 2</td><td>Male  </td><td> 79800</td></tr>\n",
              "\t<tr><td>AsstProf </td><td>B</td><td> 1</td><td> 1</td><td>Male  </td><td> 77700</td></tr>\n",
              "\t<tr><td>AsstProf </td><td>B</td><td> 2</td><td> 0</td><td>Male  </td><td> 78000</td></tr>\n",
              "\t<tr><td>Prof     </td><td>B</td><td>20</td><td>18</td><td>Male  </td><td>104800</td></tr>\n",
              "\t<tr><td>Prof     </td><td>B</td><td>12</td><td> 3</td><td>Male  </td><td>117150</td></tr>\n",
              "\t<tr><td>Prof     </td><td>B</td><td>19</td><td>20</td><td>Male  </td><td>101000</td></tr>\n",
              "\t<tr><td>Prof     </td><td>A</td><td>38</td><td>34</td><td>Male  </td><td>103450</td></tr>\n",
              "\t<tr><td>Prof     </td><td>A</td><td>37</td><td>23</td><td>Male  </td><td>124750</td></tr>\n",
              "\t<tr><td>Prof     </td><td>A</td><td>39</td><td>36</td><td>Female</td><td>137000</td></tr>\n",
              "\t<tr><td>Prof     </td><td>A</td><td>31</td><td>26</td><td>Male  </td><td> 89565</td></tr>\n",
              "\t<tr><td>Prof     </td><td>A</td><td>36</td><td>31</td><td>Male  </td><td>102580</td></tr>\n",
              "\t<tr><td>Prof     </td><td>A</td><td>34</td><td>30</td><td>Male  </td><td> 93904</td></tr>\n",
              "\t<tr><td>Prof     </td><td>A</td><td>24</td><td>19</td><td>Male  </td><td>113068</td></tr>\n",
              "\t<tr><td>AssocProf</td><td>A</td><td>13</td><td> 8</td><td>Female</td><td> 74830</td></tr>\n",
              "\t<tr><td>Prof     </td><td>A</td><td>21</td><td> 8</td><td>Male  </td><td>106294</td></tr>\n",
              "\t<tr><td>Prof     </td><td>A</td><td>35</td><td>23</td><td>Male  </td><td>134885</td></tr>\n",
              "\t<tr><td>AsstProf </td><td>B</td><td> 5</td><td> 3</td><td>Male  </td><td> 82379</td></tr>\n",
              "\t<tr><td>AsstProf </td><td>B</td><td>11</td><td> 0</td><td>Male  </td><td> 77000</td></tr>\n",
              "\t<tr><td>Prof     </td><td>B</td><td>12</td><td> 8</td><td>Male  </td><td>118223</td></tr>\n",
              "\t<tr><td>⋮</td><td>⋮</td><td>⋮</td><td>⋮</td><td>⋮</td><td>⋮</td></tr>\n",
              "\t<tr><td>AssocProf</td><td>A</td><td>10</td><td> 1</td><td>Male</td><td>108413</td></tr>\n",
              "\t<tr><td>Prof     </td><td>A</td><td>35</td><td>30</td><td>Male</td><td>131950</td></tr>\n",
              "\t<tr><td>Prof     </td><td>A</td><td>33</td><td>31</td><td>Male</td><td>134690</td></tr>\n",
              "\t<tr><td>AssocProf</td><td>A</td><td>13</td><td> 8</td><td>Male</td><td> 78182</td></tr>\n",
              "\t<tr><td>Prof     </td><td>A</td><td>23</td><td>20</td><td>Male</td><td>110515</td></tr>\n",
              "\t<tr><td>Prof     </td><td>A</td><td>12</td><td> 7</td><td>Male</td><td>109707</td></tr>\n",
              "\t<tr><td>Prof     </td><td>A</td><td>30</td><td>26</td><td>Male</td><td>136660</td></tr>\n",
              "\t<tr><td>Prof     </td><td>A</td><td>27</td><td>19</td><td>Male</td><td>103275</td></tr>\n",
              "\t<tr><td>Prof     </td><td>A</td><td>28</td><td>26</td><td>Male</td><td>103649</td></tr>\n",
              "\t<tr><td>AsstProf </td><td>A</td><td> 4</td><td> 1</td><td>Male</td><td> 74856</td></tr>\n",
              "\t<tr><td>AsstProf </td><td>A</td><td> 6</td><td> 3</td><td>Male</td><td> 77081</td></tr>\n",
              "\t<tr><td>Prof     </td><td>A</td><td>38</td><td>38</td><td>Male</td><td>150680</td></tr>\n",
              "\t<tr><td>AssocProf</td><td>A</td><td>11</td><td> 8</td><td>Male</td><td>104121</td></tr>\n",
              "\t<tr><td>AsstProf </td><td>A</td><td> 8</td><td> 3</td><td>Male</td><td> 75996</td></tr>\n",
              "\t<tr><td>Prof     </td><td>A</td><td>27</td><td>23</td><td>Male</td><td>172505</td></tr>\n",
              "\t<tr><td>AssocProf</td><td>A</td><td> 8</td><td> 5</td><td>Male</td><td> 86895</td></tr>\n",
              "\t<tr><td>Prof     </td><td>A</td><td>44</td><td>44</td><td>Male</td><td>105000</td></tr>\n",
              "\t<tr><td>Prof     </td><td>A</td><td>27</td><td>21</td><td>Male</td><td>125192</td></tr>\n",
              "\t<tr><td>Prof     </td><td>A</td><td>15</td><td> 9</td><td>Male</td><td>114330</td></tr>\n",
              "\t<tr><td>Prof     </td><td>A</td><td>29</td><td>27</td><td>Male</td><td>139219</td></tr>\n",
              "\t<tr><td>Prof     </td><td>A</td><td>29</td><td>15</td><td>Male</td><td>109305</td></tr>\n",
              "\t<tr><td>Prof     </td><td>A</td><td>38</td><td>36</td><td>Male</td><td>119450</td></tr>\n",
              "\t<tr><td>Prof     </td><td>A</td><td>33</td><td>18</td><td>Male</td><td>186023</td></tr>\n",
              "\t<tr><td>Prof     </td><td>A</td><td>40</td><td>19</td><td>Male</td><td>166605</td></tr>\n",
              "\t<tr><td>Prof     </td><td>A</td><td>30</td><td>19</td><td>Male</td><td>151292</td></tr>\n",
              "\t<tr><td>Prof     </td><td>A</td><td>33</td><td>30</td><td>Male</td><td>103106</td></tr>\n",
              "\t<tr><td>Prof     </td><td>A</td><td>31</td><td>19</td><td>Male</td><td>150564</td></tr>\n",
              "\t<tr><td>Prof     </td><td>A</td><td>42</td><td>25</td><td>Male</td><td>101738</td></tr>\n",
              "\t<tr><td>Prof     </td><td>A</td><td>25</td><td>15</td><td>Male</td><td> 95329</td></tr>\n",
              "\t<tr><td>AsstProf </td><td>A</td><td> 8</td><td> 4</td><td>Male</td><td> 81035</td></tr>\n",
              "</tbody>\n",
              "</table>\n"
            ],
            "text/latex": [
              "A data.frame: 397 × 6\n",
              "\\begin{tabular}{llllll}\n",
              " rank & discipline & yrs.since.phd & yrs.service & sex & salary\\\\\n",
              " <fct> & <fct> & <int> & <int> & <fct> & <int>\\\\\n",
              "\\hline\n",
              "\t Prof      & B & 19 & 18 & Male   & 139750\\\\\n",
              "\t Prof      & B & 20 & 16 & Male   & 173200\\\\\n",
              "\t AsstProf  & B &  4 &  3 & Male   &  79750\\\\\n",
              "\t Prof      & B & 45 & 39 & Male   & 115000\\\\\n",
              "\t Prof      & B & 40 & 41 & Male   & 141500\\\\\n",
              "\t AssocProf & B &  6 &  6 & Male   &  97000\\\\\n",
              "\t Prof      & B & 30 & 23 & Male   & 175000\\\\\n",
              "\t Prof      & B & 45 & 45 & Male   & 147765\\\\\n",
              "\t Prof      & B & 21 & 20 & Male   & 119250\\\\\n",
              "\t Prof      & B & 18 & 18 & Female & 129000\\\\\n",
              "\t AssocProf & B & 12 &  8 & Male   & 119800\\\\\n",
              "\t AsstProf  & B &  7 &  2 & Male   &  79800\\\\\n",
              "\t AsstProf  & B &  1 &  1 & Male   &  77700\\\\\n",
              "\t AsstProf  & B &  2 &  0 & Male   &  78000\\\\\n",
              "\t Prof      & B & 20 & 18 & Male   & 104800\\\\\n",
              "\t Prof      & B & 12 &  3 & Male   & 117150\\\\\n",
              "\t Prof      & B & 19 & 20 & Male   & 101000\\\\\n",
              "\t Prof      & A & 38 & 34 & Male   & 103450\\\\\n",
              "\t Prof      & A & 37 & 23 & Male   & 124750\\\\\n",
              "\t Prof      & A & 39 & 36 & Female & 137000\\\\\n",
              "\t Prof      & A & 31 & 26 & Male   &  89565\\\\\n",
              "\t Prof      & A & 36 & 31 & Male   & 102580\\\\\n",
              "\t Prof      & A & 34 & 30 & Male   &  93904\\\\\n",
              "\t Prof      & A & 24 & 19 & Male   & 113068\\\\\n",
              "\t AssocProf & A & 13 &  8 & Female &  74830\\\\\n",
              "\t Prof      & A & 21 &  8 & Male   & 106294\\\\\n",
              "\t Prof      & A & 35 & 23 & Male   & 134885\\\\\n",
              "\t AsstProf  & B &  5 &  3 & Male   &  82379\\\\\n",
              "\t AsstProf  & B & 11 &  0 & Male   &  77000\\\\\n",
              "\t Prof      & B & 12 &  8 & Male   & 118223\\\\\n",
              "\t ⋮ & ⋮ & ⋮ & ⋮ & ⋮ & ⋮\\\\\n",
              "\t AssocProf & A & 10 &  1 & Male & 108413\\\\\n",
              "\t Prof      & A & 35 & 30 & Male & 131950\\\\\n",
              "\t Prof      & A & 33 & 31 & Male & 134690\\\\\n",
              "\t AssocProf & A & 13 &  8 & Male &  78182\\\\\n",
              "\t Prof      & A & 23 & 20 & Male & 110515\\\\\n",
              "\t Prof      & A & 12 &  7 & Male & 109707\\\\\n",
              "\t Prof      & A & 30 & 26 & Male & 136660\\\\\n",
              "\t Prof      & A & 27 & 19 & Male & 103275\\\\\n",
              "\t Prof      & A & 28 & 26 & Male & 103649\\\\\n",
              "\t AsstProf  & A &  4 &  1 & Male &  74856\\\\\n",
              "\t AsstProf  & A &  6 &  3 & Male &  77081\\\\\n",
              "\t Prof      & A & 38 & 38 & Male & 150680\\\\\n",
              "\t AssocProf & A & 11 &  8 & Male & 104121\\\\\n",
              "\t AsstProf  & A &  8 &  3 & Male &  75996\\\\\n",
              "\t Prof      & A & 27 & 23 & Male & 172505\\\\\n",
              "\t AssocProf & A &  8 &  5 & Male &  86895\\\\\n",
              "\t Prof      & A & 44 & 44 & Male & 105000\\\\\n",
              "\t Prof      & A & 27 & 21 & Male & 125192\\\\\n",
              "\t Prof      & A & 15 &  9 & Male & 114330\\\\\n",
              "\t Prof      & A & 29 & 27 & Male & 139219\\\\\n",
              "\t Prof      & A & 29 & 15 & Male & 109305\\\\\n",
              "\t Prof      & A & 38 & 36 & Male & 119450\\\\\n",
              "\t Prof      & A & 33 & 18 & Male & 186023\\\\\n",
              "\t Prof      & A & 40 & 19 & Male & 166605\\\\\n",
              "\t Prof      & A & 30 & 19 & Male & 151292\\\\\n",
              "\t Prof      & A & 33 & 30 & Male & 103106\\\\\n",
              "\t Prof      & A & 31 & 19 & Male & 150564\\\\\n",
              "\t Prof      & A & 42 & 25 & Male & 101738\\\\\n",
              "\t Prof      & A & 25 & 15 & Male &  95329\\\\\n",
              "\t AsstProf  & A &  8 &  4 & Male &  81035\\\\\n",
              "\\end{tabular}\n"
            ],
            "text/markdown": [
              "\n",
              "A data.frame: 397 × 6\n",
              "\n",
              "| rank &lt;fct&gt; | discipline &lt;fct&gt; | yrs.since.phd &lt;int&gt; | yrs.service &lt;int&gt; | sex &lt;fct&gt; | salary &lt;int&gt; |\n",
              "|---|---|---|---|---|---|\n",
              "| Prof      | B | 19 | 18 | Male   | 139750 |\n",
              "| Prof      | B | 20 | 16 | Male   | 173200 |\n",
              "| AsstProf  | B |  4 |  3 | Male   |  79750 |\n",
              "| Prof      | B | 45 | 39 | Male   | 115000 |\n",
              "| Prof      | B | 40 | 41 | Male   | 141500 |\n",
              "| AssocProf | B |  6 |  6 | Male   |  97000 |\n",
              "| Prof      | B | 30 | 23 | Male   | 175000 |\n",
              "| Prof      | B | 45 | 45 | Male   | 147765 |\n",
              "| Prof      | B | 21 | 20 | Male   | 119250 |\n",
              "| Prof      | B | 18 | 18 | Female | 129000 |\n",
              "| AssocProf | B | 12 |  8 | Male   | 119800 |\n",
              "| AsstProf  | B |  7 |  2 | Male   |  79800 |\n",
              "| AsstProf  | B |  1 |  1 | Male   |  77700 |\n",
              "| AsstProf  | B |  2 |  0 | Male   |  78000 |\n",
              "| Prof      | B | 20 | 18 | Male   | 104800 |\n",
              "| Prof      | B | 12 |  3 | Male   | 117150 |\n",
              "| Prof      | B | 19 | 20 | Male   | 101000 |\n",
              "| Prof      | A | 38 | 34 | Male   | 103450 |\n",
              "| Prof      | A | 37 | 23 | Male   | 124750 |\n",
              "| Prof      | A | 39 | 36 | Female | 137000 |\n",
              "| Prof      | A | 31 | 26 | Male   |  89565 |\n",
              "| Prof      | A | 36 | 31 | Male   | 102580 |\n",
              "| Prof      | A | 34 | 30 | Male   |  93904 |\n",
              "| Prof      | A | 24 | 19 | Male   | 113068 |\n",
              "| AssocProf | A | 13 |  8 | Female |  74830 |\n",
              "| Prof      | A | 21 |  8 | Male   | 106294 |\n",
              "| Prof      | A | 35 | 23 | Male   | 134885 |\n",
              "| AsstProf  | B |  5 |  3 | Male   |  82379 |\n",
              "| AsstProf  | B | 11 |  0 | Male   |  77000 |\n",
              "| Prof      | B | 12 |  8 | Male   | 118223 |\n",
              "| ⋮ | ⋮ | ⋮ | ⋮ | ⋮ | ⋮ |\n",
              "| AssocProf | A | 10 |  1 | Male | 108413 |\n",
              "| Prof      | A | 35 | 30 | Male | 131950 |\n",
              "| Prof      | A | 33 | 31 | Male | 134690 |\n",
              "| AssocProf | A | 13 |  8 | Male |  78182 |\n",
              "| Prof      | A | 23 | 20 | Male | 110515 |\n",
              "| Prof      | A | 12 |  7 | Male | 109707 |\n",
              "| Prof      | A | 30 | 26 | Male | 136660 |\n",
              "| Prof      | A | 27 | 19 | Male | 103275 |\n",
              "| Prof      | A | 28 | 26 | Male | 103649 |\n",
              "| AsstProf  | A |  4 |  1 | Male |  74856 |\n",
              "| AsstProf  | A |  6 |  3 | Male |  77081 |\n",
              "| Prof      | A | 38 | 38 | Male | 150680 |\n",
              "| AssocProf | A | 11 |  8 | Male | 104121 |\n",
              "| AsstProf  | A |  8 |  3 | Male |  75996 |\n",
              "| Prof      | A | 27 | 23 | Male | 172505 |\n",
              "| AssocProf | A |  8 |  5 | Male |  86895 |\n",
              "| Prof      | A | 44 | 44 | Male | 105000 |\n",
              "| Prof      | A | 27 | 21 | Male | 125192 |\n",
              "| Prof      | A | 15 |  9 | Male | 114330 |\n",
              "| Prof      | A | 29 | 27 | Male | 139219 |\n",
              "| Prof      | A | 29 | 15 | Male | 109305 |\n",
              "| Prof      | A | 38 | 36 | Male | 119450 |\n",
              "| Prof      | A | 33 | 18 | Male | 186023 |\n",
              "| Prof      | A | 40 | 19 | Male | 166605 |\n",
              "| Prof      | A | 30 | 19 | Male | 151292 |\n",
              "| Prof      | A | 33 | 30 | Male | 103106 |\n",
              "| Prof      | A | 31 | 19 | Male | 150564 |\n",
              "| Prof      | A | 42 | 25 | Male | 101738 |\n",
              "| Prof      | A | 25 | 15 | Male |  95329 |\n",
              "| AsstProf  | A |  8 |  4 | Male |  81035 |\n",
              "\n"
            ],
            "text/plain": [
              "    rank      discipline yrs.since.phd yrs.service sex    salary\n",
              "1   Prof      B          19            18          Male   139750\n",
              "2   Prof      B          20            16          Male   173200\n",
              "3   AsstProf  B           4             3          Male    79750\n",
              "4   Prof      B          45            39          Male   115000\n",
              "5   Prof      B          40            41          Male   141500\n",
              "6   AssocProf B           6             6          Male    97000\n",
              "7   Prof      B          30            23          Male   175000\n",
              "8   Prof      B          45            45          Male   147765\n",
              "9   Prof      B          21            20          Male   119250\n",
              "10  Prof      B          18            18          Female 129000\n",
              "11  AssocProf B          12             8          Male   119800\n",
              "12  AsstProf  B           7             2          Male    79800\n",
              "13  AsstProf  B           1             1          Male    77700\n",
              "14  AsstProf  B           2             0          Male    78000\n",
              "15  Prof      B          20            18          Male   104800\n",
              "16  Prof      B          12             3          Male   117150\n",
              "17  Prof      B          19            20          Male   101000\n",
              "18  Prof      A          38            34          Male   103450\n",
              "19  Prof      A          37            23          Male   124750\n",
              "20  Prof      A          39            36          Female 137000\n",
              "21  Prof      A          31            26          Male    89565\n",
              "22  Prof      A          36            31          Male   102580\n",
              "23  Prof      A          34            30          Male    93904\n",
              "24  Prof      A          24            19          Male   113068\n",
              "25  AssocProf A          13             8          Female  74830\n",
              "26  Prof      A          21             8          Male   106294\n",
              "27  Prof      A          35            23          Male   134885\n",
              "28  AsstProf  B           5             3          Male    82379\n",
              "29  AsstProf  B          11             0          Male    77000\n",
              "30  Prof      B          12             8          Male   118223\n",
              "⋮   ⋮         ⋮          ⋮             ⋮           ⋮      ⋮     \n",
              "368 AssocProf A          10             1          Male   108413\n",
              "369 Prof      A          35            30          Male   131950\n",
              "370 Prof      A          33            31          Male   134690\n",
              "371 AssocProf A          13             8          Male    78182\n",
              "372 Prof      A          23            20          Male   110515\n",
              "373 Prof      A          12             7          Male   109707\n",
              "374 Prof      A          30            26          Male   136660\n",
              "375 Prof      A          27            19          Male   103275\n",
              "376 Prof      A          28            26          Male   103649\n",
              "377 AsstProf  A           4             1          Male    74856\n",
              "378 AsstProf  A           6             3          Male    77081\n",
              "379 Prof      A          38            38          Male   150680\n",
              "380 AssocProf A          11             8          Male   104121\n",
              "381 AsstProf  A           8             3          Male    75996\n",
              "382 Prof      A          27            23          Male   172505\n",
              "383 AssocProf A           8             5          Male    86895\n",
              "384 Prof      A          44            44          Male   105000\n",
              "385 Prof      A          27            21          Male   125192\n",
              "386 Prof      A          15             9          Male   114330\n",
              "387 Prof      A          29            27          Male   139219\n",
              "388 Prof      A          29            15          Male   109305\n",
              "389 Prof      A          38            36          Male   119450\n",
              "390 Prof      A          33            18          Male   186023\n",
              "391 Prof      A          40            19          Male   166605\n",
              "392 Prof      A          30            19          Male   151292\n",
              "393 Prof      A          33            30          Male   103106\n",
              "394 Prof      A          31            19          Male   150564\n",
              "395 Prof      A          42            25          Male   101738\n",
              "396 Prof      A          25            15          Male    95329\n",
              "397 AsstProf  A           8             4          Male    81035"
            ]
          },
          "metadata": {},
          "output_type": "display_data"
        }
      ],
      "source": [
        "View(Salaries)"
      ]
    },
    {
      "cell_type": "markdown",
      "metadata": {
        "id": "4Am8Wb0jdjhW"
      },
      "source": [
        "If that is too much information we can ask to see only few rows:"
      ]
    },
    {
      "cell_type": "code",
      "execution_count": 17,
      "metadata": {
        "id": "3u-bmsWLWXIN",
        "vscode": {
          "languageId": "r"
        }
      },
      "outputs": [
        {
          "data": {
            "text/html": [
              "<table class=\"dataframe\">\n",
              "<caption>A data.frame: 6 × 6</caption>\n",
              "<thead>\n",
              "\t<tr><th></th><th scope=col>rank</th><th scope=col>discipline</th><th scope=col>yrs.since.phd</th><th scope=col>yrs.service</th><th scope=col>sex</th><th scope=col>salary</th></tr>\n",
              "\t<tr><th></th><th scope=col>&lt;fct&gt;</th><th scope=col>&lt;fct&gt;</th><th scope=col>&lt;int&gt;</th><th scope=col>&lt;int&gt;</th><th scope=col>&lt;fct&gt;</th><th scope=col>&lt;int&gt;</th></tr>\n",
              "</thead>\n",
              "<tbody>\n",
              "\t<tr><th scope=row>1</th><td>Prof     </td><td>B</td><td>19</td><td>18</td><td>Male</td><td>139750</td></tr>\n",
              "\t<tr><th scope=row>2</th><td>Prof     </td><td>B</td><td>20</td><td>16</td><td>Male</td><td>173200</td></tr>\n",
              "\t<tr><th scope=row>3</th><td>AsstProf </td><td>B</td><td> 4</td><td> 3</td><td>Male</td><td> 79750</td></tr>\n",
              "\t<tr><th scope=row>4</th><td>Prof     </td><td>B</td><td>45</td><td>39</td><td>Male</td><td>115000</td></tr>\n",
              "\t<tr><th scope=row>5</th><td>Prof     </td><td>B</td><td>40</td><td>41</td><td>Male</td><td>141500</td></tr>\n",
              "\t<tr><th scope=row>6</th><td>AssocProf</td><td>B</td><td> 6</td><td> 6</td><td>Male</td><td> 97000</td></tr>\n",
              "</tbody>\n",
              "</table>\n"
            ],
            "text/latex": [
              "A data.frame: 6 × 6\n",
              "\\begin{tabular}{r|llllll}\n",
              "  & rank & discipline & yrs.since.phd & yrs.service & sex & salary\\\\\n",
              "  & <fct> & <fct> & <int> & <int> & <fct> & <int>\\\\\n",
              "\\hline\n",
              "\t1 & Prof      & B & 19 & 18 & Male & 139750\\\\\n",
              "\t2 & Prof      & B & 20 & 16 & Male & 173200\\\\\n",
              "\t3 & AsstProf  & B &  4 &  3 & Male &  79750\\\\\n",
              "\t4 & Prof      & B & 45 & 39 & Male & 115000\\\\\n",
              "\t5 & Prof      & B & 40 & 41 & Male & 141500\\\\\n",
              "\t6 & AssocProf & B &  6 &  6 & Male &  97000\\\\\n",
              "\\end{tabular}\n"
            ],
            "text/markdown": [
              "\n",
              "A data.frame: 6 × 6\n",
              "\n",
              "| <!--/--> | rank &lt;fct&gt; | discipline &lt;fct&gt; | yrs.since.phd &lt;int&gt; | yrs.service &lt;int&gt; | sex &lt;fct&gt; | salary &lt;int&gt; |\n",
              "|---|---|---|---|---|---|---|\n",
              "| 1 | Prof      | B | 19 | 18 | Male | 139750 |\n",
              "| 2 | Prof      | B | 20 | 16 | Male | 173200 |\n",
              "| 3 | AsstProf  | B |  4 |  3 | Male |  79750 |\n",
              "| 4 | Prof      | B | 45 | 39 | Male | 115000 |\n",
              "| 5 | Prof      | B | 40 | 41 | Male | 141500 |\n",
              "| 6 | AssocProf | B |  6 |  6 | Male |  97000 |\n",
              "\n"
            ],
            "text/plain": [
              "  rank      discipline yrs.since.phd yrs.service sex  salary\n",
              "1 Prof      B          19            18          Male 139750\n",
              "2 Prof      B          20            16          Male 173200\n",
              "3 AsstProf  B           4             3          Male  79750\n",
              "4 Prof      B          45            39          Male 115000\n",
              "5 Prof      B          40            41          Male 141500\n",
              "6 AssocProf B           6             6          Male  97000"
            ]
          },
          "metadata": {},
          "output_type": "display_data"
        }
      ],
      "source": [
        "head(Salaries)"
      ]
    },
    {
      "cell_type": "markdown",
      "metadata": {
        "id": "vrjjI-dqdo4q"
      },
      "source": [
        "We can also be interested in an overview of the dataset and some descriptive statistics:"
      ]
    },
    {
      "cell_type": "code",
      "execution_count": 18,
      "metadata": {
        "id": "JumOmDHJhTfA",
        "vscode": {
          "languageId": "r"
        }
      },
      "outputs": [
        {
          "name": "stdout",
          "output_type": "stream",
          "text": [
            "'data.frame':\t397 obs. of  6 variables:\n",
            " $ rank         : Factor w/ 3 levels \"AsstProf\",\"AssocProf\",..: 3 3 1 3 3 2 3 3 3 3 ...\n",
            " $ discipline   : Factor w/ 2 levels \"A\",\"B\": 2 2 2 2 2 2 2 2 2 2 ...\n",
            " $ yrs.since.phd: int  19 20 4 45 40 6 30 45 21 18 ...\n",
            " $ yrs.service  : int  18 16 3 39 41 6 23 45 20 18 ...\n",
            " $ sex          : Factor w/ 2 levels \"Female\",\"Male\": 2 2 2 2 2 2 2 2 2 1 ...\n",
            " $ salary       : int  139750 173200 79750 115000 141500 97000 175000 147765 119250 129000 ...\n"
          ]
        }
      ],
      "source": [
        "str(Salaries)"
      ]
    },
    {
      "cell_type": "code",
      "execution_count": 19,
      "metadata": {
        "id": "BHcHbfUlhbQI",
        "vscode": {
          "languageId": "r"
        }
      },
      "outputs": [
        {
          "data": {
            "text/plain": [
              "        rank     discipline yrs.since.phd    yrs.service        sex     \n",
              " AsstProf : 67   A:181      Min.   : 1.00   Min.   : 0.00   Female: 39  \n",
              " AssocProf: 64   B:216      1st Qu.:12.00   1st Qu.: 7.00   Male  :358  \n",
              " Prof     :266              Median :21.00   Median :16.00               \n",
              "                            Mean   :22.31   Mean   :17.61               \n",
              "                            3rd Qu.:32.00   3rd Qu.:27.00               \n",
              "                            Max.   :56.00   Max.   :60.00               \n",
              "     salary      \n",
              " Min.   : 57800  \n",
              " 1st Qu.: 91000  \n",
              " Median :107300  \n",
              " Mean   :113706  \n",
              " 3rd Qu.:134185  \n",
              " Max.   :231545  "
            ]
          },
          "metadata": {},
          "output_type": "display_data"
        }
      ],
      "source": [
        "summary(Salaries)"
      ]
    },
    {
      "cell_type": "markdown",
      "metadata": {
        "id": "xIT6uUk1d5nw"
      },
      "source": [
        "We can also calculate mean and sd using the mosaic package syntax:"
      ]
    },
    {
      "cell_type": "code",
      "execution_count": 20,
      "metadata": {
        "id": "XhsWWPM6hcTS",
        "vscode": {
          "languageId": "r"
        }
      },
      "outputs": [
        {
          "data": {
            "text/html": [
              "113706.458438287"
            ],
            "text/latex": [
              "113706.458438287"
            ],
            "text/markdown": [
              "113706.458438287"
            ],
            "text/plain": [
              "[1] 113706.5"
            ]
          },
          "metadata": {},
          "output_type": "display_data"
        },
        {
          "data": {
            "text/html": [
              "30289.0386947478"
            ],
            "text/latex": [
              "30289.0386947478"
            ],
            "text/markdown": [
              "30289.0386947478"
            ],
            "text/plain": [
              "[1] 30289.04"
            ]
          },
          "metadata": {},
          "output_type": "display_data"
        }
      ],
      "source": [
        "mean(~salary,data=Salaries)\n",
        "sd(~salary,data=Salaries)"
      ]
    },
    {
      "cell_type": "markdown",
      "metadata": {
        "id": "BJ2GFckteEXB"
      },
      "source": [
        "In **mosaic** there is also a function that puts together the usual favourite statistics"
      ]
    },
    {
      "cell_type": "code",
      "execution_count": 21,
      "metadata": {
        "id": "-n-YbOJ0hwxc",
        "vscode": {
          "languageId": "r"
        }
      },
      "outputs": [
        {
          "data": {
            "text/html": [
              "<table class=\"dataframe\">\n",
              "<caption>A data.frame: 1 × 9</caption>\n",
              "<thead>\n",
              "\t<tr><th></th><th scope=col>min</th><th scope=col>Q1</th><th scope=col>median</th><th scope=col>Q3</th><th scope=col>max</th><th scope=col>mean</th><th scope=col>sd</th><th scope=col>n</th><th scope=col>missing</th></tr>\n",
              "\t<tr><th></th><th scope=col>&lt;dbl&gt;</th><th scope=col>&lt;dbl&gt;</th><th scope=col>&lt;dbl&gt;</th><th scope=col>&lt;dbl&gt;</th><th scope=col>&lt;dbl&gt;</th><th scope=col>&lt;dbl&gt;</th><th scope=col>&lt;dbl&gt;</th><th scope=col>&lt;int&gt;</th><th scope=col>&lt;int&gt;</th></tr>\n",
              "</thead>\n",
              "<tbody>\n",
              "\t<tr><th scope=row></th><td>57800</td><td>91000</td><td>107300</td><td>134185</td><td>231545</td><td>113706.5</td><td>30289.04</td><td>397</td><td>0</td></tr>\n",
              "</tbody>\n",
              "</table>\n"
            ],
            "text/latex": [
              "A data.frame: 1 × 9\n",
              "\\begin{tabular}{r|lllllllll}\n",
              "  & min & Q1 & median & Q3 & max & mean & sd & n & missing\\\\\n",
              "  & <dbl> & <dbl> & <dbl> & <dbl> & <dbl> & <dbl> & <dbl> & <int> & <int>\\\\\n",
              "\\hline\n",
              "\t & 57800 & 91000 & 107300 & 134185 & 231545 & 113706.5 & 30289.04 & 397 & 0\\\\\n",
              "\\end{tabular}\n"
            ],
            "text/markdown": [
              "\n",
              "A data.frame: 1 × 9\n",
              "\n",
              "| <!--/--> | min &lt;dbl&gt; | Q1 &lt;dbl&gt; | median &lt;dbl&gt; | Q3 &lt;dbl&gt; | max &lt;dbl&gt; | mean &lt;dbl&gt; | sd &lt;dbl&gt; | n &lt;int&gt; | missing &lt;int&gt; |\n",
              "|---|---|---|---|---|---|---|---|---|---|\n",
              "| <!----> | 57800 | 91000 | 107300 | 134185 | 231545 | 113706.5 | 30289.04 | 397 | 0 |\n",
              "\n"
            ],
            "text/plain": [
              " min   Q1    median Q3     max    mean     sd       n   missing\n",
              " 57800 91000 107300 134185 231545 113706.5 30289.04 397 0      "
            ]
          },
          "metadata": {},
          "output_type": "display_data"
        }
      ],
      "source": [
        "favstats(~salary,data=Salaries)"
      ]
    },
    {
      "cell_type": "markdown",
      "metadata": {
        "id": "Yk6dZTqleHJQ"
      },
      "source": [
        "For categorical data the function tally is more appropriate:"
      ]
    },
    {
      "cell_type": "code",
      "execution_count": 22,
      "metadata": {
        "id": "5n8ycjwwh4Yz",
        "vscode": {
          "languageId": "r"
        }
      },
      "outputs": [
        {
          "data": {
            "text/plain": [
              "rank\n",
              " AsstProf AssocProf      Prof \n",
              "       67        64       266 "
            ]
          },
          "metadata": {},
          "output_type": "display_data"
        }
      ],
      "source": [
        "tally(~rank,data=Salaries)"
      ]
    },
    {
      "cell_type": "markdown",
      "metadata": {
        "id": "psm1gHUqiD6o"
      },
      "source": [
        "You can explore other possibilities yourself.  A useful website for “help” is QuickR: [https:/www.statmethods.net/](https://www.statmethods.net/) "
      ]
    },
    {
      "cell_type": "markdown",
      "metadata": {
        "id": "9Kugtk9hi48Z"
      },
      "source": [
        "## Hystograms with R\n",
        "\n",
        "---\n",
        "\n",
        " Let’s now suppose we are interested in comparing the salaries with respect to the gender of the academics. To do so, we need to generate two column vectors, one with the salaries of male academics and the other one with the salaries of the female academics:"
      ]
    },
    {
      "cell_type": "code",
      "execution_count": 23,
      "metadata": {
        "id": "j59q1RmRj0aG",
        "vscode": {
          "languageId": "r"
        }
      },
      "outputs": [],
      "source": [
        "x <-subset(Salaries$salary, Salaries$sex == \"Male\")\n",
        "y <-subset(Salaries$salary, Salaries$sex == \"Female\")"
      ]
    },
    {
      "cell_type": "markdown",
      "metadata": {
        "id": "dDZZlWagj4nz"
      },
      "source": [
        "As we have seen above we can perform some basic statistics with these data, and ask for example to know standard deviation, min, max, mean etc.  We can also save the results in assigned variables:"
      ]
    },
    {
      "cell_type": "code",
      "execution_count": 24,
      "metadata": {
        "id": "az8LdzeZj6S-",
        "vscode": {
          "languageId": "r"
        }
      },
      "outputs": [
        {
          "data": {
            "text/plain": [
              "   Min. 1st Qu.  Median    Mean 3rd Qu.    Max. \n",
              "  57800   92000  108043  115090  134864  231545 "
            ]
          },
          "metadata": {},
          "output_type": "display_data"
        },
        {
          "data": {
            "text/html": [
              "115090.418994413"
            ],
            "text/latex": [
              "115090.418994413"
            ],
            "text/markdown": [
              "115090.418994413"
            ],
            "text/plain": [
              "[1] 115090.4"
            ]
          },
          "metadata": {},
          "output_type": "display_data"
        },
        {
          "data": {
            "text/html": [
              "30436.9273435291"
            ],
            "text/latex": [
              "30436.9273435291"
            ],
            "text/markdown": [
              "30436.9273435291"
            ],
            "text/plain": [
              "[1] 30436.93"
            ]
          },
          "metadata": {},
          "output_type": "display_data"
        }
      ],
      "source": [
        "summary(x)\n",
        "mx = mean(x)\n",
        "sdx = sd(x)\n",
        "mx\n",
        "sdx"
      ]
    },
    {
      "cell_type": "code",
      "execution_count": 25,
      "metadata": {
        "id": "sw134cqxkB3T",
        "vscode": {
          "languageId": "r"
        }
      },
      "outputs": [
        {
          "data": {
            "text/plain": [
              "   Min. 1st Qu.  Median    Mean 3rd Qu.    Max. \n",
              "  62884   77250  103750  101002  117002  161101 "
            ]
          },
          "metadata": {},
          "output_type": "display_data"
        },
        {
          "data": {
            "text/html": [
              "101002.41025641"
            ],
            "text/latex": [
              "101002.41025641"
            ],
            "text/markdown": [
              "101002.41025641"
            ],
            "text/plain": [
              "[1] 101002.4"
            ]
          },
          "metadata": {},
          "output_type": "display_data"
        },
        {
          "data": {
            "text/html": [
              "25952.1273174463"
            ],
            "text/latex": [
              "25952.1273174463"
            ],
            "text/markdown": [
              "25952.1273174463"
            ],
            "text/plain": [
              "[1] 25952.13"
            ]
          },
          "metadata": {},
          "output_type": "display_data"
        }
      ],
      "source": [
        "summary(y)\n",
        "my = mean(y)\n",
        "sdy = sd(y)\n",
        "my\n",
        "sdy"
      ]
    },
    {
      "cell_type": "markdown",
      "metadata": {
        "id": "Kh9MWapJkIXs"
      },
      "source": [
        "These values can be useful when we compare the two datasets.\n",
        "\n",
        "If we want to plot the two datasets together to have a better picture/understanding of the data, we can plot the histograms of male and female salaries together. To do so we will need the following steps:\n",
        "\n",
        "1. Load the libraries ggplot2 and dplyr"
      ]
    },
    {
      "cell_type": "code",
      "execution_count": 46,
      "metadata": {
        "id": "mJpdUIeUkRmY",
        "vscode": {
          "languageId": "r"
        }
      },
      "outputs": [],
      "source": [
        "library(ggplot2)\n",
        "library(dplyr)\n"
      ]
    },
    {
      "cell_type": "markdown",
      "metadata": {
        "id": "8nEbApvykV7U"
      },
      "source": [
        "2. Calculate the mean of x and y and save them in a new variable. We arre going to use the function `ddply`. Check with the help how to use it before continuing:\n"
      ]
    },
    {
      "cell_type": "code",
      "execution_count": 47,
      "metadata": {
        "id": "z-x0_38lqVHE",
        "vscode": {
          "languageId": "r"
        }
      },
      "outputs": [
        {
          "data": {
            "text/html": [
              "108046.414625412"
            ],
            "text/latex": [
              "108046.414625412"
            ],
            "text/markdown": [
              "108046.414625412"
            ],
            "text/plain": [
              "[1] 108046.4"
            ]
          },
          "metadata": {},
          "output_type": "display_data"
        },
        {
          "name": "stdout",
          "output_type": "stream",
          "text": [
            "R Information\n",
            "\n",
            "Vignettes with name or keyword or title matching ‘ddply’ using fuzzy\n",
            "matching:\n",
            "\n",
            "\n",
            "broom::broom_and_dplyr\n",
            "                        broom and dplyr\n",
            "broom::kmeans           kmeans with dplyr and broom\n",
            "dplyr::base             From base R to dplyr\n",
            "dplyr::compatibility    dplyr compatibility\n",
            "dplyr::dplyr            Introduction to dplyr\n",
            "dplyr::programming      Programming with dplyr\n",
            "\n",
            "\n",
            "Type 'vignette(\"FOO\", package=\"PKG\")' to inspect entries 'PKG::FOO'.\n",
            "\n",
            "\n",
            "\n",
            "Help files with alias or concept or title matching ‘ddply’ using fuzzy\n",
            "matching:\n",
            "\n",
            "\n",
            "broom::bootstrap        Set up bootstrap replicates of a dplyr\n",
            "                        operation\n",
            "dplyr::backend_dbplyr   Database and SQL generics.\n",
            "  Aliases: backend_dbplyr\n",
            "dplyr::check_dbplyr     dbplyr compatibility functions\n",
            "  Aliases: check_dbplyr, wrap_dbplyr_obj\n",
            "dplyr::dplyr            dplyr: A Grammar of Data Manipulation\n",
            "  Aliases: dplyr, dplyr-package\n",
            "dplyr::dplyr_data_masking\n",
            "                        Argument type: data-masking\n",
            "  Aliases: dplyr_data_masking\n",
            "dplyr::dplyr_extending\n",
            "                        Extending dplyr with new data frame subclasses\n",
            "  Aliases: dplyr_extending, dplyr_row_slice, dplyr_col_modify,\n",
            "    dplyr_reconstruct\n",
            "dplyr::dplyr_tidy_select\n",
            "                        Argument type: tidy-select\n",
            "  Aliases: dplyr_tidy_select\n",
            "plyr::adply             Split array, apply function, and return results\n",
            "                        in a data frame.\n",
            "  Aliases: adply\n",
            "plyr::d_ply             Split data frame, apply function, and discard\n",
            "                        results.\n",
            "  Aliases: d_ply\n",
            "plyr::daply             Split data frame, apply function, and return\n",
            "                        results in an array.\n",
            "  Aliases: daply\n",
            "plyr::ddply             Split data frame, apply function, and return\n",
            "                        results in a data frame.\n",
            "  Aliases: ddply\n",
            "plyr::dlply             Split data frame, apply function, and return\n",
            "                        results in a list.\n",
            "  Aliases: dlply\n",
            "plyr::ldply             Split list, apply function, and return results\n",
            "                        in a data frame.\n",
            "  Aliases: ldply\n",
            "plyr::mdply             Call function with arguments in array or data\n",
            "                        frame, returning a data frame.\n",
            "  Aliases: mdply\n",
            "plyr::rdply             Replicate expression and return results in a\n",
            "                        data frame.\n",
            "  Aliases: rdply\n",
            "\n",
            "\n",
            "Type '?PKG::FOO' to inspect entries 'PKG::FOO', or 'TYPE?PKG::FOO' for\n",
            "entries like 'PKG::FOO-TYPE'.\n",
            "\n",
            "\n"
          ]
        }
      ],
      "source": [
        "??ddply\n",
        "mxy = (mean(x)+ mean(y))/2\n",
        "\n",
        "mxy"
      ]
    },
    {
      "cell_type": "code",
      "execution_count": 48,
      "metadata": {
        "id": "epA1EK8-kY3X",
        "vscode": {
          "languageId": "r"
        }
      },
      "outputs": [
        {
          "data": {
            "text/html": [
              "<table class=\"dataframe\">\n",
              "<caption>A data.frame: 2 × 2</caption>\n",
              "<thead>\n",
              "\t<tr><th></th><th scope=col>sex</th><th scope=col>grp.mean</th></tr>\n",
              "\t<tr><th></th><th scope=col>&lt;fct&gt;</th><th scope=col>&lt;dbl&gt;</th></tr>\n",
              "</thead>\n",
              "<tbody>\n",
              "\t<tr><th scope=row>1</th><td>Female</td><td>101002.4</td></tr>\n",
              "\t<tr><th scope=row>2</th><td>Male  </td><td>115090.4</td></tr>\n",
              "</tbody>\n",
              "</table>\n"
            ],
            "text/latex": [
              "A data.frame: 2 × 2\n",
              "\\begin{tabular}{r|ll}\n",
              "  & sex & grp.mean\\\\\n",
              "  & <fct> & <dbl>\\\\\n",
              "\\hline\n",
              "\t1 & Female & 101002.4\\\\\n",
              "\t2 & Male   & 115090.4\\\\\n",
              "\\end{tabular}\n"
            ],
            "text/markdown": [
              "\n",
              "A data.frame: 2 × 2\n",
              "\n",
              "| <!--/--> | sex &lt;fct&gt; | grp.mean &lt;dbl&gt; |\n",
              "|---|---|---|\n",
              "| 1 | Female | 101002.4 |\n",
              "| 2 | Male   | 115090.4 |\n",
              "\n"
            ],
            "text/plain": [
              "  sex    grp.mean\n",
              "1 Female 101002.4\n",
              "2 Male   115090.4"
            ]
          },
          "metadata": {},
          "output_type": "display_data"
        }
      ],
      "source": [
        "mu <- ddply(Salaries, \"sex\", summarise, grp.mean=mean(salary))\n",
        "head(mu)   #To see what you just did\n"
      ]
    },
    {
      "cell_type": "markdown",
      "metadata": {
        "id": "qhMHOPMIw7b6"
      },
      "source": [
        "3. Plot the histograms"
      ]
    },
    {
      "cell_type": "code",
      "execution_count": 49,
      "metadata": {
        "id": "IdA1ImptxBi2",
        "vscode": {
          "languageId": "r"
        }
      },
      "outputs": [
        {
          "data": {
            "image/png": "[encoded data removed]",
            "text/plain": [
              "plot without title"
            ]
          },
          "metadata": {
            "image/png": {
              "height": 420,
              "width": 420
            }
          },
          "output_type": "display_data"
        }
      ],
      "source": [
        "# Histogram with density plot separated by sex\n",
        "ggplot(Salaries, aes(x=salary, fill=sex, color=sex)) +\n",
        "  geom_histogram(aes(y=..density..), position=\"identity\", alpha=0.5,binwidth=10000)+\n",
        "  geom_density(alpha=0.6)+\n",
        "# Add mean lines\n",
        "  geom_vline(data=mu, aes(xintercept=grp.mean, color=sex),\n",
        "             linetype=\"dashed\")+\n",
        "# Add axes labels\n",
        "  labs(title=\"Salary histogram plot\",x=\"Salary\", y = \"Density\")+\n",
        "  theme_classic()"
      ]
    },
    {
      "cell_type": "markdown",
      "metadata": {
        "id": "l5-2P2fJxX2U"
      },
      "source": [
        "In this way we are plotting the histograms, the means of x and y, and the density curve.\n"
      ]
    },
    {
      "cell_type": "markdown",
      "metadata": {
        "id": "5MCve-T8qgUE"
      },
      "source": [
        "Let's now break the code in order to understand what the different lines of commands do (Please add one line per time from the previous code tab -- don't forget the +):"
      ]
    },
    {
      "cell_type": "code",
      "execution_count": 64,
      "metadata": {
        "id": "UiEJI1swqnIY",
        "vscode": {
          "languageId": "r"
        }
      },
      "outputs": [
        {
          "data": {
            "text/plain": [
              "List of 93\n",
              " $ line                      :List of 6\n",
              "  ..$ colour       : chr \"black\"\n",
              "  ..$ size         : num 0.5\n",
              "  ..$ linetype     : num 1\n",
              "  ..$ lineend      : chr \"butt\"\n",
              "  ..$ arrow        : logi FALSE\n",
              "  ..$ inherit.blank: logi TRUE\n",
              "  ..- attr(*, \"class\")= chr [1:2] \"element_line\" \"element\"\n",
              " $ rect                      :List of 5\n",
              "  ..$ fill         : chr \"white\"\n",
              "  ..$ colour       : chr \"black\"\n",
              "  ..$ size         : num 0.5\n",
              "  ..$ linetype     : num 1\n",
              "  ..$ inherit.blank: logi TRUE\n",
              "  ..- attr(*, \"class\")= chr [1:2] \"element_rect\" \"element\"\n",
              " $ text                      :List of 11\n",
              "  ..$ family       : chr \"\"\n",
              "  ..$ face         : chr \"plain\"\n",
              "  ..$ colour       : chr \"black\"\n",
              "  ..$ size         : num 11\n",
              "  ..$ hjust        : num 0.5\n",
              "  ..$ vjust        : num 0.5\n",
              "  ..$ angle        : num 0\n",
              "  ..$ lineheight   : num 0.9\n",
              "  ..$ margin       : 'margin' num [1:4] 0points 0points 0points 0points\n",
              "  .. ..- attr(*, \"unit\")= int 8\n",
              "  ..$ debug        : logi FALSE\n",
              "  ..$ inherit.blank: logi TRUE\n",
              "  ..- attr(*, \"class\")= chr [1:2] \"element_text\" \"element\"\n",
              " $ title                     : NULL\n",
              " $ aspect.ratio              : NULL\n",
              " $ axis.title                : NULL\n",
              " $ axis.title.x              :List of 11\n",
              "  ..$ family       : NULL\n",
              "  ..$ face         : NULL\n",
              "  ..$ colour       : NULL\n",
              "  ..$ size         : NULL\n",
              "  ..$ hjust        : NULL\n",
              "  ..$ vjust        : num 1\n",
              "  ..$ angle        : NULL\n",
              "  ..$ lineheight   : NULL\n",
              "  ..$ margin       : 'margin' num [1:4] 2.75points 0points 0points 0points\n",
              "  .. ..- attr(*, \"unit\")= int 8\n",
              "  ..$ debug        : NULL\n",
              "  ..$ inherit.blank: logi TRUE\n",
              "  ..- attr(*, \"class\")= chr [1:2] \"element_text\" \"element\"\n",
              " $ axis.title.x.top          :List of 11\n",
              "  ..$ family       : NULL\n",
              "  ..$ face         : NULL\n",
              "  ..$ colour       : NULL\n",
              "  ..$ size         : NULL\n",
              "  ..$ hjust        : NULL\n",
              "  ..$ vjust        : num 0\n",
              "  ..$ angle        : NULL\n",
              "  ..$ lineheight   : NULL\n",
              "  ..$ margin       : 'margin' num [1:4] 0points 0points 2.75points 0points\n",
              "  .. ..- attr(*, \"unit\")= int 8\n",
              "  ..$ debug        : NULL\n",
              "  ..$ inherit.blank: logi TRUE\n",
              "  ..- attr(*, \"class\")= chr [1:2] \"element_text\" \"element\"\n",
              " $ axis.title.x.bottom       : NULL\n",
              " $ axis.title.y              :List of 11\n",
              "  ..$ family       : NULL\n",
              "  ..$ face         : NULL\n",
              "  ..$ colour       : NULL\n",
              "  ..$ size         : NULL\n",
              "  ..$ hjust        : NULL\n",
              "  ..$ vjust        : num 1\n",
              "  ..$ angle        : num 90\n",
              "  ..$ lineheight   : NULL\n",
              "  ..$ margin       : 'margin' num [1:4] 0points 2.75points 0points 0points\n",
              "  .. ..- attr(*, \"unit\")= int 8\n",
              "  ..$ debug        : NULL\n",
              "  ..$ inherit.blank: logi TRUE\n",
              "  ..- attr(*, \"class\")= chr [1:2] \"element_text\" \"element\"\n",
              " $ axis.title.y.left         : NULL\n",
              " $ axis.title.y.right        :List of 11\n",
              "  ..$ family       : NULL\n",
              "  ..$ face         : NULL\n",
              "  ..$ colour       : NULL\n",
              "  ..$ size         : NULL\n",
              "  ..$ hjust        : NULL\n",
              "  ..$ vjust        : num 0\n",
              "  ..$ angle        : num -90\n",
              "  ..$ lineheight   : NULL\n",
              "  ..$ margin       : 'margin' num [1:4] 0points 0points 0points 2.75points\n",
              "  .. ..- attr(*, \"unit\")= int 8\n",
              "  ..$ debug        : NULL\n",
              "  ..$ inherit.blank: logi TRUE\n",
              "  ..- attr(*, \"class\")= chr [1:2] \"element_text\" \"element\"\n",
              " $ axis.text                 :List of 11\n",
              "  ..$ family       : NULL\n",
              "  ..$ face         : NULL\n",
              "  ..$ colour       : chr \"grey30\"\n",
              "  ..$ size         : 'rel' num 0.8\n",
              "  ..$ hjust        : NULL\n",
              "  ..$ vjust        : NULL\n",
              "  ..$ angle        : NULL\n",
              "  ..$ lineheight   : NULL\n",
              "  ..$ margin       : NULL\n",
              "  ..$ debug        : NULL\n",
              "  ..$ inherit.blank: logi TRUE\n",
              "  ..- attr(*, \"class\")= chr [1:2] \"element_text\" \"element\"\n",
              " $ axis.text.x               :List of 11\n",
              "  ..$ family       : NULL\n",
              "  ..$ face         : NULL\n",
              "  ..$ colour       : NULL\n",
              "  ..$ size         : NULL\n",
              "  ..$ hjust        : NULL\n",
              "  ..$ vjust        : num 1\n",
              "  ..$ angle        : NULL\n",
              "  ..$ lineheight   : NULL\n",
              "  ..$ margin       : 'margin' num [1:4] 2.2points 0points 0points 0points\n",
              "  .. ..- attr(*, \"unit\")= int 8\n",
              "  ..$ debug        : NULL\n",
              "  ..$ inherit.blank: logi TRUE\n",
              "  ..- attr(*, \"class\")= chr [1:2] \"element_text\" \"element\"\n",
              " $ axis.text.x.top           :List of 11\n",
              "  ..$ family       : NULL\n",
              "  ..$ face         : NULL\n",
              "  ..$ colour       : NULL\n",
              "  ..$ size         : NULL\n",
              "  ..$ hjust        : NULL\n",
              "  ..$ vjust        : num 0\n",
              "  ..$ angle        : NULL\n",
              "  ..$ lineheight   : NULL\n",
              "  ..$ margin       : 'margin' num [1:4] 0points 0points 2.2points 0points\n",
              "  .. ..- attr(*, \"unit\")= int 8\n",
              "  ..$ debug        : NULL\n",
              "  ..$ inherit.blank: logi TRUE\n",
              "  ..- attr(*, \"class\")= chr [1:2] \"element_text\" \"element\"\n",
              " $ axis.text.x.bottom        : NULL\n",
              " $ axis.text.y               :List of 11\n",
              "  ..$ family       : NULL\n",
              "  ..$ face         : NULL\n",
              "  ..$ colour       : NULL\n",
              "  ..$ size         : NULL\n",
              "  ..$ hjust        : num 1\n",
              "  ..$ vjust        : NULL\n",
              "  ..$ angle        : NULL\n",
              "  ..$ lineheight   : NULL\n",
              "  ..$ margin       : 'margin' num [1:4] 0points 2.2points 0points 0points\n",
              "  .. ..- attr(*, \"unit\")= int 8\n",
              "  ..$ debug        : NULL\n",
              "  ..$ inherit.blank: logi TRUE\n",
              "  ..- attr(*, \"class\")= chr [1:2] \"element_text\" \"element\"\n",
              " $ axis.text.y.left          : NULL\n",
              " $ axis.text.y.right         :List of 11\n",
              "  ..$ family       : NULL\n",
              "  ..$ face         : NULL\n",
              "  ..$ colour       : NULL\n",
              "  ..$ size         : NULL\n",
              "  ..$ hjust        : num 0\n",
              "  ..$ vjust        : NULL\n",
              "  ..$ angle        : NULL\n",
              "  ..$ lineheight   : NULL\n",
              "  ..$ margin       : 'margin' num [1:4] 0points 0points 0points 2.2points\n",
              "  .. ..- attr(*, \"unit\")= int 8\n",
              "  ..$ debug        : NULL\n",
              "  ..$ inherit.blank: logi TRUE\n",
              "  ..- attr(*, \"class\")= chr [1:2] \"element_text\" \"element\"\n",
              " $ axis.ticks                :List of 6\n",
              "  ..$ colour       : chr \"grey20\"\n",
              "  ..$ size         : NULL\n",
              "  ..$ linetype     : NULL\n",
              "  ..$ lineend      : NULL\n",
              "  ..$ arrow        : logi FALSE\n",
              "  ..$ inherit.blank: logi TRUE\n",
              "  ..- attr(*, \"class\")= chr [1:2] \"element_line\" \"element\"\n",
              " $ axis.ticks.x              : NULL\n",
              " $ axis.ticks.x.top          : NULL\n",
              " $ axis.ticks.x.bottom       : NULL\n",
              " $ axis.ticks.y              : NULL\n",
              " $ axis.ticks.y.left         : NULL\n",
              " $ axis.ticks.y.right        : NULL\n",
              " $ axis.ticks.length         : 'simpleUnit' num 2.75points\n",
              "  ..- attr(*, \"unit\")= int 8\n",
              " $ axis.ticks.length.x       : NULL\n",
              " $ axis.ticks.length.x.top   : NULL\n",
              " $ axis.ticks.length.x.bottom: NULL\n",
              " $ axis.ticks.length.y       : NULL\n",
              " $ axis.ticks.length.y.left  : NULL\n",
              " $ axis.ticks.length.y.right : NULL\n",
              " $ axis.line                 :List of 6\n",
              "  ..$ colour       : chr \"black\"\n",
              "  ..$ size         : 'rel' num 1\n",
              "  ..$ linetype     : NULL\n",
              "  ..$ lineend      : NULL\n",
              "  ..$ arrow        : logi FALSE\n",
              "  ..$ inherit.blank: logi TRUE\n",
              "  ..- attr(*, \"class\")= chr [1:2] \"element_line\" \"element\"\n",
              " $ axis.line.x               : NULL\n",
              " $ axis.line.x.top           : NULL\n",
              " $ axis.line.x.bottom        : NULL\n",
              " $ axis.line.y               : NULL\n",
              " $ axis.line.y.left          : NULL\n",
              " $ axis.line.y.right         : NULL\n",
              " $ legend.background         :List of 5\n",
              "  ..$ fill         : NULL\n",
              "  ..$ colour       : logi NA\n",
              "  ..$ size         : NULL\n",
              "  ..$ linetype     : NULL\n",
              "  ..$ inherit.blank: logi TRUE\n",
              "  ..- attr(*, \"class\")= chr [1:2] \"element_rect\" \"element\"\n",
              " $ legend.margin             : 'margin' num [1:4] 5.5points 5.5points 5.5points 5.5points\n",
              "  ..- attr(*, \"unit\")= int 8\n",
              " $ legend.spacing            : 'simpleUnit' num 11points\n",
              "  ..- attr(*, \"unit\")= int 8\n",
              " $ legend.spacing.x          : NULL\n",
              " $ legend.spacing.y          : NULL\n",
              " $ legend.key                : list()\n",
              "  ..- attr(*, \"class\")= chr [1:2] \"element_blank\" \"element\"\n",
              " $ legend.key.size           : 'simpleUnit' num 1.2lines\n",
              "  ..- attr(*, \"unit\")= int 3\n",
              " $ legend.key.height         : NULL\n",
              " $ legend.key.width          : NULL\n",
              " $ legend.text               :List of 11\n",
              "  ..$ family       : NULL\n",
              "  ..$ face         : NULL\n",
              "  ..$ colour       : NULL\n",
              "  ..$ size         : 'rel' num 0.8\n",
              "  ..$ hjust        : NULL\n",
              "  ..$ vjust        : NULL\n",
              "  ..$ angle        : NULL\n",
              "  ..$ lineheight   : NULL\n",
              "  ..$ margin       : NULL\n",
              "  ..$ debug        : NULL\n",
              "  ..$ inherit.blank: logi TRUE\n",
              "  ..- attr(*, \"class\")= chr [1:2] \"element_text\" \"element\"\n",
              " $ legend.text.align         : NULL\n",
              " $ legend.title              :List of 11\n",
              "  ..$ family       : NULL\n",
              "  ..$ face         : NULL\n",
              "  ..$ colour       : NULL\n",
              "  ..$ size         : NULL\n",
              "  ..$ hjust        : num 0\n",
              "  ..$ vjust        : NULL\n",
              "  ..$ angle        : NULL\n",
              "  ..$ lineheight   : NULL\n",
              "  ..$ margin       : NULL\n",
              "  ..$ debug        : NULL\n",
              "  ..$ inherit.blank: logi TRUE\n",
              "  ..- attr(*, \"class\")= chr [1:2] \"element_text\" \"element\"\n",
              " $ legend.title.align        : NULL\n",
              " $ legend.position           : chr \"right\"\n",
              " $ legend.direction          : NULL\n",
              " $ legend.justification      : chr \"center\"\n",
              " $ legend.box                : NULL\n",
              " $ legend.box.just           : NULL\n",
              " $ legend.box.margin         : 'margin' num [1:4] 0cm 0cm 0cm 0cm\n",
              "  ..- attr(*, \"unit\")= int 1\n",
              " $ legend.box.background     : list()\n",
              "  ..- attr(*, \"class\")= chr [1:2] \"element_blank\" \"element\"\n",
              " $ legend.box.spacing        : 'simpleUnit' num 11points\n",
              "  ..- attr(*, \"unit\")= int 8\n",
              " $ panel.background          :List of 5\n",
              "  ..$ fill         : chr \"white\"\n",
              "  ..$ colour       : logi NA\n",
              "  ..$ size         : NULL\n",
              "  ..$ linetype     : NULL\n",
              "  ..$ inherit.blank: logi TRUE\n",
              "  ..- attr(*, \"class\")= chr [1:2] \"element_rect\" \"element\"\n",
              " $ panel.border              : list()\n",
              "  ..- attr(*, \"class\")= chr [1:2] \"element_blank\" \"element\"\n",
              " $ panel.spacing             : 'simpleUnit' num 5.5points\n",
              "  ..- attr(*, \"unit\")= int 8\n",
              " $ panel.spacing.x           : NULL\n",
              " $ panel.spacing.y           : NULL\n",
              " $ panel.grid                :List of 6\n",
              "  ..$ colour       : chr \"grey92\"\n",
              "  ..$ size         : NULL\n",
              "  ..$ linetype     : NULL\n",
              "  ..$ lineend      : NULL\n",
              "  ..$ arrow        : logi FALSE\n",
              "  ..$ inherit.blank: logi TRUE\n",
              "  ..- attr(*, \"class\")= chr [1:2] \"element_line\" \"element\"\n",
              " $ panel.grid.major          : list()\n",
              "  ..- attr(*, \"class\")= chr [1:2] \"element_blank\" \"element\"\n",
              " $ panel.grid.minor          : list()\n",
              "  ..- attr(*, \"class\")= chr [1:2] \"element_blank\" \"element\"\n",
              " $ panel.grid.major.x        : NULL\n",
              " $ panel.grid.major.y        : NULL\n",
              " $ panel.grid.minor.x        : NULL\n",
              " $ panel.grid.minor.y        : NULL\n",
              " $ panel.ontop               : logi FALSE\n",
              " $ plot.background           :List of 5\n",
              "  ..$ fill         : NULL\n",
              "  ..$ colour       : chr \"white\"\n",
              "  ..$ size         : NULL\n",
              "  ..$ linetype     : NULL\n",
              "  ..$ inherit.blank: logi TRUE\n",
              "  ..- attr(*, \"class\")= chr [1:2] \"element_rect\" \"element\"\n",
              " $ plot.title                :List of 11\n",
              "  ..$ family       : NULL\n",
              "  ..$ face         : NULL\n",
              "  ..$ colour       : NULL\n",
              "  ..$ size         : 'rel' num 1.2\n",
              "  ..$ hjust        : num 0\n",
              "  ..$ vjust        : num 1\n",
              "  ..$ angle        : NULL\n",
              "  ..$ lineheight   : NULL\n",
              "  ..$ margin       : 'margin' num [1:4] 0points 0points 5.5points 0points\n",
              "  .. ..- attr(*, \"unit\")= int 8\n",
              "  ..$ debug        : NULL\n",
              "  ..$ inherit.blank: logi TRUE\n",
              "  ..- attr(*, \"class\")= chr [1:2] \"element_text\" \"element\"\n",
              " $ plot.title.position       : chr \"panel\"\n",
              " $ plot.subtitle             :List of 11\n",
              "  ..$ family       : NULL\n",
              "  ..$ face         : NULL\n",
              "  ..$ colour       : NULL\n",
              "  ..$ size         : NULL\n",
              "  ..$ hjust        : num 0\n",
              "  ..$ vjust        : num 1\n",
              "  ..$ angle        : NULL\n",
              "  ..$ lineheight   : NULL\n",
              "  ..$ margin       : 'margin' num [1:4] 0points 0points 5.5points 0points\n",
              "  .. ..- attr(*, \"unit\")= int 8\n",
              "  ..$ debug        : NULL\n",
              "  ..$ inherit.blank: logi TRUE\n",
              "  ..- attr(*, \"class\")= chr [1:2] \"element_text\" \"element\"\n",
              " $ plot.caption              :List of 11\n",
              "  ..$ family       : NULL\n",
              "  ..$ face         : NULL\n",
              "  ..$ colour       : NULL\n",
              "  ..$ size         : 'rel' num 0.8\n",
              "  ..$ hjust        : num 1\n",
              "  ..$ vjust        : num 1\n",
              "  ..$ angle        : NULL\n",
              "  ..$ lineheight   : NULL\n",
              "  ..$ margin       : 'margin' num [1:4] 5.5points 0points 0points 0points\n",
              "  .. ..- attr(*, \"unit\")= int 8\n",
              "  ..$ debug        : NULL\n",
              "  ..$ inherit.blank: logi TRUE\n",
              "  ..- attr(*, \"class\")= chr [1:2] \"element_text\" \"element\"\n",
              " $ plot.caption.position     : chr \"panel\"\n",
              " $ plot.tag                  :List of 11\n",
              "  ..$ family       : NULL\n",
              "  ..$ face         : NULL\n",
              "  ..$ colour       : NULL\n",
              "  ..$ size         : 'rel' num 1.2\n",
              "  ..$ hjust        : num 0.5\n",
              "  ..$ vjust        : num 0.5\n",
              "  ..$ angle        : NULL\n",
              "  ..$ lineheight   : NULL\n",
              "  ..$ margin       : NULL\n",
              "  ..$ debug        : NULL\n",
              "  ..$ inherit.blank: logi TRUE\n",
              "  ..- attr(*, \"class\")= chr [1:2] \"element_text\" \"element\"\n",
              " $ plot.tag.position         : chr \"topleft\"\n",
              " $ plot.margin               : 'margin' num [1:4] 5.5points 5.5points 5.5points 5.5points\n",
              "  ..- attr(*, \"unit\")= int 8\n",
              " $ strip.background          :List of 5\n",
              "  ..$ fill         : chr \"white\"\n",
              "  ..$ colour       : chr \"black\"\n",
              "  ..$ size         : 'rel' num 2\n",
              "  ..$ linetype     : NULL\n",
              "  ..$ inherit.blank: logi TRUE\n",
              "  ..- attr(*, \"class\")= chr [1:2] \"element_rect\" \"element\"\n",
              " $ strip.background.x        : NULL\n",
              " $ strip.background.y        : NULL\n",
              " $ strip.placement           : chr \"inside\"\n",
              " $ strip.text                :List of 11\n",
              "  ..$ family       : NULL\n",
              "  ..$ face         : NULL\n",
              "  ..$ colour       : chr \"grey10\"\n",
              "  ..$ size         : 'rel' num 0.8\n",
              "  ..$ hjust        : NULL\n",
              "  ..$ vjust        : NULL\n",
              "  ..$ angle        : NULL\n",
              "  ..$ lineheight   : NULL\n",
              "  ..$ margin       : 'margin' num [1:4] 4.4points 4.4points 4.4points 4.4points\n",
              "  .. ..- attr(*, \"unit\")= int 8\n",
              "  ..$ debug        : NULL\n",
              "  ..$ inherit.blank: logi TRUE\n",
              "  ..- attr(*, \"class\")= chr [1:2] \"element_text\" \"element\"\n",
              " $ strip.text.x              : NULL\n",
              " $ strip.text.y              :List of 11\n",
              "  ..$ family       : NULL\n",
              "  ..$ face         : NULL\n",
              "  ..$ colour       : NULL\n",
              "  ..$ size         : NULL\n",
              "  ..$ hjust        : NULL\n",
              "  ..$ vjust        : NULL\n",
              "  ..$ angle        : num -90\n",
              "  ..$ lineheight   : NULL\n",
              "  ..$ margin       : NULL\n",
              "  ..$ debug        : NULL\n",
              "  ..$ inherit.blank: logi TRUE\n",
              "  ..- attr(*, \"class\")= chr [1:2] \"element_text\" \"element\"\n",
              " $ strip.switch.pad.grid     : 'simpleUnit' num 2.75points\n",
              "  ..- attr(*, \"unit\")= int 8\n",
              " $ strip.switch.pad.wrap     : 'simpleUnit' num 2.75points\n",
              "  ..- attr(*, \"unit\")= int 8\n",
              " $ strip.text.y.left         :List of 11\n",
              "  ..$ family       : NULL\n",
              "  ..$ face         : NULL\n",
              "  ..$ colour       : NULL\n",
              "  ..$ size         : NULL\n",
              "  ..$ hjust        : NULL\n",
              "  ..$ vjust        : NULL\n",
              "  ..$ angle        : num 90\n",
              "  ..$ lineheight   : NULL\n",
              "  ..$ margin       : NULL\n",
              "  ..$ debug        : NULL\n",
              "  ..$ inherit.blank: logi TRUE\n",
              "  ..- attr(*, \"class\")= chr [1:2] \"element_text\" \"element\"\n",
              " - attr(*, \"class\")= chr [1:2] \"theme\" \"gg\"\n",
              " - attr(*, \"complete\")= logi TRUE\n",
              " - attr(*, \"validate\")= logi TRUE"
            ]
          },
          "metadata": {},
          "output_type": "display_data"
        },
        {
          "data": {
            "image/png": "[encoded data removed]",
            "text/plain": [
              "plot without title"
            ]
          },
          "metadata": {
            "image/png": {
              "height": 420,
              "width": 420
            }
          },
          "output_type": "display_data"
        }
      ],
      "source": [
        "# Histogram with density plot separated by sex\n",
        "ggplot(Salaries, aes(x=salary, fill=sex, color=sex)) +\n",
        "    geom_histogram(aes(y=..density..), position=\"identity\", alpha=0.5,binwidth=10000)+\n",
        "    geom_density(alpha=0.6)+\n",
        "    # Add mean lines\n",
        "    geom_vline(data=mu, aes(xintercept=grp.mean, color=sex),\n",
        "                linetype=\"dashed\")+\n",
        "    # Add axes labels\n",
        "    labs(title=\"Salary histogram plot\",x=\"Salary\", y = \"Density\")+\n",
        "    theme_classic()\n",
        "\n",
        "theme_classic()\n"
      ]
    },
    {
      "cell_type": "markdown",
      "metadata": {
        "id": "Cl7Luf9JedON"
      },
      "source": [
        "The histograms can also be plotted separately as follows:"
      ]
    },
    {
      "cell_type": "code",
      "execution_count": 51,
      "metadata": {
        "id": "JhJA3ELTYhQj",
        "vscode": {
          "languageId": "r"
        }
      },
      "outputs": [
        {
          "data": {
            "image/png": "[encoded data removed]",
            "text/plain": [
              "plot without title"
            ]
          },
          "metadata": {
            "image/png": {
              "height": 420,
              "width": 420
            }
          },
          "output_type": "display_data"
        }
      ],
      "source": [
        "p<-ggplot(Salaries, aes(x=salary, fill=sex, color=sex))+\n",
        "  geom_histogram(aes(y=..density..), position=\"identity\", alpha=0.5,binwidth=10000)+\n",
        "  facet_grid(sex ~ .)\n",
        "\n",
        "# You can visualise the histograms with and without mean lines by removing the hash key in the next command line.\n",
        "# p\n",
        "\n",
        "# Add mean lines\n",
        "p+geom_vline(data=mu, aes(xintercept=grp.mean, color=\"red\"),\n",
        "             linetype=\"dashed\")"
      ]
    },
    {
      "cell_type": "markdown",
      "metadata": {
        "id": "SgwW6TwExeZq"
      },
      "source": [
        "\n",
        "## Z – tests & Confidence Intervals\n",
        "\n",
        "---\n",
        "\n",
        "Let’s now go back to comparing the datasets. A possible way to do so is by using the Z-test. Unfortunately, the basic R doesn’t have any function to perform a Z-test. However, it is possible to install packages where such a function has already been developed.  \n",
        "\n"
      ]
    },
    {
      "cell_type": "code",
      "execution_count": 52,
      "metadata": {
        "id": "SO5YD0zfygGu",
        "vscode": {
          "languageId": "r"
        }
      },
      "outputs": [
        {
          "name": "stderr",
          "output_type": "stream",
          "text": [
            "also installing the dependencies ‘proxy’, ‘e1071’\n",
            "\n",
            "\n"
          ]
        },
        {
          "name": "stdout",
          "output_type": "stream",
          "text": [
            "\n",
            "The downloaded binary packages are in\n",
            "\t/var/folders/3m/hvvbkscs3g18gqtdpjbjc7l80000gn/T//RtmpOkPg20/downloaded_packages\n"
          ]
        },
        {
          "name": "stderr",
          "output_type": "stream",
          "text": [
            "\n",
            "Attaching package: ‘BSDA’\n",
            "\n",
            "\n",
            "The following object is masked from ‘package:mosaic’:\n",
            "\n",
            "    CIsim\n",
            "\n",
            "\n",
            "The following object is masked from ‘package:mosaicData’:\n",
            "\n",
            "    Alcohol\n",
            "\n",
            "\n",
            "The following objects are masked from ‘package:carData’:\n",
            "\n",
            "    Vocab, Wool\n",
            "\n",
            "\n",
            "The following object is masked from ‘package:datasets’:\n",
            "\n",
            "    Orange\n",
            "\n",
            "\n"
          ]
        }
      ],
      "source": [
        "install.packages(\"BSDA\")\n",
        "library(BSDA)"
      ]
    },
    {
      "cell_type": "markdown",
      "metadata": {
        "id": "JvfuL1Qdelry"
      },
      "source": [
        "we can write:"
      ]
    },
    {
      "cell_type": "code",
      "execution_count": 53,
      "metadata": {
        "id": "FUaEVmSWxZU9",
        "vscode": {
          "languageId": "r"
        }
      },
      "outputs": [
        {
          "data": {
            "text/plain": [
              "\n",
              "\tTwo-sample z-Test\n",
              "\n",
              "data:  x and y\n",
              "z = 3.1615, p-value = 0.00157\n",
              "alternative hypothesis: true difference in means is not equal to 0\n",
              "95 percent confidence interval:\n",
              "  5354.112 22821.906\n",
              "sample estimates:\n",
              "mean of x mean of y \n",
              " 115090.4  101002.4 \n"
            ]
          },
          "metadata": {},
          "output_type": "display_data"
        }
      ],
      "source": [
        "z.test(x, y, alternative=\"two.sided\", mu = 0, sigma.x = sdx, sigma.y = sdy, conf.level = 0.95) "
      ]
    },
    {
      "cell_type": "markdown",
      "metadata": {
        "id": "38rzInUwbgEm"
      },
      "source": [
        "All the command written above can be put together and saved in a R code or a script. It's good practice to comment your code. All commented line in an R script must start with a #.\n"
      ]
    },
    {
      "cell_type": "markdown",
      "metadata": {
        "id": "71IODMXlfFay"
      },
      "source": [
        "### Modifying commands\n",
        "Suppose that we wish to produce a 90% Confidence Interval rather than the default 95%.\n",
        "You will just need to modify the confidence **level** conf.level (90% = 0.90) into the command as follows:\n"
      ]
    },
    {
      "cell_type": "code",
      "execution_count": 54,
      "metadata": {
        "id": "rXMOfkcibi5p",
        "vscode": {
          "languageId": "r"
        }
      },
      "outputs": [
        {
          "data": {
            "text/plain": [
              "\n",
              "\tTwo-sample z-Test\n",
              "\n",
              "data:  x and y\n",
              "z = 3.1615, p-value = 0.00157\n",
              "alternative hypothesis: true difference in means is not equal to 0\n",
              "90 percent confidence interval:\n",
              "  6758.291 21417.726\n",
              "sample estimates:\n",
              "mean of x mean of y \n",
              " 115090.4  101002.4 \n"
            ]
          },
          "metadata": {},
          "output_type": "display_data"
        }
      ],
      "source": [
        " #Here is an example of comment in a code cell\n",
        " z.test(x, y, alternative = \"two.sided\", mu = 0, sigma.x = sdx, sigma.y = sdy,conf.level = 0.90)"
      ]
    },
    {
      "cell_type": "markdown",
      "metadata": {
        "id": "xgbdN7fSxpWc"
      },
      "source": [
        "To learn more, go to the tutorial page:\n",
        "\n",
        "https://statstutorial.com/how-to-perform-a-one-sample-z-test-in-r-with-examples/"
      ]
    }
  ],
  "metadata": {
    "colab": {
      "collapsed_sections": [
        "55H-GdM5Nmsa",
        "9GxlxeNtvuRc",
        "j9wrpp-JpJWS",
        "9Kugtk9hi48Z",
        "SgwW6TwExeZq",
        "71IODMXlfFay"
      ],
      "provenance": []
    },
    "kernelspec": {
      "display_name": "Python 3.9.13 64-bit",
      "language": "python",
      "name": "python3"
    },
    "language_info": {
      "codemirror_mode": {
        "name": "ipython",
        "version": 3
      },
      "file_extension": ".py",
      "mimetype": "text/x-python",
      "name": "python",
      "nbconvert_exporter": "python",
      "pygments_lexer": "ipython3",
      "version": "3.9.13"
    },
    "vscode": {
      "interpreter": {
        "hash": "b0fa6594d8f4cbf19f97940f81e996739fb7646882a419484c72d19e05852a7e"
      }
    }
  },
  "nbformat": 4,
  "nbformat_minor": 0
}
